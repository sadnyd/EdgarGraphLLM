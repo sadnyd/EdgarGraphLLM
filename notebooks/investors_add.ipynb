{
  "nbformat": 4,
  "nbformat_minor": 0,
  "metadata": {
    "colab": {
      "provenance": [],
      "authorship_tag": "ABX9TyNZ5+cWt8THpFUWuyRSD8vW",
      "include_colab_link": true
    },
    "kernelspec": {
      "name": "python3",
      "display_name": "Python 3"
    },
    "language_info": {
      "name": "python"
    }
  },
  "cells": [
    {
      "cell_type": "markdown",
      "metadata": {
        "id": "view-in-github",
        "colab_type": "text"
      },
      "source": [
        "<a href=\"https://colab.research.google.com/github/sadnyd/EdgarGraphLLM/blob/main/notebooks/investors_add.ipynb\" target=\"_parent\"><img src=\"https://colab.research.google.com/assets/colab-badge.svg\" alt=\"Open In Colab\"/></a>"
      ]
    },
    {
      "cell_type": "code",
      "execution_count": null,
      "metadata": {
        "colab": {
          "base_uri": "https://localhost:8080/",
          "height": 1000
        },
        "id": "GfAoOu_4d13_",
        "outputId": "5b7018f1-acb7-4de2-e4c6-44fa3b2d04d2"
      },
      "outputs": [
        {
          "output_type": "stream",
          "name": "stdout",
          "text": [
            "Collecting dotenv\n",
            "  Downloading dotenv-0.9.9-py2.py3-none-any.whl.metadata (279 bytes)\n",
            "Collecting langchain_community\n",
            "  Downloading langchain_community-0.3.21-py3-none-any.whl.metadata (2.4 kB)\n",
            "Collecting neo4j\n",
            "  Downloading neo4j-5.28.1-py3-none-any.whl.metadata (5.9 kB)\n",
            "Requirement already satisfied: langchain in /usr/local/lib/python3.11/dist-packages (0.3.23)\n",
            "Collecting langchain_google_genai\n",
            "  Downloading langchain_google_genai-2.1.2-py3-none-any.whl.metadata (4.7 kB)\n",
            "Collecting python-dotenv (from dotenv)\n",
            "  Downloading python_dotenv-1.1.0-py3-none-any.whl.metadata (24 kB)\n",
            "Requirement already satisfied: langchain-core<1.0.0,>=0.3.51 in /usr/local/lib/python3.11/dist-packages (from langchain_community) (0.3.51)\n",
            "Requirement already satisfied: SQLAlchemy<3,>=1.4 in /usr/local/lib/python3.11/dist-packages (from langchain_community) (2.0.40)\n",
            "Requirement already satisfied: requests<3,>=2 in /usr/local/lib/python3.11/dist-packages (from langchain_community) (2.32.3)\n",
            "Requirement already satisfied: PyYAML>=5.3 in /usr/local/lib/python3.11/dist-packages (from langchain_community) (6.0.2)\n",
            "Requirement already satisfied: aiohttp<4.0.0,>=3.8.3 in /usr/local/lib/python3.11/dist-packages (from langchain_community) (3.11.15)\n",
            "Requirement already satisfied: tenacity!=8.4.0,<10,>=8.1.0 in /usr/local/lib/python3.11/dist-packages (from langchain_community) (9.1.2)\n",
            "Collecting dataclasses-json<0.7,>=0.5.7 (from langchain_community)\n",
            "  Downloading dataclasses_json-0.6.7-py3-none-any.whl.metadata (25 kB)\n",
            "Collecting pydantic-settings<3.0.0,>=2.4.0 (from langchain_community)\n",
            "  Downloading pydantic_settings-2.8.1-py3-none-any.whl.metadata (3.5 kB)\n",
            "Requirement already satisfied: langsmith<0.4,>=0.1.125 in /usr/local/lib/python3.11/dist-packages (from langchain_community) (0.3.28)\n",
            "Collecting httpx-sse<1.0.0,>=0.4.0 (from langchain_community)\n",
            "  Downloading httpx_sse-0.4.0-py3-none-any.whl.metadata (9.0 kB)\n",
            "Requirement already satisfied: numpy<3,>=1.26.2 in /usr/local/lib/python3.11/dist-packages (from langchain_community) (2.0.2)\n",
            "Requirement already satisfied: pytz in /usr/local/lib/python3.11/dist-packages (from neo4j) (2025.2)\n",
            "Requirement already satisfied: langchain-text-splitters<1.0.0,>=0.3.8 in /usr/local/lib/python3.11/dist-packages (from langchain) (0.3.8)\n",
            "Requirement already satisfied: pydantic<3.0.0,>=2.7.4 in /usr/local/lib/python3.11/dist-packages (from langchain) (2.11.3)\n",
            "Collecting filetype<2.0.0,>=1.2.0 (from langchain_google_genai)\n",
            "  Downloading filetype-1.2.0-py2.py3-none-any.whl.metadata (6.5 kB)\n",
            "Collecting google-ai-generativelanguage<0.7.0,>=0.6.16 (from langchain_google_genai)\n",
            "  Downloading google_ai_generativelanguage-0.6.17-py3-none-any.whl.metadata (9.8 kB)\n",
            "Requirement already satisfied: aiohappyeyeballs>=2.3.0 in /usr/local/lib/python3.11/dist-packages (from aiohttp<4.0.0,>=3.8.3->langchain_community) (2.6.1)\n",
            "Requirement already satisfied: aiosignal>=1.1.2 in /usr/local/lib/python3.11/dist-packages (from aiohttp<4.0.0,>=3.8.3->langchain_community) (1.3.2)\n",
            "Requirement already satisfied: attrs>=17.3.0 in /usr/local/lib/python3.11/dist-packages (from aiohttp<4.0.0,>=3.8.3->langchain_community) (25.3.0)\n",
            "Requirement already satisfied: frozenlist>=1.1.1 in /usr/local/lib/python3.11/dist-packages (from aiohttp<4.0.0,>=3.8.3->langchain_community) (1.5.0)\n",
            "Requirement already satisfied: multidict<7.0,>=4.5 in /usr/local/lib/python3.11/dist-packages (from aiohttp<4.0.0,>=3.8.3->langchain_community) (6.4.2)\n",
            "Requirement already satisfied: propcache>=0.2.0 in /usr/local/lib/python3.11/dist-packages (from aiohttp<4.0.0,>=3.8.3->langchain_community) (0.3.1)\n",
            "Requirement already satisfied: yarl<2.0,>=1.17.0 in /usr/local/lib/python3.11/dist-packages (from aiohttp<4.0.0,>=3.8.3->langchain_community) (1.19.0)\n",
            "Collecting marshmallow<4.0.0,>=3.18.0 (from dataclasses-json<0.7,>=0.5.7->langchain_community)\n",
            "  Downloading marshmallow-3.26.1-py3-none-any.whl.metadata (7.3 kB)\n",
            "Collecting typing-inspect<1,>=0.4.0 (from dataclasses-json<0.7,>=0.5.7->langchain_community)\n",
            "  Downloading typing_inspect-0.9.0-py3-none-any.whl.metadata (1.5 kB)\n",
            "Requirement already satisfied: google-api-core!=2.0.*,!=2.1.*,!=2.10.*,!=2.2.*,!=2.3.*,!=2.4.*,!=2.5.*,!=2.6.*,!=2.7.*,!=2.8.*,!=2.9.*,<3.0.0,>=1.34.1 in /usr/local/lib/python3.11/dist-packages (from google-api-core[grpc]!=2.0.*,!=2.1.*,!=2.10.*,!=2.2.*,!=2.3.*,!=2.4.*,!=2.5.*,!=2.6.*,!=2.7.*,!=2.8.*,!=2.9.*,<3.0.0,>=1.34.1->google-ai-generativelanguage<0.7.0,>=0.6.16->langchain_google_genai) (2.24.2)\n",
            "Requirement already satisfied: google-auth!=2.24.0,!=2.25.0,<3.0.0,>=2.14.1 in /usr/local/lib/python3.11/dist-packages (from google-ai-generativelanguage<0.7.0,>=0.6.16->langchain_google_genai) (2.38.0)\n",
            "Requirement already satisfied: proto-plus<2.0.0,>=1.22.3 in /usr/local/lib/python3.11/dist-packages (from google-ai-generativelanguage<0.7.0,>=0.6.16->langchain_google_genai) (1.26.1)\n",
            "Requirement already satisfied: protobuf!=4.21.0,!=4.21.1,!=4.21.2,!=4.21.3,!=4.21.4,!=4.21.5,<7.0.0,>=3.20.2 in /usr/local/lib/python3.11/dist-packages (from google-ai-generativelanguage<0.7.0,>=0.6.16->langchain_google_genai) (5.29.4)\n",
            "Requirement already satisfied: jsonpatch<2.0,>=1.33 in /usr/local/lib/python3.11/dist-packages (from langchain-core<1.0.0,>=0.3.51->langchain_community) (1.33)\n",
            "Requirement already satisfied: packaging<25,>=23.2 in /usr/local/lib/python3.11/dist-packages (from langchain-core<1.0.0,>=0.3.51->langchain_community) (24.2)\n",
            "Requirement already satisfied: typing-extensions>=4.7 in /usr/local/lib/python3.11/dist-packages (from langchain-core<1.0.0,>=0.3.51->langchain_community) (4.13.1)\n",
            "Requirement already satisfied: httpx<1,>=0.23.0 in /usr/local/lib/python3.11/dist-packages (from langsmith<0.4,>=0.1.125->langchain_community) (0.28.1)\n",
            "Requirement already satisfied: orjson<4.0.0,>=3.9.14 in /usr/local/lib/python3.11/dist-packages (from langsmith<0.4,>=0.1.125->langchain_community) (3.10.16)\n",
            "Requirement already satisfied: requests-toolbelt<2.0.0,>=1.0.0 in /usr/local/lib/python3.11/dist-packages (from langsmith<0.4,>=0.1.125->langchain_community) (1.0.0)\n",
            "Requirement already satisfied: zstandard<0.24.0,>=0.23.0 in /usr/local/lib/python3.11/dist-packages (from langsmith<0.4,>=0.1.125->langchain_community) (0.23.0)\n",
            "Requirement already satisfied: annotated-types>=0.6.0 in /usr/local/lib/python3.11/dist-packages (from pydantic<3.0.0,>=2.7.4->langchain) (0.7.0)\n",
            "Requirement already satisfied: pydantic-core==2.33.1 in /usr/local/lib/python3.11/dist-packages (from pydantic<3.0.0,>=2.7.4->langchain) (2.33.1)\n",
            "Requirement already satisfied: typing-inspection>=0.4.0 in /usr/local/lib/python3.11/dist-packages (from pydantic<3.0.0,>=2.7.4->langchain) (0.4.0)\n",
            "Requirement already satisfied: charset-normalizer<4,>=2 in /usr/local/lib/python3.11/dist-packages (from requests<3,>=2->langchain_community) (3.4.1)\n",
            "Requirement already satisfied: idna<4,>=2.5 in /usr/local/lib/python3.11/dist-packages (from requests<3,>=2->langchain_community) (3.10)\n",
            "Requirement already satisfied: urllib3<3,>=1.21.1 in /usr/local/lib/python3.11/dist-packages (from requests<3,>=2->langchain_community) (2.3.0)\n",
            "Requirement already satisfied: certifi>=2017.4.17 in /usr/local/lib/python3.11/dist-packages (from requests<3,>=2->langchain_community) (2025.1.31)\n",
            "Requirement already satisfied: greenlet>=1 in /usr/local/lib/python3.11/dist-packages (from SQLAlchemy<3,>=1.4->langchain_community) (3.1.1)\n",
            "Requirement already satisfied: googleapis-common-protos<2.0.0,>=1.56.2 in /usr/local/lib/python3.11/dist-packages (from google-api-core!=2.0.*,!=2.1.*,!=2.10.*,!=2.2.*,!=2.3.*,!=2.4.*,!=2.5.*,!=2.6.*,!=2.7.*,!=2.8.*,!=2.9.*,<3.0.0,>=1.34.1->google-api-core[grpc]!=2.0.*,!=2.1.*,!=2.10.*,!=2.2.*,!=2.3.*,!=2.4.*,!=2.5.*,!=2.6.*,!=2.7.*,!=2.8.*,!=2.9.*,<3.0.0,>=1.34.1->google-ai-generativelanguage<0.7.0,>=0.6.16->langchain_google_genai) (1.69.2)\n",
            "Requirement already satisfied: grpcio<2.0dev,>=1.33.2 in /usr/local/lib/python3.11/dist-packages (from google-api-core[grpc]!=2.0.*,!=2.1.*,!=2.10.*,!=2.2.*,!=2.3.*,!=2.4.*,!=2.5.*,!=2.6.*,!=2.7.*,!=2.8.*,!=2.9.*,<3.0.0,>=1.34.1->google-ai-generativelanguage<0.7.0,>=0.6.16->langchain_google_genai) (1.71.0)\n",
            "Requirement already satisfied: grpcio-status<2.0.dev0,>=1.33.2 in /usr/local/lib/python3.11/dist-packages (from google-api-core[grpc]!=2.0.*,!=2.1.*,!=2.10.*,!=2.2.*,!=2.3.*,!=2.4.*,!=2.5.*,!=2.6.*,!=2.7.*,!=2.8.*,!=2.9.*,<3.0.0,>=1.34.1->google-ai-generativelanguage<0.7.0,>=0.6.16->langchain_google_genai) (1.71.0)\n",
            "Requirement already satisfied: cachetools<6.0,>=2.0.0 in /usr/local/lib/python3.11/dist-packages (from google-auth!=2.24.0,!=2.25.0,<3.0.0,>=2.14.1->google-ai-generativelanguage<0.7.0,>=0.6.16->langchain_google_genai) (5.5.2)\n",
            "Requirement already satisfied: pyasn1-modules>=0.2.1 in /usr/local/lib/python3.11/dist-packages (from google-auth!=2.24.0,!=2.25.0,<3.0.0,>=2.14.1->google-ai-generativelanguage<0.7.0,>=0.6.16->langchain_google_genai) (0.4.2)\n",
            "Requirement already satisfied: rsa<5,>=3.1.4 in /usr/local/lib/python3.11/dist-packages (from google-auth!=2.24.0,!=2.25.0,<3.0.0,>=2.14.1->google-ai-generativelanguage<0.7.0,>=0.6.16->langchain_google_genai) (4.9)\n",
            "Requirement already satisfied: anyio in /usr/local/lib/python3.11/dist-packages (from httpx<1,>=0.23.0->langsmith<0.4,>=0.1.125->langchain_community) (4.9.0)\n",
            "Requirement already satisfied: httpcore==1.* in /usr/local/lib/python3.11/dist-packages (from httpx<1,>=0.23.0->langsmith<0.4,>=0.1.125->langchain_community) (1.0.7)\n",
            "Requirement already satisfied: h11<0.15,>=0.13 in /usr/local/lib/python3.11/dist-packages (from httpcore==1.*->httpx<1,>=0.23.0->langsmith<0.4,>=0.1.125->langchain_community) (0.14.0)\n",
            "Requirement already satisfied: jsonpointer>=1.9 in /usr/local/lib/python3.11/dist-packages (from jsonpatch<2.0,>=1.33->langchain-core<1.0.0,>=0.3.51->langchain_community) (3.0.0)\n",
            "Collecting mypy-extensions>=0.3.0 (from typing-inspect<1,>=0.4.0->dataclasses-json<0.7,>=0.5.7->langchain_community)\n",
            "  Downloading mypy_extensions-1.0.0-py3-none-any.whl.metadata (1.1 kB)\n",
            "Requirement already satisfied: pyasn1<0.7.0,>=0.6.1 in /usr/local/lib/python3.11/dist-packages (from pyasn1-modules>=0.2.1->google-auth!=2.24.0,!=2.25.0,<3.0.0,>=2.14.1->google-ai-generativelanguage<0.7.0,>=0.6.16->langchain_google_genai) (0.6.1)\n",
            "Requirement already satisfied: sniffio>=1.1 in /usr/local/lib/python3.11/dist-packages (from anyio->httpx<1,>=0.23.0->langsmith<0.4,>=0.1.125->langchain_community) (1.3.1)\n",
            "Downloading dotenv-0.9.9-py2.py3-none-any.whl (1.9 kB)\n",
            "Downloading langchain_community-0.3.21-py3-none-any.whl (2.5 MB)\n",
            "\u001b[2K   \u001b[90m━━━━━━━━━━━━━━━━━━━━━━━━━━━━━━━━━━━━━━━━\u001b[0m \u001b[32m2.5/2.5 MB\u001b[0m \u001b[31m16.8 MB/s\u001b[0m eta \u001b[36m0:00:00\u001b[0m\n",
            "\u001b[?25hDownloading neo4j-5.28.1-py3-none-any.whl (312 kB)\n",
            "\u001b[2K   \u001b[90m━━━━━━━━━━━━━━━━━━━━━━━━━━━━━━━━━━━━━━━━\u001b[0m \u001b[32m312.3/312.3 kB\u001b[0m \u001b[31m11.2 MB/s\u001b[0m eta \u001b[36m0:00:00\u001b[0m\n",
            "\u001b[?25hDownloading langchain_google_genai-2.1.2-py3-none-any.whl (42 kB)\n",
            "\u001b[2K   \u001b[90m━━━━━━━━━━━━━━━━━━━━━━━━━━━━━━━━━━━━━━━━\u001b[0m \u001b[32m42.0/42.0 kB\u001b[0m \u001b[31m3.2 MB/s\u001b[0m eta \u001b[36m0:00:00\u001b[0m\n",
            "\u001b[?25hDownloading dataclasses_json-0.6.7-py3-none-any.whl (28 kB)\n",
            "Downloading filetype-1.2.0-py2.py3-none-any.whl (19 kB)\n",
            "Downloading google_ai_generativelanguage-0.6.17-py3-none-any.whl (1.4 MB)\n",
            "\u001b[2K   \u001b[90m━━━━━━━━━━━━━━━━━━━━━━━━━━━━━━━━━━━━━━━━\u001b[0m \u001b[32m1.4/1.4 MB\u001b[0m \u001b[31m21.5 MB/s\u001b[0m eta \u001b[36m0:00:00\u001b[0m\n",
            "\u001b[?25hDownloading httpx_sse-0.4.0-py3-none-any.whl (7.8 kB)\n",
            "Downloading pydantic_settings-2.8.1-py3-none-any.whl (30 kB)\n",
            "Downloading python_dotenv-1.1.0-py3-none-any.whl (20 kB)\n",
            "Downloading marshmallow-3.26.1-py3-none-any.whl (50 kB)\n",
            "\u001b[2K   \u001b[90m━━━━━━━━━━━━━━━━━━━━━━━━━━━━━━━━━━━━━━━━\u001b[0m \u001b[32m50.9/50.9 kB\u001b[0m \u001b[31m3.7 MB/s\u001b[0m eta \u001b[36m0:00:00\u001b[0m\n",
            "\u001b[?25hDownloading typing_inspect-0.9.0-py3-none-any.whl (8.8 kB)\n",
            "Downloading mypy_extensions-1.0.0-py3-none-any.whl (4.7 kB)\n",
            "Installing collected packages: filetype, python-dotenv, neo4j, mypy-extensions, marshmallow, httpx-sse, typing-inspect, dotenv, pydantic-settings, dataclasses-json, google-ai-generativelanguage, langchain_google_genai, langchain_community\n",
            "  Attempting uninstall: google-ai-generativelanguage\n",
            "    Found existing installation: google-ai-generativelanguage 0.6.15\n",
            "    Uninstalling google-ai-generativelanguage-0.6.15:\n",
            "      Successfully uninstalled google-ai-generativelanguage-0.6.15\n",
            "\u001b[31mERROR: pip's dependency resolver does not currently take into account all the packages that are installed. This behaviour is the source of the following dependency conflicts.\n",
            "google-generativeai 0.8.4 requires google-ai-generativelanguage==0.6.15, but you have google-ai-generativelanguage 0.6.17 which is incompatible.\u001b[0m\u001b[31m\n",
            "\u001b[0mSuccessfully installed dataclasses-json-0.6.7 dotenv-0.9.9 filetype-1.2.0 google-ai-generativelanguage-0.6.17 httpx-sse-0.4.0 langchain_community-0.3.21 langchain_google_genai-2.1.2 marshmallow-3.26.1 mypy-extensions-1.0.0 neo4j-5.28.1 pydantic-settings-2.8.1 python-dotenv-1.1.0 typing-inspect-0.9.0\n"
          ]
        },
        {
          "output_type": "display_data",
          "data": {
            "application/vnd.colab-display-data+json": {
              "pip_warning": {
                "packages": [
                  "google"
                ]
              },
              "id": "5c4a49c8543a4aef94fea073fe1615b5"
            }
          },
          "metadata": {}
        }
      ],
      "source": [
        "!pip install dotenv langchain_community neo4j langchain langchain_google_genai"
      ]
    },
    {
      "cell_type": "code",
      "source": [
        "# Common data processing\n",
        "from google.colab import userdata\n",
        "import json\n",
        "import textwrap\n",
        "import warnings\n",
        "warnings.filterwarnings(\"ignore\")\n",
        "# LangChain\n",
        "from langchain_community.graphs import Neo4jGraph\n",
        "from langchain_community.vectorstores import Neo4jVector\n",
        "from langchain_google_genai import GoogleGenerativeAIEmbeddings  # Gemini Embeddings\n",
        "from langchain.text_splitter import RecursiveCharacterTextSplitter\n",
        "from langchain.chains import RetrievalQAWithSourcesChain\n",
        "from langchain_google_genai import ChatGoogleGenerativeAI        # Gemini Chat"
      ],
      "metadata": {
        "id": "oZMZm5QGeA6w"
      },
      "execution_count": null,
      "outputs": []
    },
    {
      "cell_type": "code",
      "source": [
        "# Load from Colab userdata\n",
        "NEO4J_URI = userdata.get('EDGAR_URI')\n",
        "NEO4J_USERNAME = userdata.get('EDGAR_USERNAME')\n",
        "NEO4J_PASSWORD = userdata.get('EDGAR_PASSWORD')\n",
        "NEO4J_DATABASE = userdata.get('EDGAR_DATABASE')\n",
        "GEMINI_API_KEY = userdata.get('gemini')\n",
        "GEMINI_ENDPOINT = 'https://generativelanguage.googleapis.com/v1beta/models/text-embedding-004:embedText'"
      ],
      "metadata": {
        "id": "hhwkAUxJeDz4"
      },
      "execution_count": null,
      "outputs": []
    },
    {
      "cell_type": "code",
      "source": [
        "# Global constants\n",
        "VECTOR_INDEX_NAME = 'form_10k_chunks'\n",
        "VECTOR_NODE_LABEL = 'Chunk'\n",
        "VECTOR_SOURCE_PROPERTY = 'text'\n",
        "VECTOR_EMBEDDING_PROPERTY = 'textEmbedding'"
      ],
      "metadata": {
        "id": "jM5_mxeNeHE2"
      },
      "execution_count": null,
      "outputs": []
    },
    {
      "cell_type": "code",
      "source": [
        "kg = Neo4jGraph(\n",
        "    url=NEO4J_URI,\n",
        "    username=NEO4J_USERNAME,\n",
        "    password=NEO4J_PASSWORD,\n",
        "    database=NEO4J_DATABASE\n",
        ")"
      ],
      "metadata": {
        "colab": {
          "base_uri": "https://localhost:8080/"
        },
        "id": "blLhdUbeeh_V",
        "outputId": "7a255d04-21b4-4f99-bd14-5e66bc873d60"
      },
      "execution_count": null,
      "outputs": [
        {
          "output_type": "stream",
          "name": "stderr",
          "text": [
            "<ipython-input-6-15ba7034caff>:1: LangChainDeprecationWarning: The class `Neo4jGraph` was deprecated in LangChain 0.3.8 and will be removed in 1.0. An updated version of the class exists in the :class:`~langchain-neo4j package and should be used instead. To use it run `pip install -U :class:`~langchain-neo4j` and import as `from :class:`~langchain_neo4j import Neo4jGraph``.\n",
            "  kg = Neo4jGraph(\n"
          ]
        }
      ]
    },
    {
      "cell_type": "code",
      "source": [
        "import csv\n",
        "\n",
        "all_form13s = []\n",
        "\n",
        "with open('./form13.csv', mode='r') as csv_file:\n",
        "    csv_reader = csv.DictReader(csv_file)\n",
        "    for row in csv_reader: # each row will be a dictionary\n",
        "      all_form13s.append(row)"
      ],
      "metadata": {
        "id": "3-vZrrZbekGr"
      },
      "execution_count": null,
      "outputs": []
    },
    {
      "cell_type": "code",
      "source": [
        "all_form13s[0:5]"
      ],
      "metadata": {
        "colab": {
          "base_uri": "https://localhost:8080/"
        },
        "id": "i5ej50UAe2Q1",
        "outputId": "beeda166-94bd-4f07-ed5d-31100f0bdb95"
      },
      "execution_count": null,
      "outputs": [
        {
          "output_type": "execute_result",
          "data": {
            "text/plain": [
              "[{'source': 'https://sec.gov/Archives/edgar/data/1000275/0001140361-23-039575.txt',\n",
              "  'managerCik': '1000275',\n",
              "  'managerAddress': 'ROYAL BANK PLAZA, 200 BAY STREET, TORONTO, A6, M5J2J5',\n",
              "  'managerName': 'Royal Bank of Canada',\n",
              "  'reportCalendarOrQuarter': '2023-06-30',\n",
              "  'cusip6': '64110D',\n",
              "  'cusip': '64110D104',\n",
              "  'companyName': 'NETAPP INC',\n",
              "  'value': '64395000000.0',\n",
              "  'shares': '842850'},\n",
              " {'source': 'https://sec.gov/Archives/edgar/data/1002784/0001387131-23-009542.txt',\n",
              "  'managerCik': '1002784',\n",
              "  'managerAddress': '1875 Lawrence Street, Suite 300, Denver, CO, 80202-1805',\n",
              "  'managerName': 'SHELTON CAPITAL MANAGEMENT',\n",
              "  'reportCalendarOrQuarter': '2023-06-30',\n",
              "  'cusip6': '64110D',\n",
              "  'cusip': '64110D104',\n",
              "  'companyName': 'NETAPP INC',\n",
              "  'value': '2989085000.0',\n",
              "  'shares': '39124'},\n",
              " {'source': 'https://sec.gov/Archives/edgar/data/1007280/0001007280-23-000008.txt',\n",
              "  'managerCik': '1007280',\n",
              "  'managerAddress': '277 E TOWN ST, COLUMBUS, OH, 43215',\n",
              "  'managerName': 'PUBLIC EMPLOYEES RETIREMENT SYSTEM OF OHIO',\n",
              "  'reportCalendarOrQuarter': '2023-06-30',\n",
              "  'cusip6': '64110D',\n",
              "  'cusip': '64110D104',\n",
              "  'companyName': 'Netapp Inc',\n",
              "  'value': '8170000.0',\n",
              "  'shares': '106941'},\n",
              " {'source': 'https://sec.gov/Archives/edgar/data/1007399/0001007399-23-000004.txt',\n",
              "  'managerCik': '1007399',\n",
              "  'managerAddress': '150 WEST MAIN STREET, SUITE 1700, NORFOLK, VA, 23510',\n",
              "  'managerName': 'WILBANKS SMITH & THOMAS ASSET MANAGEMENT LLC',\n",
              "  'reportCalendarOrQuarter': '2023-06-30',\n",
              "  'cusip6': '64110D',\n",
              "  'cusip': '64110D104',\n",
              "  'companyName': 'NETAPP INC',\n",
              "  'value': '505539000.0',\n",
              "  'shares': '6617'},\n",
              " {'source': 'https://sec.gov/Archives/edgar/data/1008894/0001172661-23-003025.txt',\n",
              "  'managerCik': '1008894',\n",
              "  'managerAddress': '250 Park Avenue South, Suite 250, Winter Park, FL, 32789',\n",
              "  'managerName': 'DEPRINCE RACE & ZOLLO INC',\n",
              "  'reportCalendarOrQuarter': '2023-06-30',\n",
              "  'cusip6': '64110D',\n",
              "  'cusip': '64110D104',\n",
              "  'companyName': 'NETAPP INC',\n",
              "  'value': '24492389000.0',\n",
              "  'shares': '320581'}]"
            ]
          },
          "metadata": {},
          "execution_count": 8
        }
      ]
    },
    {
      "cell_type": "code",
      "source": [
        "len(all_form13s)"
      ],
      "metadata": {
        "colab": {
          "base_uri": "https://localhost:8080/"
        },
        "id": "V6O3PlqQe5Ln",
        "outputId": "8fec5deb-bedd-4e01-90d2-87ea9bb1f0cb"
      },
      "execution_count": null,
      "outputs": [
        {
          "output_type": "execute_result",
          "data": {
            "text/plain": [
              "561"
            ]
          },
          "metadata": {},
          "execution_count": 9
        }
      ]
    },
    {
      "cell_type": "code",
      "source": [
        "# work with just the first form fow now\n",
        "first_form13 = all_form13s[0]\n",
        "\n",
        "cypher = \"\"\"\n",
        "MERGE (com:Company {cusip6: $cusip6})\n",
        "  ON CREATE\n",
        "    SET com.companyName = $companyName,\n",
        "        com.cusip = $cusip\n",
        "\"\"\"\n",
        "\n",
        "kg.query(cypher, params={\n",
        "    'cusip6':first_form13['cusip6'],\n",
        "    'companyName':first_form13['companyName'],\n",
        "    'cusip':first_form13['cusip']\n",
        "})"
      ],
      "metadata": {
        "colab": {
          "base_uri": "https://localhost:8080/"
        },
        "id": "pjD7njZOe7vE",
        "outputId": "ae611b3a-b5f0-4961-e6fc-934f70728e90"
      },
      "execution_count": null,
      "outputs": [
        {
          "output_type": "execute_result",
          "data": {
            "text/plain": [
              "[]"
            ]
          },
          "metadata": {},
          "execution_count": 10
        }
      ]
    },
    {
      "cell_type": "code",
      "source": [
        "cypher = \"\"\"\n",
        "MATCH (com:Company)\n",
        "RETURN com LIMIT 1\n",
        "\"\"\"\n",
        "\n",
        "kg.query(cypher)"
      ],
      "metadata": {
        "colab": {
          "base_uri": "https://localhost:8080/"
        },
        "id": "rJ8b7VDie9Tc",
        "outputId": "ee0ab566-086c-4650-f008-07eebf65af0d"
      },
      "execution_count": null,
      "outputs": [
        {
          "output_type": "execute_result",
          "data": {
            "text/plain": [
              "[{'com': {'cusip': '64110D104',\n",
              "   'companyName': 'NETAPP INC',\n",
              "   'cusip6': '64110D'}}]"
            ]
          },
          "metadata": {},
          "execution_count": 11
        }
      ]
    },
    {
      "cell_type": "code",
      "source": [
        "cypher = \"\"\"\n",
        "  MATCH (com:Company), (form:Form)\n",
        "    WHERE com.cusip6 = form.cusip6\n",
        "  RETURN com.companyName, form.names\n",
        "\"\"\"\n",
        "\n",
        "kg.query(cypher)"
      ],
      "metadata": {
        "colab": {
          "base_uri": "https://localhost:8080/"
        },
        "id": "42JzN5eKfBIX",
        "outputId": "a62cde4d-7695-4c46-c7fd-ddb932ccd5cb"
      },
      "execution_count": null,
      "outputs": [
        {
          "output_type": "execute_result",
          "data": {
            "text/plain": [
              "[{'com.companyName': 'NETAPP INC', 'form.names': ['Netapp Inc', 'NETAPP INC']}]"
            ]
          },
          "metadata": {},
          "execution_count": 12
        }
      ]
    },
    {
      "cell_type": "code",
      "source": [
        "cypher = \"\"\"\n",
        "  MATCH (com:Company), (form:Form)\n",
        "    WHERE com.cusip6 = form.cusip6\n",
        "  SET com.names = form.names\n",
        "\"\"\"\n",
        "\n",
        "kg.query(cypher)"
      ],
      "metadata": {
        "colab": {
          "base_uri": "https://localhost:8080/"
        },
        "id": "RhpTLtsFfHP2",
        "outputId": "a0413861-8828-4307-bbbe-8d74cc92b0b5"
      },
      "execution_count": null,
      "outputs": [
        {
          "output_type": "execute_result",
          "data": {
            "text/plain": [
              "[]"
            ]
          },
          "metadata": {},
          "execution_count": 13
        }
      ]
    },
    {
      "cell_type": "code",
      "source": [
        "kg.query(\"\"\"\n",
        "  MATCH (com:Company), (form:Form)\n",
        "    WHERE com.cusip6 = form.cusip6\n",
        "  MERGE (com)-[:FILED]->(form)\n",
        "\"\"\")\n"
      ],
      "metadata": {
        "colab": {
          "base_uri": "https://localhost:8080/"
        },
        "id": "wIyWC1VpfI1u",
        "outputId": "61067879-3c79-486b-dade-ae341c7e6e72"
      },
      "execution_count": null,
      "outputs": [
        {
          "output_type": "execute_result",
          "data": {
            "text/plain": [
              "[]"
            ]
          },
          "metadata": {},
          "execution_count": 14
        }
      ]
    },
    {
      "cell_type": "code",
      "source": [
        "cypher = \"\"\"\n",
        "  MERGE (mgr:Manager {managerCik: $managerParam.managerCik})\n",
        "    ON CREATE\n",
        "        SET mgr.managerName = $managerParam.managerName,\n",
        "            mgr.managerAddress = $managerParam.managerAddress\n",
        "\"\"\"\n",
        "\n",
        "kg.query(cypher, params={'managerParam': first_form13})"
      ],
      "metadata": {
        "colab": {
          "base_uri": "https://localhost:8080/"
        },
        "id": "a_I-77UlfKj0",
        "outputId": "c8a6805f-a8a2-4155-c0fa-2d44d29ed03b"
      },
      "execution_count": null,
      "outputs": [
        {
          "output_type": "execute_result",
          "data": {
            "text/plain": [
              "[]"
            ]
          },
          "metadata": {},
          "execution_count": 15
        }
      ]
    },
    {
      "cell_type": "code",
      "source": [
        "kg.query(\"\"\"\n",
        "  MATCH (mgr:Manager)\n",
        "  RETURN mgr LIMIT 1\n",
        "\"\"\")"
      ],
      "metadata": {
        "colab": {
          "base_uri": "https://localhost:8080/"
        },
        "id": "DtSdaJYxfMsD",
        "outputId": "bc86cea5-dc11-48c2-c2f3-4065559b14ca"
      },
      "execution_count": null,
      "outputs": [
        {
          "output_type": "execute_result",
          "data": {
            "text/plain": [
              "[{'mgr': {'managerCik': '1000275',\n",
              "   'managerAddress': 'ROYAL BANK PLAZA, 200 BAY STREET, TORONTO, A6, M5J2J5',\n",
              "   'managerName': 'Royal Bank of Canada'}}]"
            ]
          },
          "metadata": {},
          "execution_count": 16
        }
      ]
    },
    {
      "cell_type": "code",
      "source": [
        "kg.query(\"\"\"\n",
        "CREATE CONSTRAINT unique_manager\n",
        "  IF NOT EXISTS\n",
        "  FOR (n:Manager)\n",
        "  REQUIRE n.managerCik IS UNIQUE\n",
        "\"\"\")"
      ],
      "metadata": {
        "colab": {
          "base_uri": "https://localhost:8080/"
        },
        "id": "IhfODgDnfO7t",
        "outputId": "e1ed4925-4dd3-440e-a74b-ed76ba84801a"
      },
      "execution_count": null,
      "outputs": [
        {
          "output_type": "execute_result",
          "data": {
            "text/plain": [
              "[]"
            ]
          },
          "metadata": {},
          "execution_count": 17
        }
      ]
    },
    {
      "cell_type": "code",
      "source": [
        "kg.query(\"\"\"\n",
        "CREATE FULLTEXT INDEX fullTextManagerNames\n",
        "  IF NOT EXISTS\n",
        "  FOR (mgr:Manager)\n",
        "  ON EACH [mgr.managerName]\n",
        "\"\"\")\n"
      ],
      "metadata": {
        "colab": {
          "base_uri": "https://localhost:8080/"
        },
        "id": "qYFBWmhEfR8B",
        "outputId": "04724d29-af6d-4024-edf9-d93985bcf8eb"
      },
      "execution_count": null,
      "outputs": [
        {
          "output_type": "execute_result",
          "data": {
            "text/plain": [
              "[]"
            ]
          },
          "metadata": {},
          "execution_count": 18
        }
      ]
    },
    {
      "cell_type": "code",
      "source": [
        "kg.query(\"\"\"\n",
        "  CALL db.index.fulltext.queryNodes(\"fullTextManagerNames\",\n",
        "      \"royal bank\") YIELD node, score\n",
        "  RETURN node.managerName, score\n",
        "\"\"\")"
      ],
      "metadata": {
        "colab": {
          "base_uri": "https://localhost:8080/"
        },
        "id": "edpDzbW0fTzK",
        "outputId": "0962022e-b745-4074-c969-681514f97d91"
      },
      "execution_count": null,
      "outputs": [
        {
          "output_type": "execute_result",
          "data": {
            "text/plain": [
              "[{'node.managerName': 'Royal Bank of Canada', 'score': 0.2615291476249695}]"
            ]
          },
          "metadata": {},
          "execution_count": 19
        }
      ]
    },
    {
      "cell_type": "code",
      "source": [
        "cypher = \"\"\"\n",
        "  MERGE (mgr:Manager {managerCik: $managerParam.managerCik})\n",
        "    ON CREATE\n",
        "        SET mgr.managerName = $managerParam.managerName,\n",
        "            mgr.managerAddress = $managerParam.managerAddress\n",
        "\"\"\"\n",
        "# loop through all Form 13s\n",
        "for form13 in all_form13s:\n",
        "  kg.query(cypher, params={'managerParam': form13 })"
      ],
      "metadata": {
        "id": "OMLEOz3QfVhG"
      },
      "execution_count": null,
      "outputs": []
    },
    {
      "cell_type": "code",
      "source": [
        "kg.query(\"\"\"\n",
        "    MATCH (mgr:Manager)\n",
        "    RETURN count(mgr)\n",
        "\"\"\")"
      ],
      "metadata": {
        "colab": {
          "base_uri": "https://localhost:8080/"
        },
        "id": "MeWvxng6fXOH",
        "outputId": "e4a1f2f3-9cd1-4e78-8ee6-0c2c3ed18552"
      },
      "execution_count": null,
      "outputs": [
        {
          "output_type": "execute_result",
          "data": {
            "text/plain": [
              "[{'count(mgr)': 561}]"
            ]
          },
          "metadata": {},
          "execution_count": 21
        }
      ]
    },
    {
      "cell_type": "code",
      "source": [
        "cypher = \"\"\"\n",
        "  MATCH (mgr:Manager {managerCik: $investmentParam.managerCik}),\n",
        "        (com:Company {cusip6: $investmentParam.cusip6})\n",
        "  RETURN mgr.managerName, com.companyName, $investmentParam as investment\n",
        "\"\"\"\n",
        "\n",
        "kg.query(cypher, params={\n",
        "    'investmentParam': first_form13\n",
        "})"
      ],
      "metadata": {
        "colab": {
          "base_uri": "https://localhost:8080/"
        },
        "id": "H1DQvxmafe7J",
        "outputId": "bb70ad09-8a2d-4af6-b17a-124e362520ad"
      },
      "execution_count": null,
      "outputs": [
        {
          "output_type": "execute_result",
          "data": {
            "text/plain": [
              "[{'mgr.managerName': 'Royal Bank of Canada',\n",
              "  'com.companyName': 'NETAPP INC',\n",
              "  'investment': {'shares': '842850',\n",
              "   'source': 'https://sec.gov/Archives/edgar/data/1000275/0001140361-23-039575.txt',\n",
              "   'managerName': 'Royal Bank of Canada',\n",
              "   'managerAddress': 'ROYAL BANK PLAZA, 200 BAY STREET, TORONTO, A6, M5J2J5',\n",
              "   'value': '64395000000.0',\n",
              "   'cusip6': '64110D',\n",
              "   'cusip': '64110D104',\n",
              "   'reportCalendarOrQuarter': '2023-06-30',\n",
              "   'companyName': 'NETAPP INC',\n",
              "   'managerCik': '1000275'}}]"
            ]
          },
          "metadata": {},
          "execution_count": 22
        }
      ]
    },
    {
      "cell_type": "code",
      "source": [
        "cypher = \"\"\"\n",
        "MATCH (mgr:Manager {managerCik: $ownsParam.managerCik}),\n",
        "        (com:Company {cusip6: $ownsParam.cusip6})\n",
        "MERGE (mgr)-[owns:OWNS_STOCK_IN {\n",
        "    reportCalendarOrQuarter: $ownsParam.reportCalendarOrQuarter\n",
        "}]->(com)\n",
        "ON CREATE\n",
        "    SET owns.value  = toFloat($ownsParam.value),\n",
        "        owns.shares = toInteger($ownsParam.shares)\n",
        "RETURN mgr.managerName, owns.reportCalendarOrQuarter, com.companyName\n",
        "\"\"\"\n",
        "\n",
        "kg.query(cypher, params={ 'ownsParam': first_form13 })"
      ],
      "metadata": {
        "colab": {
          "base_uri": "https://localhost:8080/"
        },
        "id": "y5p0Izy_fhA7",
        "outputId": "ad3bff0c-678c-413f-9f69-107d7f4ff7f4"
      },
      "execution_count": null,
      "outputs": [
        {
          "output_type": "execute_result",
          "data": {
            "text/plain": [
              "[{'mgr.managerName': 'Royal Bank of Canada',\n",
              "  'owns.reportCalendarOrQuarter': '2023-06-30',\n",
              "  'com.companyName': 'NETAPP INC'}]"
            ]
          },
          "metadata": {},
          "execution_count": 23
        }
      ]
    },
    {
      "cell_type": "code",
      "source": [
        "kg.query(\"\"\"\n",
        "MATCH (mgr:Manager {managerCik: $ownsParam.managerCik})\n",
        "-[owns:OWNS_STOCK_IN]->\n",
        "        (com:Company {cusip6: $ownsParam.cusip6})\n",
        "RETURN owns { .shares, .value }\n",
        "\"\"\", params={ 'ownsParam': first_form13 })"
      ],
      "metadata": {
        "colab": {
          "base_uri": "https://localhost:8080/"
        },
        "id": "ht1gC720fjXa",
        "outputId": "ff79b44f-abd9-4a78-aaf8-64edfb16dbf8"
      },
      "execution_count": null,
      "outputs": [
        {
          "output_type": "execute_result",
          "data": {
            "text/plain": [
              "[{'owns': {'shares': 842850, 'value': 64395000000.0}}]"
            ]
          },
          "metadata": {},
          "execution_count": 24
        }
      ]
    },
    {
      "cell_type": "code",
      "source": [
        "cypher = \"\"\"\n",
        "MATCH (mgr:Manager {managerCik: $ownsParam.managerCik}),\n",
        "        (com:Company {cusip6: $ownsParam.cusip6})\n",
        "MERGE (mgr)-[owns:OWNS_STOCK_IN {\n",
        "    reportCalendarOrQuarter: $ownsParam.reportCalendarOrQuarter\n",
        "    }]->(com)\n",
        "  ON CREATE\n",
        "    SET owns.value  = toFloat($ownsParam.value),\n",
        "        owns.shares = toInteger($ownsParam.shares)\n",
        "\"\"\"\n",
        "\n",
        "#loop through all Form 13s\n",
        "for form13 in all_form13s:\n",
        "  kg.query(cypher, params={'ownsParam': form13 })"
      ],
      "metadata": {
        "id": "kRhX0XddfmYw"
      },
      "execution_count": null,
      "outputs": []
    },
    {
      "cell_type": "code",
      "source": [
        "cypher = \"\"\"\n",
        "  MATCH (:Manager)-[owns:OWNS_STOCK_IN]->(:Company)\n",
        "  RETURN count(owns) as investments\n",
        "\"\"\"\n",
        "\n",
        "kg.query(cypher)"
      ],
      "metadata": {
        "colab": {
          "base_uri": "https://localhost:8080/"
        },
        "id": "os9tOh4-foXE",
        "outputId": "a2a2c974-31fb-48ef-ccde-39a32c811be5"
      },
      "execution_count": null,
      "outputs": [
        {
          "output_type": "execute_result",
          "data": {
            "text/plain": [
              "[{'investments': 561}]"
            ]
          },
          "metadata": {},
          "execution_count": 26
        }
      ]
    },
    {
      "cell_type": "code",
      "source": [
        "kg.refresh_schema()\n",
        "print(textwrap.fill(kg.schema, 60))"
      ],
      "metadata": {
        "colab": {
          "base_uri": "https://localhost:8080/"
        },
        "id": "R7pR3pjeft-0",
        "outputId": "7c4e1e51-4a39-477a-ed4a-665f41b3fc3f"
      },
      "execution_count": null,
      "outputs": [
        {
          "output_type": "stream",
          "name": "stdout",
          "text": [
            "Node properties: Chunk {chunkId: STRING, names: LIST,\n",
            "formId: STRING, cik: STRING, cusip6: STRING, source: STRING,\n",
            "f10kItem: STRING, chunkSeqId: INTEGER, text: STRING,\n",
            "textEmbedding: LIST} Form {names: LIST, formId: STRING, cik:\n",
            "STRING, cusip6: STRING, source: STRING} Company {names:\n",
            "LIST, cusip6: STRING, companyName: STRING, cusip: STRING}\n",
            "Manager {managerCik: STRING, managerName: STRING,\n",
            "managerAddress: STRING} Relationship properties: SECTION\n",
            "{f10kItem: STRING} OWNS_STOCK_IN {reportCalendarOrQuarter:\n",
            "STRING, value: FLOAT, shares: INTEGER} The relationships:\n",
            "(:Chunk)-[:NEXT]->(:Chunk) (:Chunk)-[:PART_OF]->(:Form)\n",
            "(:Form)-[:SECTION]->(:Chunk) (:Company)-[:FILED]->(:Form)\n",
            "(:Manager)-[:OWNS_STOCK_IN]->(:Company)\n"
          ]
        }
      ]
    },
    {
      "cell_type": "code",
      "source": [
        "cypher = \"\"\"\n",
        "    MATCH (chunk:Chunk)\n",
        "    RETURN chunk.chunkId as chunkId LIMIT 1\n",
        "    \"\"\"\n",
        "\n",
        "chunk_rows = kg.query(cypher)\n",
        "print(chunk_rows)"
      ],
      "metadata": {
        "colab": {
          "base_uri": "https://localhost:8080/"
        },
        "id": "SMgqiHLLfv3d",
        "outputId": "fe7ea121-c700-4ee4-bc9d-4895cae47c3a"
      },
      "execution_count": null,
      "outputs": [
        {
          "output_type": "stream",
          "name": "stdout",
          "text": [
            "[{'chunkId': '0000950170-23-027948-item1-chunk0000'}]\n"
          ]
        }
      ]
    },
    {
      "cell_type": "code",
      "source": [
        "chunk_first_row = chunk_rows[0]\n",
        "print(chunk_first_row)"
      ],
      "metadata": {
        "colab": {
          "base_uri": "https://localhost:8080/"
        },
        "id": "AchtWPYyfyK2",
        "outputId": "0a5db572-b0a9-483d-d196-ada379b1b1df"
      },
      "execution_count": null,
      "outputs": [
        {
          "output_type": "stream",
          "name": "stdout",
          "text": [
            "{'chunkId': '0000950170-23-027948-item1-chunk0000'}\n"
          ]
        }
      ]
    },
    {
      "cell_type": "code",
      "source": [
        "ref_chunk_id = chunk_first_row['chunkId']\n",
        "ref_chunk_id"
      ],
      "metadata": {
        "colab": {
          "base_uri": "https://localhost:8080/",
          "height": 35
        },
        "id": "Ut5ELIIwhIbU",
        "outputId": "e3318a71-9bb8-4256-cd13-a92054ebddda"
      },
      "execution_count": null,
      "outputs": [
        {
          "output_type": "execute_result",
          "data": {
            "text/plain": [
              "'0000950170-23-027948-item1-chunk0000'"
            ],
            "application/vnd.google.colaboratory.intrinsic+json": {
              "type": "string"
            }
          },
          "metadata": {},
          "execution_count": 31
        }
      ]
    },
    {
      "cell_type": "code",
      "source": [
        "cypher = \"\"\"\n",
        "    MATCH (:Chunk {chunkId: $chunkIdParam})-[:PART_OF]->(f:Form)\n",
        "    RETURN f.source\n",
        "    \"\"\"\n",
        "\n",
        "kg.query(cypher, params={'chunkIdParam': ref_chunk_id})"
      ],
      "metadata": {
        "colab": {
          "base_uri": "https://localhost:8080/"
        },
        "id": "-Aa_UMZdfz1M",
        "outputId": "67aceba7-22d9-401a-cb32-c66bf6a5a0f3"
      },
      "execution_count": null,
      "outputs": [
        {
          "output_type": "execute_result",
          "data": {
            "text/plain": [
              "[{'f.source': 'https://www.sec.gov/Archives/edgar/data/1002047/000095017023027948/0000950170-23-027948-index.htm'}]"
            ]
          },
          "metadata": {},
          "execution_count": 32
        }
      ]
    },
    {
      "cell_type": "code",
      "source": [
        "cypher = \"\"\"\n",
        "MATCH (:Chunk {chunkId: $chunkIdParam})-[:PART_OF]->(f:Form),\n",
        "    (com:Company)-[:FILED]->(f)\n",
        "RETURN com.companyName as name\n",
        "\"\"\"\n",
        "\n",
        "kg.query(cypher, params={'chunkIdParam': ref_chunk_id})"
      ],
      "metadata": {
        "colab": {
          "base_uri": "https://localhost:8080/"
        },
        "id": "8onRFE8-f1so",
        "outputId": "1576455a-aca4-4574-ea58-ec76b5d63ea2"
      },
      "execution_count": null,
      "outputs": [
        {
          "output_type": "execute_result",
          "data": {
            "text/plain": [
              "[{'name': 'NETAPP INC'}]"
            ]
          },
          "metadata": {},
          "execution_count": 33
        }
      ]
    },
    {
      "cell_type": "code",
      "source": [
        "cypher = \"\"\"\n",
        "MATCH (:Chunk {chunkId: $chunkIdParam})-[:PART_OF]->(f:Form),\n",
        "        (com:Company)-[:FILED]->(f),\n",
        "        (mgr:Manager)-[:OWNS_STOCK_IN]->(com)\n",
        "RETURN com.companyName,\n",
        "        count(mgr.managerName) as numberOfinvestors\n",
        "LIMIT 1\n",
        "\"\"\"\n",
        "\n",
        "kg.query(cypher, params={\n",
        "    'chunkIdParam': ref_chunk_id\n",
        "})"
      ],
      "metadata": {
        "colab": {
          "base_uri": "https://localhost:8080/"
        },
        "id": "aZ6qOIVMf3QB",
        "outputId": "a7506249-3903-4941-c2ab-777532dd6b11"
      },
      "execution_count": null,
      "outputs": [
        {
          "output_type": "execute_result",
          "data": {
            "text/plain": [
              "[{'com.companyName': 'NETAPP INC', 'numberOfinvestors': 561}]"
            ]
          },
          "metadata": {},
          "execution_count": 34
        }
      ]
    },
    {
      "cell_type": "code",
      "source": [
        "cypher = \"\"\"\n",
        "    MATCH (:Chunk {chunkId: $chunkIdParam})-[:PART_OF]->(f:Form),\n",
        "        (com:Company)-[:FILED]->(f),\n",
        "        (mgr:Manager)-[owns:OWNS_STOCK_IN]->(com)\n",
        "    RETURN mgr.managerName + \" owns \" + owns.shares +\n",
        "        \" shares of \" + com.companyName +\n",
        "        \" at a value of $\" +\n",
        "        apoc.number.format(toInteger(owns.value)) AS text\n",
        "    LIMIT 10\n",
        "    \"\"\"\n",
        "kg.query(cypher, params={\n",
        "    'chunkIdParam': ref_chunk_id\n",
        "})"
      ],
      "metadata": {
        "colab": {
          "base_uri": "https://localhost:8080/"
        },
        "id": "-2DPPl8Sf6QW",
        "outputId": "e4b74c6b-910f-4497-e835-bd651e75d9e3"
      },
      "execution_count": null,
      "outputs": [
        {
          "output_type": "execute_result",
          "data": {
            "text/plain": [
              "[{'text': 'Royal Bank of Canada owns 842850 shares of NETAPP INC at a value of $64,395,000,000'},\n",
              " {'text': 'SHELTON CAPITAL MANAGEMENT owns 39124 shares of NETAPP INC at a value of $2,989,085,000'},\n",
              " {'text': 'PUBLIC EMPLOYEES RETIREMENT SYSTEM OF OHIO owns 106941 shares of NETAPP INC at a value of $8,170,000'},\n",
              " {'text': 'WILBANKS SMITH & THOMAS ASSET MANAGEMENT LLC owns 6617 shares of NETAPP INC at a value of $505,539,000'},\n",
              " {'text': 'DEPRINCE RACE & ZOLLO INC owns 320581 shares of NETAPP INC at a value of $24,492,389,000'},\n",
              " {'text': 'COMMERCE BANK owns 101422 shares of NETAPP INC at a value of $7,748,640,000'},\n",
              " {'text': 'D. E. Shaw & Co., Inc. owns 323440 shares of NETAPP INC at a value of $24,710,816,000'},\n",
              " {'text': 'EDMP, INC. owns 4698 shares of NETAPP INC at a value of $358,927,000'},\n",
              " {'text': 'NATIXIS ADVISORS, L.P. owns 40296 shares of NETAPP INC at a value of $3,079,000'},\n",
              " {'text': 'Smithfield Trust Co owns 215 shares of NETAPP INC at a value of $16,000'}]"
            ]
          },
          "metadata": {},
          "execution_count": 35
        }
      ]
    },
    {
      "cell_type": "code",
      "source": [
        "results = kg.query(cypher, params={\n",
        "    'chunkIdParam': ref_chunk_id\n",
        "})\n",
        "print(textwrap.fill(results[0]['text'], 60))"
      ],
      "metadata": {
        "colab": {
          "base_uri": "https://localhost:8080/"
        },
        "id": "RRNnDifGf_2x",
        "outputId": "b4c4e634-b1bc-40e3-c685-cefb62f92bea"
      },
      "execution_count": null,
      "outputs": [
        {
          "output_type": "stream",
          "name": "stdout",
          "text": [
            "Royal Bank of Canada owns 842850 shares of NETAPP INC at a\n",
            "value of $64,395,000,000\n"
          ]
        }
      ]
    },
    {
      "cell_type": "code",
      "source": [
        "vector_store = Neo4jVector.from_existing_graph(\n",
        "    embedding=GoogleGenerativeAIEmbeddings(\n",
        "        model=\"models/text-embedding-004\",\n",
        "        google_api_key=GEMINI_API_KEY\n",
        "    ),\n",
        "    url=NEO4J_URI,\n",
        "    username=NEO4J_USERNAME,\n",
        "    password=NEO4J_PASSWORD,\n",
        "    index_name=VECTOR_INDEX_NAME,\n",
        "    node_label=VECTOR_NODE_LABEL,\n",
        "    text_node_properties=[VECTOR_SOURCE_PROPERTY],\n",
        "    embedding_node_property=VECTOR_EMBEDDING_PROPERTY,\n",
        ")\n",
        "# Create a retriever from the vector store\n",
        "retriever = vector_store.as_retriever()"
      ],
      "metadata": {
        "id": "JfKrDpzlgDip"
      },
      "execution_count": null,
      "outputs": []
    },
    {
      "cell_type": "code",
      "source": [
        "# Create a chatbot Question & Answer chain from the retriever\n",
        "plain_chain = RetrievalQAWithSourcesChain.from_chain_type(\n",
        "    ChatGoogleGenerativeAI(\n",
        "        model=\"gemini-2.0-flash\",\n",
        "        google_api_key=GEMINI_API_KEY,\n",
        "        temperature=0\n",
        "    ),\n",
        "    chain_type=\"stuff\",\n",
        "    retriever=retriever\n",
        ")"
      ],
      "metadata": {
        "id": "_TGJmBBkhRlK"
      },
      "execution_count": null,
      "outputs": []
    },
    {
      "cell_type": "code",
      "source": [
        "investment_retrieval_query = \"\"\"\n",
        "MATCH (node)-[:PART_OF]->(f:Form),\n",
        "    (f)<-[:FILED]-(com:Company),\n",
        "    (com)<-[owns:OWNS_STOCK_IN]-(mgr:Manager)\n",
        "WITH node, score, mgr, owns, com\n",
        "    ORDER BY owns.shares DESC LIMIT 10\n",
        "WITH collect (\n",
        "    mgr.managerName +\n",
        "    \" owns \" + owns.shares +\n",
        "    \" shares in \" + com.companyName +\n",
        "    \" at a value of $\" +\n",
        "    apoc.number.format(toInteger(owns.value)) + \".\"\n",
        ") AS investment_statements, node, score\n",
        "RETURN apoc.text.join(investment_statements, \"\\n\") +\n",
        "    \"\\n\" + node.text AS text,\n",
        "    score,\n",
        "    {\n",
        "      source: node.source\n",
        "    } as metadata\n",
        "\"\"\""
      ],
      "metadata": {
        "id": "5FcYHIELhbra"
      },
      "execution_count": null,
      "outputs": []
    },
    {
      "cell_type": "code",
      "source": [
        "vector_store_with_investment = Neo4jVector.from_existing_index(\n",
        "    embedding=GoogleGenerativeAIEmbeddings(\n",
        "        model=\"models/text-embedding-004\",\n",
        "        google_api_key=GEMINI_API_KEY\n",
        "    ),\n",
        "    url=NEO4J_URI,\n",
        "    username=NEO4J_USERNAME,\n",
        "    password=NEO4J_PASSWORD,\n",
        "    database=\"neo4j\",\n",
        "    index_name=VECTOR_INDEX_NAME,\n",
        "    text_node_property=VECTOR_SOURCE_PROPERTY,\n",
        "    retrieval_query=investment_retrieval_query,\n",
        ")\n",
        "\n",
        "# Create a retriever from the vector store\n",
        "retriever_with_investments = vector_store_with_investment.as_retriever()"
      ],
      "metadata": {
        "id": "XtUQPjhqhdpQ"
      },
      "execution_count": null,
      "outputs": []
    },
    {
      "cell_type": "code",
      "source": [
        "# Create a chatbot Question & Answer chain from the retriever\n",
        "investment_chain = RetrievalQAWithSourcesChain.from_chain_type(\n",
        "    ChatGoogleGenerativeAI(\n",
        "        model=\"gemini-2.0-flash\",\n",
        "        google_api_key=GEMINI_API_KEY,\n",
        "        temperature=0\n",
        "    ),\n",
        "    chain_type=\"stuff\",\n",
        "    retriever=retriever_with_investments\n",
        ")"
      ],
      "metadata": {
        "id": "VV0ZRKAUhg5i"
      },
      "execution_count": null,
      "outputs": []
    },
    {
      "cell_type": "code",
      "source": [
        "question = \"In a single sentence, tell me about Netapp.\""
      ],
      "metadata": {
        "id": "N36gJmw_hpfd"
      },
      "execution_count": null,
      "outputs": []
    },
    {
      "cell_type": "code",
      "source": [
        "plain_chain(\n",
        "    {\"question\": question},\n",
        "    return_only_outputs=True,\n",
        ")"
      ],
      "metadata": {
        "colab": {
          "base_uri": "https://localhost:8080/"
        },
        "id": "Ly9q4zqOhrb3",
        "outputId": "2270471a-472b-4470-e2b0-263508940ebb"
      },
      "execution_count": null,
      "outputs": [
        {
          "output_type": "stream",
          "name": "stderr",
          "text": [
            "<ipython-input-43-7db4233d9967>:1: LangChainDeprecationWarning: The method `Chain.__call__` was deprecated in langchain 0.1.0 and will be removed in 1.0. Use :meth:`~invoke` instead.\n",
            "  plain_chain(\n"
          ]
        },
        {
          "output_type": "execute_result",
          "data": {
            "text/plain": [
              "{'answer': 'NetApp is a global cloud-led, data-centric software company that helps customers manage applications and data across hybrid multicloud environments.\\n',\n",
              " 'sources': 'https://www.sec.gov/Archives/edgar/data/1002047/000095017023027948/0000950170-23-027948-index.htm'}"
            ]
          },
          "metadata": {},
          "execution_count": 43
        }
      ]
    },
    {
      "cell_type": "code",
      "source": [
        "investment_chain(\n",
        "    {\"question\": question},\n",
        "    return_only_outputs=True,\n",
        ")"
      ],
      "metadata": {
        "colab": {
          "base_uri": "https://localhost:8080/"
        },
        "id": "ycEHQhTThs-S",
        "outputId": "1b25ca2c-35b3-4ccc-c88c-4ff3c1658b52"
      },
      "execution_count": null,
      "outputs": [
        {
          "output_type": "execute_result",
          "data": {
            "text/plain": [
              "{'answer': 'NetApp is a global cloud-led, data-centric software company that helps customers manage applications and data across hybrid multicloud environments.\\n',\n",
              " 'sources': 'https://www.sec.gov/Archives/edgar/data/1002047/000095017023027948/0000950170-23-027948-index.htm'}"
            ]
          },
          "metadata": {},
          "execution_count": 44
        }
      ]
    },
    {
      "cell_type": "code",
      "source": [
        "question = \"In a single sentence, tell me about Netapp investors.\""
      ],
      "metadata": {
        "id": "hT1gj7Fqhu6j"
      },
      "execution_count": null,
      "outputs": []
    },
    {
      "cell_type": "code",
      "source": [
        "plain_chain(\n",
        "    {\"question\": question},\n",
        "    return_only_outputs=True,\n",
        ")"
      ],
      "metadata": {
        "colab": {
          "base_uri": "https://localhost:8080/"
        },
        "id": "d5eeJrfKhwu4",
        "outputId": "d932c9cb-195d-4574-8029-49d21d154bfb"
      },
      "execution_count": null,
      "outputs": [
        {
          "output_type": "execute_result",
          "data": {
            "text/plain": [
              "{'answer': 'NetApp investors include global enterprises, local businesses, and government installations who seek to maximize the business value of their IT and cloud investments.\\n',\n",
              " 'sources': 'https://www.sec.gov/Archives/edgar/data/1002047/000095017023027948/0000950170-23-027948-index.htm'}"
            ]
          },
          "metadata": {},
          "execution_count": 46
        }
      ]
    },
    {
      "cell_type": "code",
      "source": [
        "investment_chain(\n",
        "    {\"question\": question},\n",
        "    return_only_outputs=True,\n",
        ")"
      ],
      "metadata": {
        "colab": {
          "base_uri": "https://localhost:8080/"
        },
        "id": "Eg0NmTHNhzpY",
        "outputId": "024718e1-5c32-4106-eb81-f6ddc261d4ec"
      },
      "execution_count": null,
      "outputs": [
        {
          "output_type": "execute_result",
          "data": {
            "text/plain": [
              "{'answer': 'VANGUARD GROUP INC, BlackRock Inc., and PRIMECAP MANAGEMENT CO/CA/ are among the top investors in Netapp.\\n',\n",
              " 'sources': 'https://www.sec.gov/Archives/edgar/data/1002047/000095017023027948/0000950170-23-027948-index.htm'}"
            ]
          },
          "metadata": {},
          "execution_count": 47
        }
      ]
    },
    {
      "cell_type": "code",
      "source": [
        "question = \"Where is netapp located.\""
      ],
      "metadata": {
        "id": "gRpDDzTjlUeL"
      },
      "execution_count": null,
      "outputs": []
    },
    {
      "cell_type": "code",
      "source": [
        "plain_chain(\n",
        "    {\"question\": question},\n",
        "    return_only_outputs=True,\n",
        ")"
      ],
      "metadata": {
        "colab": {
          "base_uri": "https://localhost:8080/"
        },
        "id": "WFvCpkCnlb5g",
        "outputId": "4dfe3429-5773-4f17-d1b8-33a510d7febc"
      },
      "execution_count": null,
      "outputs": [
        {
          "output_type": "execute_result",
          "data": {
            "text/plain": [
              "{'answer': 'NetApp is headquartered in San Jose, California.\\n',\n",
              " 'sources': 'https://www.sec.gov/Archives/edgar/data/1002047/000095017023027948/0000950170-23-027948-index.htm'}"
            ]
          },
          "metadata": {},
          "execution_count": 49
        }
      ]
    },
    {
      "cell_type": "code",
      "source": [
        "question = \"What are other comapnies located in San Jose, California.\""
      ],
      "metadata": {
        "id": "N6InhfdWlcU2"
      },
      "execution_count": null,
      "outputs": []
    },
    {
      "cell_type": "code",
      "source": [
        "plain_chain(\n",
        "    {\"question\": question},\n",
        "    return_only_outputs=True,\n",
        ")"
      ],
      "metadata": {
        "colab": {
          "base_uri": "https://localhost:8080/"
        },
        "id": "tmvMQuvKlloP",
        "outputId": "25893687-8d38-494a-e53a-6e1f4faef487"
      },
      "execution_count": null,
      "outputs": [
        {
          "output_type": "execute_result",
          "data": {
            "text/plain": [
              "{'answer': \"I don't know.\", 'sources': ''}"
            ]
          },
          "metadata": {},
          "execution_count": 51
        }
      ]
    },
    {
      "cell_type": "code",
      "source": [
        "investment_chain(\n",
        "    {\"question\": question},\n",
        "    return_only_outputs=True,\n",
        ")"
      ],
      "metadata": {
        "colab": {
          "base_uri": "https://localhost:8080/"
        },
        "id": "AhTXSlKflmzw",
        "outputId": "ccca7909-2fda-4f53-d673-014e85f714a6"
      },
      "execution_count": null,
      "outputs": [
        {
          "output_type": "execute_result",
          "data": {
            "text/plain": [
              "{'answer': 'I am sorry, but I cannot answer the question. The provided documents only mention NetApp, Inc. which is headquartered in San Jose, California.',\n",
              " 'sources': ''}"
            ]
          },
          "metadata": {},
          "execution_count": 52
        }
      ]
    },
    {
      "cell_type": "code",
      "source": [
        "question = \"what extra inof do you have about netapp.\""
      ],
      "metadata": {
        "id": "41vffzfClpT4"
      },
      "execution_count": null,
      "outputs": []
    },
    {
      "cell_type": "code",
      "source": [
        "plain_chain(\n",
        "    {\"question\": question},\n",
        "    return_only_outputs=True,\n",
        ")"
      ],
      "metadata": {
        "colab": {
          "base_uri": "https://localhost:8080/"
        },
        "id": "GpBS3LY1l1Hg",
        "outputId": "8777ae78-797f-4a0e-8f47-1544c451fa57"
      },
      "execution_count": null,
      "outputs": [
        {
          "output_type": "execute_result",
          "data": {
            "text/plain": [
              "{'answer': \"NetApp, Inc. is a global cloud-led, data-centric software company headquartered in San Jose, California. They offer cloud services and storage infrastructure powered by intelligent data management software, enabling applications to run faster, more reliably, and more securely at a lower cost. NetApp's offerings include:\\n\\n*   **BlueXP Sync:** Migrates data to the cloud securely and efficiently.\\n*   **BlueXP Tiering:** Reduces storage costs and maximizes data storage.\\n*   **NetApp Backup:** Delivers backup and restore capabilities for cloud and on-premises data.\\n*   **BlueXP Compliance:** Provides data discovery, mapping, and classification for data privacy regulations.\\n*   **BlueXP Cache:** Delivers fast and secure access to data for users globally.\\n*   **NetApp Cloud Insights:** An infrastructure monitoring tool.\\n*   **Spot by NetApp:** A platform for cloud operations.\\n*   **Instaclustr:** A platform that provides fully managed open-source databases, pipelines, and workflow applications delivered as a service.\\n*   **NetApp Astra:** A fully managed application-aware data management service built for Kubernetes workloads.\\n*   **NetApp All-Flash FAS (AFF A-Series):** A scale-out platform for virtualized environments.\\n*   **NetApp QLC-Flash FAS (AFF C-Series):** Sustainable, scalable, and secure solutions for Tier 1 and Tier 2 applications.\\n*   **NetApp Fabric Attached Storage (FAS) series:** High-volume, high-capacity data storage devices.\\n\\nNetApp also offers professional and support services, including strategic consulting, professional services, managed services, and support services.\\n\\n\",\n",
              " 'sources': '[https://www.sec.gov/Archives/edgar/data/1002047/000095017023027948/0000950170-23-027948-index.htm](https://www.sec.gov/Archives/edgar/data/1002047/000095017023027948/0000950170-23-027948-index.htm)'}"
            ]
          },
          "metadata": {},
          "execution_count": 56
        }
      ]
    },
    {
      "cell_type": "code",
      "source": [],
      "metadata": {
        "id": "1Pv6kY_Zl2L9"
      },
      "execution_count": null,
      "outputs": []
    }
  ]
}