{
  "nbformat": 4,
  "nbformat_minor": 0,
  "metadata": {
    "colab": {
      "provenance": [],
      "authorship_tag": "ABX9TyOBVaJfXgZByB4wtgwqBtP4",
      "include_colab_link": true
    },
    "kernelspec": {
      "name": "python3",
      "display_name": "Python 3"
    },
    "language_info": {
      "name": "python"
    }
  },
  "cells": [
    {
      "cell_type": "markdown",
      "metadata": {
        "id": "view-in-github",
        "colab_type": "text"
      },
      "source": [
        "<a href=\"https://colab.research.google.com/github/sadnyd/EdgarGraphLLM/blob/main/notebooks/node_rel_creation.ipynb\" target=\"_parent\"><img src=\"https://colab.research.google.com/assets/colab-badge.svg\" alt=\"Open In Colab\"/></a>"
      ]
    },
    {
      "cell_type": "code",
      "source": [
        "!pip install neo4j langchain openai load_dotenv python_dotenv langchain_community"
      ],
      "metadata": {
        "colab": {
          "base_uri": "https://localhost:8080/"
        },
        "id": "TYgtwV3XlO5b",
        "outputId": "08ad83dc-234d-4c7b-e73d-629a369aa0c0"
      },
      "execution_count": null,
      "outputs": [
        {
          "output_type": "stream",
          "name": "stdout",
          "text": [
            "Requirement already satisfied: neo4j in /usr/local/lib/python3.11/dist-packages (5.28.1)\n",
            "Requirement already satisfied: langchain in /usr/local/lib/python3.11/dist-packages (0.3.23)\n",
            "Requirement already satisfied: openai in /usr/local/lib/python3.11/dist-packages (1.70.0)\n",
            "Requirement already satisfied: load_dotenv in /usr/local/lib/python3.11/dist-packages (0.1.0)\n",
            "Requirement already satisfied: python_dotenv in /usr/local/lib/python3.11/dist-packages (1.1.0)\n",
            "Requirement already satisfied: langchain_community in /usr/local/lib/python3.11/dist-packages (0.3.21)\n",
            "Requirement already satisfied: pytz in /usr/local/lib/python3.11/dist-packages (from neo4j) (2025.2)\n",
            "Requirement already satisfied: langchain-core<1.0.0,>=0.3.51 in /usr/local/lib/python3.11/dist-packages (from langchain) (0.3.51)\n",
            "Requirement already satisfied: langchain-text-splitters<1.0.0,>=0.3.8 in /usr/local/lib/python3.11/dist-packages (from langchain) (0.3.8)\n",
            "Requirement already satisfied: langsmith<0.4,>=0.1.17 in /usr/local/lib/python3.11/dist-packages (from langchain) (0.3.24)\n",
            "Requirement already satisfied: pydantic<3.0.0,>=2.7.4 in /usr/local/lib/python3.11/dist-packages (from langchain) (2.11.2)\n",
            "Requirement already satisfied: SQLAlchemy<3,>=1.4 in /usr/local/lib/python3.11/dist-packages (from langchain) (2.0.40)\n",
            "Requirement already satisfied: requests<3,>=2 in /usr/local/lib/python3.11/dist-packages (from langchain) (2.32.3)\n",
            "Requirement already satisfied: PyYAML>=5.3 in /usr/local/lib/python3.11/dist-packages (from langchain) (6.0.2)\n",
            "Requirement already satisfied: anyio<5,>=3.5.0 in /usr/local/lib/python3.11/dist-packages (from openai) (4.9.0)\n",
            "Requirement already satisfied: distro<2,>=1.7.0 in /usr/local/lib/python3.11/dist-packages (from openai) (1.9.0)\n",
            "Requirement already satisfied: httpx<1,>=0.23.0 in /usr/local/lib/python3.11/dist-packages (from openai) (0.28.1)\n",
            "Requirement already satisfied: jiter<1,>=0.4.0 in /usr/local/lib/python3.11/dist-packages (from openai) (0.9.0)\n",
            "Requirement already satisfied: sniffio in /usr/local/lib/python3.11/dist-packages (from openai) (1.3.1)\n",
            "Requirement already satisfied: tqdm>4 in /usr/local/lib/python3.11/dist-packages (from openai) (4.67.1)\n",
            "Requirement already satisfied: typing-extensions<5,>=4.11 in /usr/local/lib/python3.11/dist-packages (from openai) (4.13.1)\n",
            "Requirement already satisfied: aiohttp<4.0.0,>=3.8.3 in /usr/local/lib/python3.11/dist-packages (from langchain_community) (3.11.15)\n",
            "Requirement already satisfied: tenacity!=8.4.0,<10,>=8.1.0 in /usr/local/lib/python3.11/dist-packages (from langchain_community) (9.1.2)\n",
            "Requirement already satisfied: dataclasses-json<0.7,>=0.5.7 in /usr/local/lib/python3.11/dist-packages (from langchain_community) (0.6.7)\n",
            "Requirement already satisfied: pydantic-settings<3.0.0,>=2.4.0 in /usr/local/lib/python3.11/dist-packages (from langchain_community) (2.8.1)\n",
            "Requirement already satisfied: httpx-sse<1.0.0,>=0.4.0 in /usr/local/lib/python3.11/dist-packages (from langchain_community) (0.4.0)\n",
            "Requirement already satisfied: numpy<3,>=1.26.2 in /usr/local/lib/python3.11/dist-packages (from langchain_community) (2.0.2)\n",
            "Requirement already satisfied: aiohappyeyeballs>=2.3.0 in /usr/local/lib/python3.11/dist-packages (from aiohttp<4.0.0,>=3.8.3->langchain_community) (2.6.1)\n",
            "Requirement already satisfied: aiosignal>=1.1.2 in /usr/local/lib/python3.11/dist-packages (from aiohttp<4.0.0,>=3.8.3->langchain_community) (1.3.2)\n",
            "Requirement already satisfied: attrs>=17.3.0 in /usr/local/lib/python3.11/dist-packages (from aiohttp<4.0.0,>=3.8.3->langchain_community) (25.3.0)\n",
            "Requirement already satisfied: frozenlist>=1.1.1 in /usr/local/lib/python3.11/dist-packages (from aiohttp<4.0.0,>=3.8.3->langchain_community) (1.5.0)\n",
            "Requirement already satisfied: multidict<7.0,>=4.5 in /usr/local/lib/python3.11/dist-packages (from aiohttp<4.0.0,>=3.8.3->langchain_community) (6.3.2)\n",
            "Requirement already satisfied: propcache>=0.2.0 in /usr/local/lib/python3.11/dist-packages (from aiohttp<4.0.0,>=3.8.3->langchain_community) (0.3.1)\n",
            "Requirement already satisfied: yarl<2.0,>=1.17.0 in /usr/local/lib/python3.11/dist-packages (from aiohttp<4.0.0,>=3.8.3->langchain_community) (1.18.3)\n",
            "Requirement already satisfied: idna>=2.8 in /usr/local/lib/python3.11/dist-packages (from anyio<5,>=3.5.0->openai) (3.10)\n",
            "Requirement already satisfied: marshmallow<4.0.0,>=3.18.0 in /usr/local/lib/python3.11/dist-packages (from dataclasses-json<0.7,>=0.5.7->langchain_community) (3.26.1)\n",
            "Requirement already satisfied: typing-inspect<1,>=0.4.0 in /usr/local/lib/python3.11/dist-packages (from dataclasses-json<0.7,>=0.5.7->langchain_community) (0.9.0)\n",
            "Requirement already satisfied: certifi in /usr/local/lib/python3.11/dist-packages (from httpx<1,>=0.23.0->openai) (2025.1.31)\n",
            "Requirement already satisfied: httpcore==1.* in /usr/local/lib/python3.11/dist-packages (from httpx<1,>=0.23.0->openai) (1.0.7)\n",
            "Requirement already satisfied: h11<0.15,>=0.13 in /usr/local/lib/python3.11/dist-packages (from httpcore==1.*->httpx<1,>=0.23.0->openai) (0.14.0)\n",
            "Requirement already satisfied: jsonpatch<2.0,>=1.33 in /usr/local/lib/python3.11/dist-packages (from langchain-core<1.0.0,>=0.3.51->langchain) (1.33)\n",
            "Requirement already satisfied: packaging<25,>=23.2 in /usr/local/lib/python3.11/dist-packages (from langchain-core<1.0.0,>=0.3.51->langchain) (24.2)\n",
            "Requirement already satisfied: orjson<4.0.0,>=3.9.14 in /usr/local/lib/python3.11/dist-packages (from langsmith<0.4,>=0.1.17->langchain) (3.10.16)\n",
            "Requirement already satisfied: requests-toolbelt<2.0.0,>=1.0.0 in /usr/local/lib/python3.11/dist-packages (from langsmith<0.4,>=0.1.17->langchain) (1.0.0)\n",
            "Requirement already satisfied: zstandard<0.24.0,>=0.23.0 in /usr/local/lib/python3.11/dist-packages (from langsmith<0.4,>=0.1.17->langchain) (0.23.0)\n",
            "Requirement already satisfied: annotated-types>=0.6.0 in /usr/local/lib/python3.11/dist-packages (from pydantic<3.0.0,>=2.7.4->langchain) (0.7.0)\n",
            "Requirement already satisfied: pydantic-core==2.33.1 in /usr/local/lib/python3.11/dist-packages (from pydantic<3.0.0,>=2.7.4->langchain) (2.33.1)\n",
            "Requirement already satisfied: typing-inspection>=0.4.0 in /usr/local/lib/python3.11/dist-packages (from pydantic<3.0.0,>=2.7.4->langchain) (0.4.0)\n",
            "Requirement already satisfied: charset-normalizer<4,>=2 in /usr/local/lib/python3.11/dist-packages (from requests<3,>=2->langchain) (3.4.1)\n",
            "Requirement already satisfied: urllib3<3,>=1.21.1 in /usr/local/lib/python3.11/dist-packages (from requests<3,>=2->langchain) (2.3.0)\n",
            "Requirement already satisfied: greenlet>=1 in /usr/local/lib/python3.11/dist-packages (from SQLAlchemy<3,>=1.4->langchain) (3.1.1)\n",
            "Requirement already satisfied: jsonpointer>=1.9 in /usr/local/lib/python3.11/dist-packages (from jsonpatch<2.0,>=1.33->langchain-core<1.0.0,>=0.3.51->langchain) (3.0.0)\n",
            "Requirement already satisfied: mypy-extensions>=0.3.0 in /usr/local/lib/python3.11/dist-packages (from typing-inspect<1,>=0.4.0->dataclasses-json<0.7,>=0.5.7->langchain_community) (1.0.0)\n"
          ]
        }
      ]
    },
    {
      "cell_type": "code",
      "execution_count": null,
      "metadata": {
        "id": "4JuFy05qjac6"
      },
      "outputs": [],
      "source": [
        "import os\n",
        "from google.colab import userdata\n",
        "\n",
        "# Replace these with your actual credentials from Aura\n",
        "os.environ[\"NEO4J_URI\"] = userdata.get('NEO4J_URI')\n",
        "os.environ[\"NEO4J_USERNAME\"] = userdata.get('NEO4J_USERNAME')#extra step can be directly used as userdata in colab\n",
        "os.environ[\"NEO4J_PASSWORD\"] = userdata.get('NEO4J_PASSWORD')#while in normal python this would be required"
      ]
    },
    {
      "cell_type": "code",
      "source": [
        "from langchain_community.graphs import Neo4jGraph\n",
        "\n",
        "# Create a Neo4jGraph object\n",
        "graph = Neo4jGraph(\n",
        "    url=os.environ[\"NEO4J_URI\"],\n",
        "    username=os.environ[\"NEO4J_USERNAME\"],\n",
        "    password=os.environ[\"NEO4J_PASSWORD\"]\n",
        ")\n",
        "\n",
        "# Test connection\n",
        "print(graph.schema)  # Should print current graph schema (nodes & relationships)"
      ],
      "metadata": {
        "colab": {
          "base_uri": "https://localhost:8080/"
        },
        "id": "N3S8JqiYsFtG",
        "outputId": "b19f31f9-b74f-42d0-c70d-ad4337af1dfb"
      },
      "execution_count": null,
      "outputs": [
        {
          "output_type": "stream",
          "name": "stdout",
          "text": [
            "Node properties:\n",
            "Actor {born: INTEGER, name: STRING}\n",
            "Movie {title: STRING, released: INTEGER, tagline: STRING, taglineEmbedding: LIST}\n",
            "Relationship properties:\n",
            "ACTED_IN {role: STRING}\n",
            "The relationships:\n",
            "(:Actor)-[:ACTED_IN]->(:Movie)\n"
          ]
        }
      ]
    },
    {
      "cell_type": "code",
      "source": [
        "graph.query(\"CREATE (:Actor {name: 'Leonardo DiCaprio', born: 1974})\")\n",
        "graph.query(\"CREATE (:Actor {name: 'Emma Watson', born: 1990})\")\n",
        "graph.query(\"CREATE (:Actor {name: 'Tom Hanks', born: 1956})\")\n"
      ],
      "metadata": {
        "colab": {
          "base_uri": "https://localhost:8080/"
        },
        "id": "8DMct5UCsN6S",
        "outputId": "8330b8a9-b297-4bcc-d836-98d2abbf2ea3"
      },
      "execution_count": null,
      "outputs": [
        {
          "output_type": "execute_result",
          "data": {
            "text/plain": [
              "[]"
            ]
          },
          "metadata": {},
          "execution_count": 12
        }
      ]
    },
    {
      "cell_type": "code",
      "source": [
        "graph.query(\"CREATE (:Movie {title: 'Inception', released: 2010})\")\n",
        "graph.query(\"CREATE (:Movie {title: 'Harry Potter', released: 2001})\")\n",
        "graph.query(\"CREATE (:Movie {title: 'Forrest Gump', released: 1994})\")\n"
      ],
      "metadata": {
        "colab": {
          "base_uri": "https://localhost:8080/"
        },
        "id": "Rb2t2hF6svXv",
        "outputId": "bebab5c7-9410-4deb-c5ad-34c6fae8d029"
      },
      "execution_count": null,
      "outputs": [
        {
          "output_type": "execute_result",
          "data": {
            "text/plain": [
              "[]"
            ]
          },
          "metadata": {},
          "execution_count": 13
        }
      ]
    },
    {
      "cell_type": "code",
      "source": [
        "graph.query(\"\"\"\n",
        "MATCH (a:Actor {name: 'Leonardo DiCaprio'}), (m:Movie {title: 'Inception'})\n",
        "CREATE (a)-[:ACTED_IN {role: 'Cobb'}]->(m)\n",
        "\"\"\")\n",
        "\n",
        "graph.query(\"\"\"\n",
        "MATCH (a:Actor {name: 'Emma Watson'}), (m:Movie {title: 'Harry Potter'})\n",
        "CREATE (a)-[:ACTED_IN {role: 'Hermione'}]->(m)\n",
        "\"\"\")\n",
        "\n",
        "graph.query(\"\"\"\n",
        "MATCH (a:Actor {name: 'Tom Hanks'}), (m:Movie {title: 'Forrest Gump'})\n",
        "CREATE (a)-[:ACTED_IN {role: 'Forrest'}]->(m)\n",
        "\"\"\")"
      ],
      "metadata": {
        "colab": {
          "base_uri": "https://localhost:8080/"
        },
        "id": "0Imp13QDtYGf",
        "outputId": "a240a286-f0b1-4a5d-eab6-2bad150aba9e"
      },
      "execution_count": null,
      "outputs": [
        {
          "output_type": "execute_result",
          "data": {
            "text/plain": [
              "[]"
            ]
          },
          "metadata": {},
          "execution_count": 14
        }
      ]
    },
    {
      "cell_type": "code",
      "source": [
        "graph.query(\"\"\"\n",
        "MATCH (a:Actor)-[r:ACTED_IN]->(m:Movie)\n",
        "RETURN a.name AS Actor, r.role AS Role, m.title AS Movie\n",
        "\"\"\")\n"
      ],
      "metadata": {
        "colab": {
          "base_uri": "https://localhost:8080/"
        },
        "id": "1w4XWaDStciW",
        "outputId": "2a5b2ead-438a-42b0-e25f-67758c5d7c81"
      },
      "execution_count": null,
      "outputs": [
        {
          "output_type": "execute_result",
          "data": {
            "text/plain": [
              "[{'Actor': 'Leonardo DiCaprio', 'Role': 'Cobb', 'Movie': 'Inception'},\n",
              " {'Actor': 'Emma Watson', 'Role': 'Hermione', 'Movie': 'Harry Potter'},\n",
              " {'Actor': 'Tom Hanks', 'Role': 'Forrest', 'Movie': 'Forrest Gump'}]"
            ]
          },
          "metadata": {},
          "execution_count": 15
        }
      ]
    },
    {
      "cell_type": "code",
      "source": [
        "graph.query(\"\"\"MATCH (n)-[r]->(m) RETURN n, r, m LIMIT 25;\n",
        "\"\"\")"
      ],
      "metadata": {
        "colab": {
          "base_uri": "https://localhost:8080/"
        },
        "id": "IyOp7_PitiYX",
        "outputId": "479b82e6-1458-4027-9a6f-4aa9d88c1e6f"
      },
      "execution_count": null,
      "outputs": [
        {
          "output_type": "execute_result",
          "data": {
            "text/plain": [
              "[{'n': {'born': 1974, 'name': 'Leonardo DiCaprio'},\n",
              "  'r': ({'born': 1974, 'name': 'Leonardo DiCaprio'},\n",
              "   'ACTED_IN',\n",
              "   {'title': 'Inception', 'released': 2010}),\n",
              "  'm': {'title': 'Inception', 'released': 2010}},\n",
              " {'n': {'born': 1990, 'name': 'Emma Watson'},\n",
              "  'r': ({'born': 1990, 'name': 'Emma Watson'},\n",
              "   'ACTED_IN',\n",
              "   {'title': 'Harry Potter', 'released': 2001}),\n",
              "  'm': {'title': 'Harry Potter', 'released': 2001}},\n",
              " {'n': {'born': 1956, 'name': 'Tom Hanks'},\n",
              "  'r': ({'born': 1956, 'name': 'Tom Hanks'},\n",
              "   'ACTED_IN',\n",
              "   {'title': 'Forrest Gump', 'released': 1994}),\n",
              "  'm': {'title': 'Forrest Gump', 'released': 1994}}]"
            ]
          },
          "metadata": {},
          "execution_count": 16
        }
      ]
    },
    {
      "cell_type": "code",
      "source": [
        "!pip install matplotlib networkx"
      ],
      "metadata": {
        "colab": {
          "base_uri": "https://localhost:8080/"
        },
        "id": "dz1VRTH4u3uZ",
        "outputId": "33977bc2-4fbf-4133-be9c-085407942751"
      },
      "execution_count": null,
      "outputs": [
        {
          "output_type": "stream",
          "name": "stdout",
          "text": [
            "Requirement already satisfied: matplotlib in /usr/local/lib/python3.11/dist-packages (3.10.0)\n",
            "Requirement already satisfied: networkx in /usr/local/lib/python3.11/dist-packages (3.4.2)\n",
            "Requirement already satisfied: contourpy>=1.0.1 in /usr/local/lib/python3.11/dist-packages (from matplotlib) (1.3.1)\n",
            "Requirement already satisfied: cycler>=0.10 in /usr/local/lib/python3.11/dist-packages (from matplotlib) (0.12.1)\n",
            "Requirement already satisfied: fonttools>=4.22.0 in /usr/local/lib/python3.11/dist-packages (from matplotlib) (4.56.0)\n",
            "Requirement already satisfied: kiwisolver>=1.3.1 in /usr/local/lib/python3.11/dist-packages (from matplotlib) (1.4.8)\n",
            "Requirement already satisfied: numpy>=1.23 in /usr/local/lib/python3.11/dist-packages (from matplotlib) (2.0.2)\n",
            "Requirement already satisfied: packaging>=20.0 in /usr/local/lib/python3.11/dist-packages (from matplotlib) (24.2)\n",
            "Requirement already satisfied: pillow>=8 in /usr/local/lib/python3.11/dist-packages (from matplotlib) (11.1.0)\n",
            "Requirement already satisfied: pyparsing>=2.3.1 in /usr/local/lib/python3.11/dist-packages (from matplotlib) (3.2.3)\n",
            "Requirement already satisfied: python-dateutil>=2.7 in /usr/local/lib/python3.11/dist-packages (from matplotlib) (2.8.2)\n",
            "Requirement already satisfied: six>=1.5 in /usr/local/lib/python3.11/dist-packages (from python-dateutil>=2.7->matplotlib) (1.17.0)\n"
          ]
        }
      ]
    },
    {
      "cell_type": "code",
      "source": [
        "results = graph.query(\"\"\"\n",
        "MATCH (a:Actor)-[r:ACTED_IN]->(m:Movie)\n",
        "RETURN a.name AS actor, r.role AS role, m.title AS movie\n",
        "\"\"\")"
      ],
      "metadata": {
        "id": "T9pbVHm8vG5G"
      },
      "execution_count": null,
      "outputs": []
    },
    {
      "cell_type": "code",
      "source": [
        "print(graph.schema)"
      ],
      "metadata": {
        "colab": {
          "base_uri": "https://localhost:8080/"
        },
        "id": "gt2bm6JpyVl7",
        "outputId": "87881581-488a-4ed5-dc70-3c63dd1a92d0"
      },
      "execution_count": null,
      "outputs": [
        {
          "output_type": "stream",
          "name": "stdout",
          "text": [
            "Node properties:\n",
            "Actor {born: INTEGER, name: STRING}\n",
            "Movie {title: STRING, released: INTEGER, tagline: STRING, taglineEmbedding: LIST}\n",
            "Relationship properties:\n",
            "ACTED_IN {role: STRING}\n",
            "The relationships:\n",
            "(:Actor)-[:ACTED_IN]->(:Movie)\n"
          ]
        }
      ]
    },
    {
      "cell_type": "code",
      "source": [
        "import networkx as nx\n",
        "import matplotlib.pyplot as plt\n",
        "\n",
        "G = nx.DiGraph()  # Directed graph\n",
        "\n",
        "# Add nodes and edges\n",
        "for row in results:\n",
        "    actor = row['actor']\n",
        "    movie = row['movie']\n",
        "    role = row['role']\n",
        "\n",
        "    G.add_node(actor, label='actor')\n",
        "    G.add_node(movie, label='movie')\n",
        "    G.add_edge(actor, movie, label=role)"
      ],
      "metadata": {
        "id": "Pvpwp2QrvKuP"
      },
      "execution_count": null,
      "outputs": []
    },
    {
      "cell_type": "code",
      "source": [
        "plt.figure(figsize=(10, 6))\n",
        "pos = nx.spring_layout(G, seed=42)\n",
        "\n",
        "# Draw nodes with labels\n",
        "actor_nodes = [n for n, attr in G.nodes(data=True) if attr['label'] == 'actor']\n",
        "movie_nodes = [n for n, attr in G.nodes(data=True) if attr['label'] == 'movie']\n",
        "\n",
        "nx.draw_networkx_nodes(G, pos, nodelist=actor_nodes, node_color='skyblue', node_size=1000, label='Actor')\n",
        "nx.draw_networkx_nodes(G, pos, nodelist=movie_nodes, node_color='lightgreen', node_size=1000, label='Movie')\n",
        "\n",
        "nx.draw_networkx_edges(G, pos, arrowstyle='->', arrowsize=20)\n",
        "nx.draw_networkx_labels(G, pos, font_size=10)\n",
        "\n",
        "# Draw edge labels (roles)\n",
        "edge_labels = nx.get_edge_attributes(G, 'label')\n",
        "nx.draw_networkx_edge_labels(G, pos, edge_labels=edge_labels, font_size=8)\n",
        "\n",
        "plt.title(\"🎬 Actors and the Movies They Acted In\", fontsize=14)\n",
        "plt.axis('off')\n",
        "plt.legend()\n",
        "plt.show()\n"
      ],
      "metadata": {
        "colab": {
          "base_uri": "https://localhost:8080/",
          "height": 557
        },
        "id": "oBh8luw7vMrD",
        "outputId": "f0ff8c35-e9d5-44ad-cfa2-a92b213a3611"
      },
      "execution_count": null,
      "outputs": [
        {
          "output_type": "stream",
          "name": "stderr",
          "text": [
            "/usr/local/lib/python3.11/dist-packages/IPython/core/pylabtools.py:151: UserWarning: Glyph 127916 (\\N{CLAPPER BOARD}) missing from font(s) DejaVu Sans.\n",
            "  fig.canvas.print_figure(bytes_io, **kw)\n"
          ]
        },
        {
          "output_type": "display_data",
          "data": {
            "text/plain": [
              "<Figure size 1000x600 with 1 Axes>"
            ],
            "image/png": "[encoded data removed]"
          },
          "metadata": {}
        }
      ]
    },
    {
      "cell_type": "code",
      "source": [
        "graph.query(\"\"\"MATCH (m:Movie {title: 'Inception'})\n",
        "SET m.tagline = 'Your mind is the scene of the crime';\"\"\")\n",
        "\n",
        "graph.query(\"\"\"MATCH (m:Movie {title: 'Beauty and the Beast'})\n",
        "SET m.tagline = 'The most beautiful love story ever told';\"\"\")\n",
        "\n",
        "graph.query(\"\"\"MATCH (m:Movie {title: 'Forrest Gump'})\n",
        "SET m.tagline = 'Life is like a box of chocolates... you never know what youre gonna get.';\"\"\")"
      ],
      "metadata": {
        "colab": {
          "base_uri": "https://localhost:8080/"
        },
        "id": "AtilVhIkzJ4k",
        "outputId": "14b000e4-bfc5-421f-ae49-c60ab772db1f"
      },
      "execution_count": null,
      "outputs": [
        {
          "output_type": "execute_result",
          "data": {
            "text/plain": [
              "[]"
            ]
          },
          "metadata": {},
          "execution_count": 33
        }
      ]
    },
    {
      "cell_type": "code",
      "source": [
        "# Add more actors\n",
        "graph.query(\"CREATE (:Actor {name: 'Robert Downey Jr.', born: 1965})\")\n",
        "graph.query(\"CREATE (:Actor {name: 'Scarlett Johansson', born: 1984})\")\n",
        "graph.query(\"CREATE (:Actor {name: 'Morgan Freeman', born: 1937})\")\n",
        "graph.query(\"CREATE (:Actor {name: 'Keanu Reeves', born: 1964})\")\n",
        "\n",
        "# Add more movies\n",
        "graph.query(\"CREATE (:Movie {title: 'Iron Man', released: 2008})\")\n",
        "graph.query(\"CREATE (:Movie {title: 'Lucy', released: 2014})\")\n",
        "graph.query(\"CREATE (:Movie {title: 'The Shawshank Redemption', released: 1994})\")\n",
        "graph.query(\"CREATE (:Movie {title: 'The Matrix', released: 1999})\")\n",
        "\n",
        "# Add ACTED_IN relationships with roles\n",
        "graph.query(\"\"\"\n",
        "MATCH (a:Actor {name: 'Robert Downey Jr.'}), (m:Movie {title: 'Iron Man'})\n",
        "CREATE (a)-[:ACTED_IN {role: 'Tony Stark'}]->(m)\n",
        "\"\"\")\n",
        "\n",
        "graph.query(\"\"\"\n",
        "MATCH (a:Actor {name: 'Scarlett Johansson'}), (m:Movie {title: 'Lucy'})\n",
        "CREATE (a)-[:ACTED_IN {role: 'Lucy'}]->(m)\n",
        "\"\"\")\n",
        "\n",
        "graph.query(\"\"\"\n",
        "MATCH (a:Actor {name: 'Morgan Freeman'}), (m:Movie {title: 'The Shawshank Redemption'})\n",
        "CREATE (a)-[:ACTED_IN {role: 'Red'}]->(m)\n",
        "\"\"\")\n",
        "\n",
        "graph.query(\"\"\"\n",
        "MATCH (a:Actor {name: 'Keanu Reeves'}), (m:Movie {title: 'The Matrix'})\n",
        "CREATE (a)-[:ACTED_IN {role: 'Neo'}]->(m)\n",
        "\"\"\")\n",
        "\n",
        "# Set taglines for new movies\n",
        "graph.query(\"\"\"\n",
        "MATCH (m:Movie {title: 'Iron Man'})\n",
        "SET m.tagline = 'Heroes aren’t born. They’re built.'\n",
        "\"\"\")\n",
        "\n",
        "graph.query(\"\"\"\n",
        "MATCH (m:Movie {title: 'Lucy'})\n",
        "SET m.tagline = 'The average person uses 10% of their brain capacity. Imagine what she could do with 100%.'\n",
        "\"\"\")\n",
        "\n",
        "graph.query(\"\"\"\n",
        "MATCH (m:Movie {title: 'The Shawshank Redemption'})\n",
        "SET m.tagline = 'Fear can hold you prisoner. Hope can set you free.'\n",
        "\"\"\")\n",
        "\n",
        "graph.query(\"\"\"\n",
        "MATCH (m:Movie {title: 'The Matrix'})\n",
        "SET m.tagline = 'Reality is a thing of the past.'\n",
        "\"\"\")\n"
      ],
      "metadata": {
        "id": "9SXI9SXWzKin",
        "colab": {
          "base_uri": "https://localhost:8080/"
        },
        "outputId": "7ff1fa73-b3d1-4ecb-ea11-52aa133d0c13"
      },
      "execution_count": null,
      "outputs": [
        {
          "output_type": "execute_result",
          "data": {
            "text/plain": [
              "[]"
            ]
          },
          "metadata": {},
          "execution_count": 7
        }
      ]
    },
    {
      "cell_type": "code",
      "source": [
        "graph.query(\"\"\"\n",
        "MATCH (m:Movie {title: 'Harry Potter'})\n",
        "SET m.tagline = 'Let the magic begin.'\n",
        "\"\"\")\n"
      ],
      "metadata": {
        "colab": {
          "base_uri": "https://localhost:8080/"
        },
        "id": "xvcL10TjwJQ2",
        "outputId": "421c8797-8212-44d8-c7f3-9b3abe1c192b"
      },
      "execution_count": null,
      "outputs": [
        {
          "output_type": "execute_result",
          "data": {
            "text/plain": [
              "[]"
            ]
          },
          "metadata": {},
          "execution_count": 14
        }
      ]
    },
    {
      "cell_type": "code",
      "source": [
        "graph.query(\"CREATE (:Actor {name: 'Daniel Radcliffe', born: 1989})\")\n",
        "graph.query(\"CREATE (:Actor {name: 'Helena Bonham Carter', born: 1966})\")\n",
        "graph.query(\"CREATE (:Actor {name: 'Gary Oldman', born: 1958})\")\n",
        "graph.query(\"CREATE (:Actor {name: 'Matt Damon', born: 1970})\")\n",
        "graph.query(\"CREATE (:Actor {name: 'Christian Bale', born: 1974})\")"
      ],
      "metadata": {
        "colab": {
          "base_uri": "https://localhost:8080/"
        },
        "id": "A46Y9B9hw75P",
        "outputId": "82c36ea2-0586-4da1-c500-936d69544915"
      },
      "execution_count": null,
      "outputs": [
        {
          "output_type": "execute_result",
          "data": {
            "text/plain": [
              "[]"
            ]
          },
          "metadata": {},
          "execution_count": 15
        }
      ]
    },
    {
      "cell_type": "code",
      "source": [
        "graph.query(\"CREATE (:Movie {title: 'The Dark Knight', released: 2008})\")\n",
        "graph.query(\"CREATE (:Movie {title: 'Harry Potter and the Prisoner of Azkaban', released: 2004})\")\n",
        "graph.query(\"CREATE (:Movie {title: 'Oppenheimer', released: 2023})\")\n",
        "graph.query(\"CREATE (:Movie {title: 'Good Will Hunting', released: 1997})\")"
      ],
      "metadata": {
        "colab": {
          "base_uri": "https://localhost:8080/"
        },
        "id": "olOzZg26xgZA",
        "outputId": "233dfeb1-8f3f-442b-b9a2-0a3271615940"
      },
      "execution_count": null,
      "outputs": [
        {
          "output_type": "execute_result",
          "data": {
            "text/plain": [
              "[]"
            ]
          },
          "metadata": {},
          "execution_count": 16
        }
      ]
    },
    {
      "cell_type": "code",
      "source": [
        "# Daniel Radcliffe in multiple Harry Potter movies\n",
        "graph.query(\"\"\"\n",
        "MATCH (a:Actor {name: 'Daniel Radcliffe'}), (m:Movie {title: 'Harry Potter'})\n",
        "CREATE (a)-[:ACTED_IN {role: 'Harry Potter'}]->(m)\n",
        "\"\"\")\n",
        "\n",
        "graph.query(\"\"\"\n",
        "MATCH (a:Actor {name: 'Daniel Radcliffe'}), (m:Movie {title: 'Harry Potter and the Prisoner of Azkaban'})\n",
        "CREATE (a)-[:ACTED_IN {role: 'Harry Potter'}]->(m)\n",
        "\"\"\")\n",
        "\n",
        "# Helena Bonham Carter in HP and Oppenheimer\n",
        "graph.query(\"\"\"\n",
        "MATCH (a:Actor {name: 'Helena Bonham Carter'}), (m:Movie {title: 'Harry Potter and the Prisoner of Azkaban'})\n",
        "CREATE (a)-[:ACTED_IN {role: 'Bellatrix Lestrange'}]->(m)\n",
        "\"\"\")\n",
        "\n",
        "graph.query(\"\"\"\n",
        "MATCH (a:Actor {name: 'Helena Bonham Carter'}), (m:Movie {title: 'Oppenheimer'})\n",
        "CREATE (a)-[:ACTED_IN {role: 'Psychiatrist'}]->(m)\n",
        "\"\"\")\n",
        "\n",
        "# Gary Oldman in Dark Knight & HP\n",
        "graph.query(\"\"\"\n",
        "MATCH (a:Actor {name: 'Gary Oldman'}), (m:Movie {title: 'Harry Potter and the Prisoner of Azkaban'})\n",
        "CREATE (a)-[:ACTED_IN {role: 'Sirius Black'}]->(m)\n",
        "\"\"\")\n",
        "\n",
        "graph.query(\"\"\"\n",
        "MATCH (a:Actor {name: 'Gary Oldman'}), (m:Movie {title: 'The Dark Knight'})\n",
        "CREATE (a)-[:ACTED_IN {role: 'Commissioner Gordon'}]->(m)\n",
        "\"\"\")\n",
        "\n",
        "# Christian Bale in Dark Knight & Oppenheimer\n",
        "graph.query(\"\"\"\n",
        "MATCH (a:Actor {name: 'Christian Bale'}), (m:Movie {title: 'The Dark Knight'})\n",
        "CREATE (a)-[:ACTED_IN {role: 'Bruce Wayne'}]->(m)\n",
        "\"\"\")\n",
        "\n",
        "graph.query(\"\"\"\n",
        "MATCH (a:Actor {name: 'Christian Bale'}), (m:Movie {title: 'Oppenheimer'})\n",
        "CREATE (a)-[:ACTED_IN {role: 'Physicist'}]->(m)\n",
        "\"\"\")\n",
        "\n",
        "# Matt Damon in Good Will Hunting & Oppenheimer\n",
        "graph.query(\"\"\"\n",
        "MATCH (a:Actor {name: 'Matt Damon'}), (m:Movie {title: 'Good Will Hunting'})\n",
        "CREATE (a)-[:ACTED_IN {role: 'Will Hunting'}]->(m)\n",
        "\"\"\")\n",
        "\n",
        "graph.query(\"\"\"\n",
        "MATCH (a:Actor {name: 'Matt Damon'}), (m:Movie {title: 'Oppenheimer'})\n",
        "CREATE (a)-[:ACTED_IN {role: 'General Leslie Groves'}]->(m)\n",
        "\"\"\")\n"
      ],
      "metadata": {
        "colab": {
          "base_uri": "https://localhost:8080/"
        },
        "id": "JRwvkqg1xjUr",
        "outputId": "0623b7be-dd28-476b-9f34-0b0e32e3a0fa"
      },
      "execution_count": null,
      "outputs": [
        {
          "output_type": "execute_result",
          "data": {
            "text/plain": [
              "[]"
            ]
          },
          "metadata": {},
          "execution_count": 17
        }
      ]
    },
    {
      "cell_type": "code",
      "source": [
        "graph.query(\"\"\"\n",
        "MATCH (m:Movie {title: 'The Dark Knight'})\n",
        "SET m.tagline = 'Why so serious?'\n",
        "\"\"\")\n",
        "\n",
        "graph.query(\"\"\"\n",
        "MATCH (m:Movie {title: 'Harry Potter and the Prisoner of Azkaban'})\n",
        "SET m.tagline = 'Something wicked this way comes.'\n",
        "\"\"\")\n",
        "\n",
        "graph.query(\"\"\"\n",
        "MATCH (m:Movie {title: 'Oppenheimer'})\n",
        "SET m.tagline = 'The world forever changes.'\n",
        "\"\"\")\n",
        "\n",
        "graph.query(\"\"\"\n",
        "MATCH (m:Movie {title: 'Good Will Hunting'})\n",
        "SET m.tagline = 'Some people can never believe in themselves, until someone believes in them.'\n",
        "\"\"\")\n"
      ],
      "metadata": {
        "colab": {
          "base_uri": "https://localhost:8080/"
        },
        "id": "jBdb-fRAxotC",
        "outputId": "2c6f21a3-3431-4e3f-c324-eec31a048cf5"
      },
      "execution_count": null,
      "outputs": [
        {
          "output_type": "execute_result",
          "data": {
            "text/plain": [
              "[]"
            ]
          },
          "metadata": {},
          "execution_count": 18
        }
      ]
    },
    {
      "cell_type": "code",
      "source": [
        "graph.query(\"CREATE (:Actor {name: 'Ryan Gosling', born: 1980})\")\n",
        "graph.query(\"CREATE (:Actor {name: 'Rachel McAdams', born: 1978})\")\n",
        "graph.query(\"CREATE (:Actor {name: 'Bradley Cooper', born: 1975})\")\n",
        "graph.query(\"CREATE (:Actor {name: 'Zach Galifianakis', born: 1969})\")\n",
        "graph.query(\"CREATE (:Actor {name: 'Russell Crowe', born: 1964})\")\n",
        "graph.query(\"CREATE (:Actor {name: 'Vera Farmiga', born: 1973})\")\n",
        "graph.query(\"CREATE (:Actor {name: 'Jesse Eisenberg', born: 1983})\")\n",
        "graph.query(\"CREATE (:Actor {name: 'Emma Stone', born: 1988})\")\n",
        "graph.query(\"CREATE (:Actor {name: 'Chadwick Boseman', born: 1976})\")\n",
        "graph.query(\"CREATE (:Actor {name: 'Tom Holland', born: 1996})\")\n"
      ],
      "metadata": {
        "id": "2Dy8OdwGxtDr",
        "colab": {
          "base_uri": "https://localhost:8080/"
        },
        "outputId": "3a8c877b-52c1-4ecc-a10d-3ef99166ec9d"
      },
      "execution_count": null,
      "outputs": [
        {
          "output_type": "execute_result",
          "data": {
            "text/plain": [
              "[]"
            ]
          },
          "metadata": {},
          "execution_count": 22
        }
      ]
    },
    {
      "cell_type": "code",
      "source": [
        "movies = [\n",
        "    (\"Interstellar\", 2014, \"Mankind was born on Earth. It was never meant to die here.\"),\n",
        "    (\"The Notebook\", 2004, \"Behind every great love is a great story.\"),\n",
        "    (\"The Hangover\", 2009, \"Some guys just can’t handle Vegas.\"),\n",
        "    (\"Gladiator\", 2000, \"What we do in life echoes in eternity.\"),\n",
        "    (\"The Wolf of Wall Street\", 2013, \"The story of a man who had everything. And lost it all.\"),\n",
        "    (\"The Conjuring\", 2013, \"Based on the true case files of the Warrens.\"),\n",
        "    (\"The Social Network\", 2010, \"You don’t get to 500 million friends without making a few enemies.\"),\n",
        "    (\"La La Land\", 2016, \"Here’s to the fools who dream.\"),\n",
        "    (\"Black Panther\", 2018, \"Wakanda Forever.\"),\n",
        "    (\"Catch Me If You Can\", 2002, \"The true story of a real fake.\")\n",
        "]\n",
        "\n",
        "for title, year, tagline in movies:\n",
        "    graph.query(f\"\"\"\n",
        "    CREATE (m:Movie {{title: '{title}', released: {year}, tagline: '{tagline}'}})\n",
        "    \"\"\")\n"
      ],
      "metadata": {
        "id": "ZGehMNZw4veY"
      },
      "execution_count": null,
      "outputs": []
    },
    {
      "cell_type": "code",
      "source": [
        "connections = [\n",
        "    (\"Matthew McConaughey\", \"Interstellar\", \"Cooper\"),\n",
        "    (\"Ryan Gosling\", \"The Notebook\", \"Noah\"),\n",
        "    (\"Rachel McAdams\", \"The Notebook\", \"Allie\"),\n",
        "    (\"Bradley Cooper\", \"The Hangover\", \"Phil\"),\n",
        "    (\"Zach Galifianakis\", \"The Hangover\", \"Alan\"),\n",
        "    (\"Russell Crowe\", \"Gladiator\", \"Maximus\"),\n",
        "    (\"Leonardo DiCaprio\", \"The Wolf of Wall Street\", \"Jordan Belfort\"),\n",
        "    (\"Vera Farmiga\", \"The Conjuring\", \"Lorraine Warren\"),\n",
        "    (\"Jesse Eisenberg\", \"The Social Network\", \"Mark Zuckerberg\"),\n",
        "    (\"Emma Stone\", \"La La Land\", \"Mia\"),\n",
        "    (\"Ryan Gosling\", \"La La Land\", \"Sebastian\"),\n",
        "    (\"Chadwick Boseman\", \"Black Panther\", \"T\\\\'Challa\"),\n",
        "    (\"Tom Holland\", \"Black Panther\", \"Peter Parker\"),\n",
        "    (\"Leonardo DiCaprio\", \"Catch Me If You Can\", \"Frank Abagnale Jr.\"),\n",
        "    (\"Tom Hanks\", \"Catch Me If You Can\", \"Carl Hanratty\")\n",
        "]\n",
        "\n",
        "for actor, movie, role in connections:\n",
        "    graph.query(f\"\"\"\n",
        "    MATCH (a:Actor {{name: '{actor}'}}), (m:Movie {{title: '{movie}'}})\n",
        "    CREATE (a)-[:ACTED_IN {{role: '{role}'}}]->(m)\n",
        "    \"\"\")\n"
      ],
      "metadata": {
        "id": "IvW79rN04yCa"
      },
      "execution_count": null,
      "outputs": []
    },
    {
      "cell_type": "code",
      "source": [],
      "metadata": {
        "id": "kbsnQjt_404Z"
      },
      "execution_count": null,
      "outputs": []
    }
  ]
}