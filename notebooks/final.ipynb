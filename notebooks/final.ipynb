{
  "nbformat": 4,
  "nbformat_minor": 0,
  "metadata": {
    "colab": {
      "provenance": [],
      "authorship_tag": "ABX9TyMtvmHePspaM7mhSS8ZOZTZ",
      "include_colab_link": true
    },
    "kernelspec": {
      "name": "python3",
      "display_name": "Python 3"
    },
    "language_info": {
      "name": "python"
    }
  },
  "cells": [
    {
      "cell_type": "markdown",
      "metadata": {
        "id": "view-in-github",
        "colab_type": "text"
      },
      "source": [
        "<a href=\"https://colab.research.google.com/github/sadnyd/EdgarGraphLLM/blob/main/notebooks/final.ipynb\" target=\"_parent\"><img src=\"https://colab.research.google.com/assets/colab-badge.svg\" alt=\"Open In Colab\"/></a>"
      ]
    },
    {
      "cell_type": "code",
      "source": [
        "!pip install dotenv langchain_community neo4j langchain langchain_google_genai"
      ],
      "metadata": {
        "colab": {
          "base_uri": "https://localhost:8080/",
          "height": 1000
        },
        "id": "PGl_oVXrjKVg",
        "outputId": "58528ed2-989f-427d-8b72-54c5cbbe55ba"
      },
      "execution_count": null,
      "outputs": [
        {
          "output_type": "stream",
          "name": "stdout",
          "text": [
            "Collecting dotenv\n",
            "  Downloading dotenv-0.9.9-py2.py3-none-any.whl.metadata (279 bytes)\n",
            "Collecting langchain_community\n",
            "  Downloading langchain_community-0.3.21-py3-none-any.whl.metadata (2.4 kB)\n",
            "Collecting neo4j\n",
            "  Downloading neo4j-5.28.1-py3-none-any.whl.metadata (5.9 kB)\n",
            "Requirement already satisfied: langchain in /usr/local/lib/python3.11/dist-packages (0.3.23)\n",
            "Collecting langchain_google_genai\n",
            "  Downloading langchain_google_genai-2.1.2-py3-none-any.whl.metadata (4.7 kB)\n",
            "Collecting python-dotenv (from dotenv)\n",
            "  Downloading python_dotenv-1.1.0-py3-none-any.whl.metadata (24 kB)\n",
            "Requirement already satisfied: langchain-core<1.0.0,>=0.3.51 in /usr/local/lib/python3.11/dist-packages (from langchain_community) (0.3.51)\n",
            "Requirement already satisfied: SQLAlchemy<3,>=1.4 in /usr/local/lib/python3.11/dist-packages (from langchain_community) (2.0.40)\n",
            "Requirement already satisfied: requests<3,>=2 in /usr/local/lib/python3.11/dist-packages (from langchain_community) (2.32.3)\n",
            "Requirement already satisfied: PyYAML>=5.3 in /usr/local/lib/python3.11/dist-packages (from langchain_community) (6.0.2)\n",
            "Requirement already satisfied: aiohttp<4.0.0,>=3.8.3 in /usr/local/lib/python3.11/dist-packages (from langchain_community) (3.11.15)\n",
            "Requirement already satisfied: tenacity!=8.4.0,<10,>=8.1.0 in /usr/local/lib/python3.11/dist-packages (from langchain_community) (9.1.2)\n",
            "Collecting dataclasses-json<0.7,>=0.5.7 (from langchain_community)\n",
            "  Downloading dataclasses_json-0.6.7-py3-none-any.whl.metadata (25 kB)\n",
            "Collecting pydantic-settings<3.0.0,>=2.4.0 (from langchain_community)\n",
            "  Downloading pydantic_settings-2.8.1-py3-none-any.whl.metadata (3.5 kB)\n",
            "Requirement already satisfied: langsmith<0.4,>=0.1.125 in /usr/local/lib/python3.11/dist-packages (from langchain_community) (0.3.28)\n",
            "Collecting httpx-sse<1.0.0,>=0.4.0 (from langchain_community)\n",
            "  Downloading httpx_sse-0.4.0-py3-none-any.whl.metadata (9.0 kB)\n",
            "Requirement already satisfied: numpy<3,>=1.26.2 in /usr/local/lib/python3.11/dist-packages (from langchain_community) (2.0.2)\n",
            "Requirement already satisfied: pytz in /usr/local/lib/python3.11/dist-packages (from neo4j) (2025.2)\n",
            "Requirement already satisfied: langchain-text-splitters<1.0.0,>=0.3.8 in /usr/local/lib/python3.11/dist-packages (from langchain) (0.3.8)\n",
            "Requirement already satisfied: pydantic<3.0.0,>=2.7.4 in /usr/local/lib/python3.11/dist-packages (from langchain) (2.11.3)\n",
            "Collecting filetype<2.0.0,>=1.2.0 (from langchain_google_genai)\n",
            "  Downloading filetype-1.2.0-py2.py3-none-any.whl.metadata (6.5 kB)\n",
            "Collecting google-ai-generativelanguage<0.7.0,>=0.6.16 (from langchain_google_genai)\n",
            "  Downloading google_ai_generativelanguage-0.6.17-py3-none-any.whl.metadata (9.8 kB)\n",
            "Requirement already satisfied: aiohappyeyeballs>=2.3.0 in /usr/local/lib/python3.11/dist-packages (from aiohttp<4.0.0,>=3.8.3->langchain_community) (2.6.1)\n",
            "Requirement already satisfied: aiosignal>=1.1.2 in /usr/local/lib/python3.11/dist-packages (from aiohttp<4.0.0,>=3.8.3->langchain_community) (1.3.2)\n",
            "Requirement already satisfied: attrs>=17.3.0 in /usr/local/lib/python3.11/dist-packages (from aiohttp<4.0.0,>=3.8.3->langchain_community) (25.3.0)\n",
            "Requirement already satisfied: frozenlist>=1.1.1 in /usr/local/lib/python3.11/dist-packages (from aiohttp<4.0.0,>=3.8.3->langchain_community) (1.5.0)\n",
            "Requirement already satisfied: multidict<7.0,>=4.5 in /usr/local/lib/python3.11/dist-packages (from aiohttp<4.0.0,>=3.8.3->langchain_community) (6.4.2)\n",
            "Requirement already satisfied: propcache>=0.2.0 in /usr/local/lib/python3.11/dist-packages (from aiohttp<4.0.0,>=3.8.3->langchain_community) (0.3.1)\n",
            "Requirement already satisfied: yarl<2.0,>=1.17.0 in /usr/local/lib/python3.11/dist-packages (from aiohttp<4.0.0,>=3.8.3->langchain_community) (1.19.0)\n",
            "Collecting marshmallow<4.0.0,>=3.18.0 (from dataclasses-json<0.7,>=0.5.7->langchain_community)\n",
            "  Downloading marshmallow-3.26.1-py3-none-any.whl.metadata (7.3 kB)\n",
            "Collecting typing-inspect<1,>=0.4.0 (from dataclasses-json<0.7,>=0.5.7->langchain_community)\n",
            "  Downloading typing_inspect-0.9.0-py3-none-any.whl.metadata (1.5 kB)\n",
            "Requirement already satisfied: google-api-core!=2.0.*,!=2.1.*,!=2.10.*,!=2.2.*,!=2.3.*,!=2.4.*,!=2.5.*,!=2.6.*,!=2.7.*,!=2.8.*,!=2.9.*,<3.0.0,>=1.34.1 in /usr/local/lib/python3.11/dist-packages (from google-api-core[grpc]!=2.0.*,!=2.1.*,!=2.10.*,!=2.2.*,!=2.3.*,!=2.4.*,!=2.5.*,!=2.6.*,!=2.7.*,!=2.8.*,!=2.9.*,<3.0.0,>=1.34.1->google-ai-generativelanguage<0.7.0,>=0.6.16->langchain_google_genai) (2.24.2)\n",
            "Requirement already satisfied: google-auth!=2.24.0,!=2.25.0,<3.0.0,>=2.14.1 in /usr/local/lib/python3.11/dist-packages (from google-ai-generativelanguage<0.7.0,>=0.6.16->langchain_google_genai) (2.38.0)\n",
            "Requirement already satisfied: proto-plus<2.0.0,>=1.22.3 in /usr/local/lib/python3.11/dist-packages (from google-ai-generativelanguage<0.7.0,>=0.6.16->langchain_google_genai) (1.26.1)\n",
            "Requirement already satisfied: protobuf!=4.21.0,!=4.21.1,!=4.21.2,!=4.21.3,!=4.21.4,!=4.21.5,<7.0.0,>=3.20.2 in /usr/local/lib/python3.11/dist-packages (from google-ai-generativelanguage<0.7.0,>=0.6.16->langchain_google_genai) (5.29.4)\n",
            "Requirement already satisfied: jsonpatch<2.0,>=1.33 in /usr/local/lib/python3.11/dist-packages (from langchain-core<1.0.0,>=0.3.51->langchain_community) (1.33)\n",
            "Requirement already satisfied: packaging<25,>=23.2 in /usr/local/lib/python3.11/dist-packages (from langchain-core<1.0.0,>=0.3.51->langchain_community) (24.2)\n",
            "Requirement already satisfied: typing-extensions>=4.7 in /usr/local/lib/python3.11/dist-packages (from langchain-core<1.0.0,>=0.3.51->langchain_community) (4.13.1)\n",
            "Requirement already satisfied: httpx<1,>=0.23.0 in /usr/local/lib/python3.11/dist-packages (from langsmith<0.4,>=0.1.125->langchain_community) (0.28.1)\n",
            "Requirement already satisfied: orjson<4.0.0,>=3.9.14 in /usr/local/lib/python3.11/dist-packages (from langsmith<0.4,>=0.1.125->langchain_community) (3.10.16)\n",
            "Requirement already satisfied: requests-toolbelt<2.0.0,>=1.0.0 in /usr/local/lib/python3.11/dist-packages (from langsmith<0.4,>=0.1.125->langchain_community) (1.0.0)\n",
            "Requirement already satisfied: zstandard<0.24.0,>=0.23.0 in /usr/local/lib/python3.11/dist-packages (from langsmith<0.4,>=0.1.125->langchain_community) (0.23.0)\n",
            "Requirement already satisfied: annotated-types>=0.6.0 in /usr/local/lib/python3.11/dist-packages (from pydantic<3.0.0,>=2.7.4->langchain) (0.7.0)\n",
            "Requirement already satisfied: pydantic-core==2.33.1 in /usr/local/lib/python3.11/dist-packages (from pydantic<3.0.0,>=2.7.4->langchain) (2.33.1)\n",
            "Requirement already satisfied: typing-inspection>=0.4.0 in /usr/local/lib/python3.11/dist-packages (from pydantic<3.0.0,>=2.7.4->langchain) (0.4.0)\n",
            "Requirement already satisfied: charset-normalizer<4,>=2 in /usr/local/lib/python3.11/dist-packages (from requests<3,>=2->langchain_community) (3.4.1)\n",
            "Requirement already satisfied: idna<4,>=2.5 in /usr/local/lib/python3.11/dist-packages (from requests<3,>=2->langchain_community) (3.10)\n",
            "Requirement already satisfied: urllib3<3,>=1.21.1 in /usr/local/lib/python3.11/dist-packages (from requests<3,>=2->langchain_community) (2.3.0)\n",
            "Requirement already satisfied: certifi>=2017.4.17 in /usr/local/lib/python3.11/dist-packages (from requests<3,>=2->langchain_community) (2025.1.31)\n",
            "Requirement already satisfied: greenlet>=1 in /usr/local/lib/python3.11/dist-packages (from SQLAlchemy<3,>=1.4->langchain_community) (3.1.1)\n",
            "Requirement already satisfied: googleapis-common-protos<2.0.0,>=1.56.2 in /usr/local/lib/python3.11/dist-packages (from google-api-core!=2.0.*,!=2.1.*,!=2.10.*,!=2.2.*,!=2.3.*,!=2.4.*,!=2.5.*,!=2.6.*,!=2.7.*,!=2.8.*,!=2.9.*,<3.0.0,>=1.34.1->google-api-core[grpc]!=2.0.*,!=2.1.*,!=2.10.*,!=2.2.*,!=2.3.*,!=2.4.*,!=2.5.*,!=2.6.*,!=2.7.*,!=2.8.*,!=2.9.*,<3.0.0,>=1.34.1->google-ai-generativelanguage<0.7.0,>=0.6.16->langchain_google_genai) (1.69.2)\n",
            "Requirement already satisfied: grpcio<2.0dev,>=1.33.2 in /usr/local/lib/python3.11/dist-packages (from google-api-core[grpc]!=2.0.*,!=2.1.*,!=2.10.*,!=2.2.*,!=2.3.*,!=2.4.*,!=2.5.*,!=2.6.*,!=2.7.*,!=2.8.*,!=2.9.*,<3.0.0,>=1.34.1->google-ai-generativelanguage<0.7.0,>=0.6.16->langchain_google_genai) (1.71.0)\n",
            "Requirement already satisfied: grpcio-status<2.0.dev0,>=1.33.2 in /usr/local/lib/python3.11/dist-packages (from google-api-core[grpc]!=2.0.*,!=2.1.*,!=2.10.*,!=2.2.*,!=2.3.*,!=2.4.*,!=2.5.*,!=2.6.*,!=2.7.*,!=2.8.*,!=2.9.*,<3.0.0,>=1.34.1->google-ai-generativelanguage<0.7.0,>=0.6.16->langchain_google_genai) (1.71.0)\n",
            "Requirement already satisfied: cachetools<6.0,>=2.0.0 in /usr/local/lib/python3.11/dist-packages (from google-auth!=2.24.0,!=2.25.0,<3.0.0,>=2.14.1->google-ai-generativelanguage<0.7.0,>=0.6.16->langchain_google_genai) (5.5.2)\n",
            "Requirement already satisfied: pyasn1-modules>=0.2.1 in /usr/local/lib/python3.11/dist-packages (from google-auth!=2.24.0,!=2.25.0,<3.0.0,>=2.14.1->google-ai-generativelanguage<0.7.0,>=0.6.16->langchain_google_genai) (0.4.2)\n",
            "Requirement already satisfied: rsa<5,>=3.1.4 in /usr/local/lib/python3.11/dist-packages (from google-auth!=2.24.0,!=2.25.0,<3.0.0,>=2.14.1->google-ai-generativelanguage<0.7.0,>=0.6.16->langchain_google_genai) (4.9)\n",
            "Requirement already satisfied: anyio in /usr/local/lib/python3.11/dist-packages (from httpx<1,>=0.23.0->langsmith<0.4,>=0.1.125->langchain_community) (4.9.0)\n",
            "Requirement already satisfied: httpcore==1.* in /usr/local/lib/python3.11/dist-packages (from httpx<1,>=0.23.0->langsmith<0.4,>=0.1.125->langchain_community) (1.0.7)\n",
            "Requirement already satisfied: h11<0.15,>=0.13 in /usr/local/lib/python3.11/dist-packages (from httpcore==1.*->httpx<1,>=0.23.0->langsmith<0.4,>=0.1.125->langchain_community) (0.14.0)\n",
            "Requirement already satisfied: jsonpointer>=1.9 in /usr/local/lib/python3.11/dist-packages (from jsonpatch<2.0,>=1.33->langchain-core<1.0.0,>=0.3.51->langchain_community) (3.0.0)\n",
            "Collecting mypy-extensions>=0.3.0 (from typing-inspect<1,>=0.4.0->dataclasses-json<0.7,>=0.5.7->langchain_community)\n",
            "  Downloading mypy_extensions-1.0.0-py3-none-any.whl.metadata (1.1 kB)\n",
            "Requirement already satisfied: pyasn1<0.7.0,>=0.6.1 in /usr/local/lib/python3.11/dist-packages (from pyasn1-modules>=0.2.1->google-auth!=2.24.0,!=2.25.0,<3.0.0,>=2.14.1->google-ai-generativelanguage<0.7.0,>=0.6.16->langchain_google_genai) (0.6.1)\n",
            "Requirement already satisfied: sniffio>=1.1 in /usr/local/lib/python3.11/dist-packages (from anyio->httpx<1,>=0.23.0->langsmith<0.4,>=0.1.125->langchain_community) (1.3.1)\n",
            "Downloading dotenv-0.9.9-py2.py3-none-any.whl (1.9 kB)\n",
            "Downloading langchain_community-0.3.21-py3-none-any.whl (2.5 MB)\n",
            "\u001b[2K   \u001b[90m━━━━━━━━━━━━━━━━━━━━━━━━━━━━━━━━━━━━━━━━\u001b[0m \u001b[32m2.5/2.5 MB\u001b[0m \u001b[31m25.5 MB/s\u001b[0m eta \u001b[36m0:00:00\u001b[0m\n",
            "\u001b[?25hDownloading neo4j-5.28.1-py3-none-any.whl (312 kB)\n",
            "\u001b[2K   \u001b[90m━━━━━━━━━━━━━━━━━━━━━━━━━━━━━━━━━━━━━━━━\u001b[0m \u001b[32m312.3/312.3 kB\u001b[0m \u001b[31m12.1 MB/s\u001b[0m eta \u001b[36m0:00:00\u001b[0m\n",
            "\u001b[?25hDownloading langchain_google_genai-2.1.2-py3-none-any.whl (42 kB)\n",
            "\u001b[2K   \u001b[90m━━━━━━━━━━━━━━━━━━━━━━━━━━━━━━━━━━━━━━━━\u001b[0m \u001b[32m42.0/42.0 kB\u001b[0m \u001b[31m1.5 MB/s\u001b[0m eta \u001b[36m0:00:00\u001b[0m\n",
            "\u001b[?25hDownloading dataclasses_json-0.6.7-py3-none-any.whl (28 kB)\n",
            "Downloading filetype-1.2.0-py2.py3-none-any.whl (19 kB)\n",
            "Downloading google_ai_generativelanguage-0.6.17-py3-none-any.whl (1.4 MB)\n",
            "\u001b[2K   \u001b[90m━━━━━━━━━━━━━━━━━━━━━━━━━━━━━━━━━━━━━━━━\u001b[0m \u001b[32m1.4/1.4 MB\u001b[0m \u001b[31m17.7 MB/s\u001b[0m eta \u001b[36m0:00:00\u001b[0m\n",
            "\u001b[?25hDownloading httpx_sse-0.4.0-py3-none-any.whl (7.8 kB)\n",
            "Downloading pydantic_settings-2.8.1-py3-none-any.whl (30 kB)\n",
            "Downloading python_dotenv-1.1.0-py3-none-any.whl (20 kB)\n",
            "Downloading marshmallow-3.26.1-py3-none-any.whl (50 kB)\n",
            "\u001b[2K   \u001b[90m━━━━━━━━━━━━━━━━━━━━━━━━━━━━━━━━━━━━━━━━\u001b[0m \u001b[32m50.9/50.9 kB\u001b[0m \u001b[31m3.2 MB/s\u001b[0m eta \u001b[36m0:00:00\u001b[0m\n",
            "\u001b[?25hDownloading typing_inspect-0.9.0-py3-none-any.whl (8.8 kB)\n",
            "Downloading mypy_extensions-1.0.0-py3-none-any.whl (4.7 kB)\n",
            "Installing collected packages: filetype, python-dotenv, neo4j, mypy-extensions, marshmallow, httpx-sse, typing-inspect, dotenv, pydantic-settings, dataclasses-json, google-ai-generativelanguage, langchain_google_genai, langchain_community\n",
            "  Attempting uninstall: google-ai-generativelanguage\n",
            "    Found existing installation: google-ai-generativelanguage 0.6.15\n",
            "    Uninstalling google-ai-generativelanguage-0.6.15:\n",
            "      Successfully uninstalled google-ai-generativelanguage-0.6.15\n",
            "\u001b[31mERROR: pip's dependency resolver does not currently take into account all the packages that are installed. This behaviour is the source of the following dependency conflicts.\n",
            "google-generativeai 0.8.4 requires google-ai-generativelanguage==0.6.15, but you have google-ai-generativelanguage 0.6.17 which is incompatible.\u001b[0m\u001b[31m\n",
            "\u001b[0mSuccessfully installed dataclasses-json-0.6.7 dotenv-0.9.9 filetype-1.2.0 google-ai-generativelanguage-0.6.17 httpx-sse-0.4.0 langchain_community-0.3.21 langchain_google_genai-2.1.2 marshmallow-3.26.1 mypy-extensions-1.0.0 neo4j-5.28.1 pydantic-settings-2.8.1 python-dotenv-1.1.0 typing-inspect-0.9.0\n"
          ]
        },
        {
          "output_type": "display_data",
          "data": {
            "application/vnd.colab-display-data+json": {
              "pip_warning": {
                "packages": [
                  "google"
                ]
              },
              "id": "53f29ba487db45c3b4023715fb0b22c5"
            }
          },
          "metadata": {}
        }
      ]
    },
    {
      "cell_type": "code",
      "execution_count": null,
      "metadata": {
        "id": "0UgvwngHizAV"
      },
      "outputs": [],
      "source": [
        "import textwrap\n",
        "\n",
        "# Langchain\n",
        "from langchain_community.graphs import Neo4jGraph\n",
        "from langchain_community.vectorstores import Neo4jVector\n",
        "from langchain_google_genai import GoogleGenerativeAIEmbeddings\n",
        "from langchain.chains import RetrievalQAWithSourcesChain\n",
        "from langchain.prompts.prompt import PromptTemplate\n",
        "from langchain.chains import GraphCypherQAChain\n",
        "from langchain_google_genai import ChatGoogleGenerativeAI\n",
        "from google.colab import userdata\n",
        "# Warning control\n",
        "import warnings\n",
        "warnings.filterwarnings(\"ignore\")"
      ]
    },
    {
      "cell_type": "code",
      "source": [
        "# Load from Colab userdata\n",
        "NEO4J_URI = userdata.get('EDGAR_URI')\n",
        "NEO4J_USERNAME = userdata.get('EDGAR_USERNAME')\n",
        "NEO4J_PASSWORD = userdata.get('EDGAR_PASSWORD')\n",
        "NEO4J_DATABASE = userdata.get('EDGAR_DATABASE')\n",
        "GEMINI_API_KEY = userdata.get('gemini')\n",
        "GEMINI_ENDPOINT = 'https://generativelanguage.googleapis.com/v1beta/models/text-embedding-004:embedText'"
      ],
      "metadata": {
        "id": "G011FGWYjfrY"
      },
      "execution_count": null,
      "outputs": []
    },
    {
      "cell_type": "code",
      "source": [
        "# Global constants\n",
        "VECTOR_INDEX_NAME = 'form_10k_chunks'\n",
        "VECTOR_NODE_LABEL = 'Chunk'\n",
        "VECTOR_SOURCE_PROPERTY = 'text'\n",
        "VECTOR_EMBEDDING_PROPERTY = 'textEmbedding'"
      ],
      "metadata": {
        "id": "ovvKZbb_jkFQ"
      },
      "execution_count": null,
      "outputs": []
    },
    {
      "cell_type": "code",
      "source": [
        "kg = Neo4jGraph(\n",
        "    url=NEO4J_URI, username=NEO4J_USERNAME, password=NEO4J_PASSWORD, database=NEO4J_DATABASE\n",
        ")"
      ],
      "metadata": {
        "id": "MPthnYCWjtmz"
      },
      "execution_count": null,
      "outputs": []
    },
    {
      "cell_type": "code",
      "source": [
        "kg.refresh_schema()\n",
        "print(textwrap.fill(kg.schema, 60))"
      ],
      "metadata": {
        "colab": {
          "base_uri": "https://localhost:8080/"
        },
        "id": "efK6e2Idjwoi",
        "outputId": "0c223ae9-8c76-4eab-d9d1-58c449576143"
      },
      "execution_count": null,
      "outputs": [
        {
          "output_type": "stream",
          "name": "stdout",
          "text": [
            "Node properties: Chunk {chunkId: STRING, names: LIST,\n",
            "formId: STRING, cik: STRING, cusip6: STRING, source: STRING,\n",
            "f10kItem: STRING, chunkSeqId: INTEGER, text: STRING,\n",
            "textEmbedding: LIST} Form {names: LIST, formId: STRING, cik:\n",
            "STRING, cusip6: STRING, source: STRING} Company {names:\n",
            "LIST, cusip6: STRING, companyName: STRING, cusip: STRING}\n",
            "Manager {managerCik: STRING, managerName: STRING,\n",
            "managerAddress: STRING} Relationship properties: SECTION\n",
            "{f10kItem: STRING} OWNS_STOCK_IN {reportCalendarOrQuarter:\n",
            "STRING, value: FLOAT, shares: INTEGER} The relationships:\n",
            "(:Chunk)-[:NEXT]->(:Chunk) (:Chunk)-[:PART_OF]->(:Form)\n",
            "(:Form)-[:SECTION]->(:Chunk) (:Company)-[:FILED]->(:Form)\n",
            "(:Manager)-[:OWNS_STOCK_IN]->(:Company)\n"
          ]
        }
      ]
    },
    {
      "cell_type": "code",
      "source": [
        "kg.query(\"\"\"\n",
        "MATCH (mgr:Manager)-[:LOCATED_AT]->(addr:Address)\n",
        "RETURN mgr, addr\n",
        "LIMIT 1\n",
        "\"\"\")"
      ],
      "metadata": {
        "colab": {
          "base_uri": "https://localhost:8080/"
        },
        "id": "fISdyugGjyXW",
        "outputId": "fd795a82-f198-4299-978a-cd31cebe1add"
      },
      "execution_count": null,
      "outputs": [
        {
          "output_type": "stream",
          "name": "stderr",
          "text": [
            "WARNING:neo4j.notifications:Received notification from DBMS server: {severity: WARNING} {code: Neo.ClientNotification.Statement.UnknownRelationshipTypeWarning} {category: UNRECOGNIZED} {title: The provided relationship type is not in the database.} {description: One of the relationship types in your query is not available in the database, make sure you didn't misspell it or that the label is available when you run this statement in your application (the missing relationship type is: LOCATED_AT)} {position: line: 2, column: 23, offset: 23} for query: '\\nMATCH (mgr:Manager)-[:LOCATED_AT]->(addr:Address)\\nRETURN mgr, addr\\nLIMIT 1\\n'\n",
            "WARNING:neo4j.notifications:Received notification from DBMS server: {severity: WARNING} {code: Neo.ClientNotification.Statement.UnknownLabelWarning} {category: UNRECOGNIZED} {title: The provided label is not in the database.} {description: One of the labels in your query is not available in the database, make sure you didn't misspell it or that the label is available when you run this statement in your application (the missing label name is: Address)} {position: line: 2, column: 42, offset: 42} for query: '\\nMATCH (mgr:Manager)-[:LOCATED_AT]->(addr:Address)\\nRETURN mgr, addr\\nLIMIT 1\\n'\n"
          ]
        },
        {
          "output_type": "execute_result",
          "data": {
            "text/plain": [
              "[]"
            ]
          },
          "metadata": {},
          "execution_count": 8
        }
      ]
    },
    {
      "cell_type": "code",
      "source": [
        "kg.query(\"\"\"\n",
        "  CALL db.index.fulltext.queryNodes(\n",
        "         \"fullTextManagerNames\",\n",
        "         \"royal bank\") YIELD node, score\n",
        "  RETURN node.managerName, score LIMIT 1\n",
        "\"\"\")"
      ],
      "metadata": {
        "colab": {
          "base_uri": "https://localhost:8080/"
        },
        "id": "eY3g54iGjz5N",
        "outputId": "d5abff2f-9998-47cb-fd67-147c40d7696c"
      },
      "execution_count": null,
      "outputs": [
        {
          "output_type": "execute_result",
          "data": {
            "text/plain": [
              "[{'node.managerName': 'Royal Bank of Canada', 'score': 3.7019896507263184}]"
            ]
          },
          "metadata": {},
          "execution_count": 9
        }
      ]
    },
    {
      "cell_type": "code",
      "source": [
        "kg.query(\"\"\"\n",
        "CALL db.index.fulltext.queryNodes(\n",
        "         \"fullTextManagerNames\",\n",
        "         \"royal bank\"\n",
        "  ) YIELD node, score\n",
        "WITH node as mgr LIMIT 1\n",
        "MATCH (mgr:Manager)-[:LOCATED_AT]->(addr:Address)\n",
        "RETURN mgr.managerName, addr\n",
        "\"\"\")"
      ],
      "metadata": {
        "colab": {
          "base_uri": "https://localhost:8080/"
        },
        "id": "_aSCDyU3j1sb",
        "outputId": "08b6bfe8-2a56-4cb5-eadc-b403f5bc041c"
      },
      "execution_count": null,
      "outputs": [
        {
          "output_type": "stream",
          "name": "stderr",
          "text": [
            "WARNING:neo4j.notifications:Received notification from DBMS server: {severity: WARNING} {code: Neo.ClientNotification.Statement.UnknownRelationshipTypeWarning} {category: UNRECOGNIZED} {title: The provided relationship type is not in the database.} {description: One of the relationship types in your query is not available in the database, make sure you didn't misspell it or that the label is available when you run this statement in your application (the missing relationship type is: LOCATED_AT)} {position: line: 7, column: 23, offset: 161} for query: '\\nCALL db.index.fulltext.queryNodes(\\n         \"fullTextManagerNames\", \\n         \"royal bank\"\\n  ) YIELD node, score\\nWITH node as mgr LIMIT 1\\nMATCH (mgr:Manager)-[:LOCATED_AT]->(addr:Address)\\nRETURN mgr.managerName, addr\\n'\n",
            "WARNING:neo4j.notifications:Received notification from DBMS server: {severity: WARNING} {code: Neo.ClientNotification.Statement.UnknownLabelWarning} {category: UNRECOGNIZED} {title: The provided label is not in the database.} {description: One of the labels in your query is not available in the database, make sure you didn't misspell it or that the label is available when you run this statement in your application (the missing label name is: Address)} {position: line: 7, column: 42, offset: 180} for query: '\\nCALL db.index.fulltext.queryNodes(\\n         \"fullTextManagerNames\", \\n         \"royal bank\"\\n  ) YIELD node, score\\nWITH node as mgr LIMIT 1\\nMATCH (mgr:Manager)-[:LOCATED_AT]->(addr:Address)\\nRETURN mgr.managerName, addr\\n'\n"
          ]
        },
        {
          "output_type": "execute_result",
          "data": {
            "text/plain": [
              "[]"
            ]
          },
          "metadata": {},
          "execution_count": 10
        }
      ]
    },
    {
      "cell_type": "code",
      "source": [
        "kg.query(\"\"\"\n",
        "  MATCH p=(:Manager)-[:LOCATED_AT]->(address:Address)\n",
        "  RETURN address.state as state, count(address.state) as numManagers\n",
        "    ORDER BY numManagers DESC\n",
        "    LIMIT 10\n",
        "\"\"\")"
      ],
      "metadata": {
        "colab": {
          "base_uri": "https://localhost:8080/"
        },
        "id": "Ix7BMlOLj30-",
        "outputId": "7a1d6a42-3fe9-48de-e6a1-2783922d48ab"
      },
      "execution_count": null,
      "outputs": [
        {
          "output_type": "stream",
          "name": "stderr",
          "text": [
            "WARNING:neo4j.notifications:Received notification from DBMS server: {severity: WARNING} {code: Neo.ClientNotification.Statement.UnknownRelationshipTypeWarning} {category: UNRECOGNIZED} {title: The provided relationship type is not in the database.} {description: One of the relationship types in your query is not available in the database, make sure you didn't misspell it or that the label is available when you run this statement in your application (the missing relationship type is: LOCATED_AT)} {position: line: 2, column: 24, offset: 24} for query: '\\n  MATCH p=(:Manager)-[:LOCATED_AT]->(address:Address)\\n  RETURN address.state as state, count(address.state) as numManagers\\n    ORDER BY numManagers DESC\\n    LIMIT 10\\n'\n",
            "WARNING:neo4j.notifications:Received notification from DBMS server: {severity: WARNING} {code: Neo.ClientNotification.Statement.UnknownLabelWarning} {category: UNRECOGNIZED} {title: The provided label is not in the database.} {description: One of the labels in your query is not available in the database, make sure you didn't misspell it or that the label is available when you run this statement in your application (the missing label name is: Address)} {position: line: 2, column: 46, offset: 46} for query: '\\n  MATCH p=(:Manager)-[:LOCATED_AT]->(address:Address)\\n  RETURN address.state as state, count(address.state) as numManagers\\n    ORDER BY numManagers DESC\\n    LIMIT 10\\n'\n",
            "WARNING:neo4j.notifications:Received notification from DBMS server: {severity: WARNING} {code: Neo.ClientNotification.Statement.UnknownPropertyKeyWarning} {category: UNRECOGNIZED} {title: The provided property key is not in the database} {description: One of the property names in your query is not available in the database, make sure you didn't misspell it or that the label is available when you run this statement in your application (the missing property name is: state)} {position: line: 3, column: 18, offset: 72} for query: '\\n  MATCH p=(:Manager)-[:LOCATED_AT]->(address:Address)\\n  RETURN address.state as state, count(address.state) as numManagers\\n    ORDER BY numManagers DESC\\n    LIMIT 10\\n'\n",
            "WARNING:neo4j.notifications:Received notification from DBMS server: {severity: WARNING} {code: Neo.ClientNotification.Statement.UnknownPropertyKeyWarning} {category: UNRECOGNIZED} {title: The provided property key is not in the database} {description: One of the property names in your query is not available in the database, make sure you didn't misspell it or that the label is available when you run this statement in your application (the missing property name is: state)} {position: line: 3, column: 48, offset: 102} for query: '\\n  MATCH p=(:Manager)-[:LOCATED_AT]->(address:Address)\\n  RETURN address.state as state, count(address.state) as numManagers\\n    ORDER BY numManagers DESC\\n    LIMIT 10\\n'\n"
          ]
        },
        {
          "output_type": "execute_result",
          "data": {
            "text/plain": [
              "[]"
            ]
          },
          "metadata": {},
          "execution_count": 11
        }
      ]
    },
    {
      "cell_type": "code",
      "source": [
        "kg.query(\"\"\"\n",
        "  MATCH p=(:Company)-[:LOCATED_AT]->(address:Address)\n",
        "  RETURN address.state as state, count(address.state) as numCompanies\n",
        "    ORDER BY numCompanies DESC\n",
        "\"\"\")"
      ],
      "metadata": {
        "colab": {
          "base_uri": "https://localhost:8080/"
        },
        "id": "LSfmGLiNj5yr",
        "outputId": "63f0c26e-18f6-462c-b961-460069084508"
      },
      "execution_count": null,
      "outputs": [
        {
          "output_type": "stream",
          "name": "stderr",
          "text": [
            "WARNING:neo4j.notifications:Received notification from DBMS server: {severity: WARNING} {code: Neo.ClientNotification.Statement.UnknownRelationshipTypeWarning} {category: UNRECOGNIZED} {title: The provided relationship type is not in the database.} {description: One of the relationship types in your query is not available in the database, make sure you didn't misspell it or that the label is available when you run this statement in your application (the missing relationship type is: LOCATED_AT)} {position: line: 2, column: 24, offset: 24} for query: '\\n  MATCH p=(:Company)-[:LOCATED_AT]->(address:Address)\\n  RETURN address.state as state, count(address.state) as numCompanies\\n    ORDER BY numCompanies DESC\\n'\n",
            "WARNING:neo4j.notifications:Received notification from DBMS server: {severity: WARNING} {code: Neo.ClientNotification.Statement.UnknownLabelWarning} {category: UNRECOGNIZED} {title: The provided label is not in the database.} {description: One of the labels in your query is not available in the database, make sure you didn't misspell it or that the label is available when you run this statement in your application (the missing label name is: Address)} {position: line: 2, column: 46, offset: 46} for query: '\\n  MATCH p=(:Company)-[:LOCATED_AT]->(address:Address)\\n  RETURN address.state as state, count(address.state) as numCompanies\\n    ORDER BY numCompanies DESC\\n'\n",
            "WARNING:neo4j.notifications:Received notification from DBMS server: {severity: WARNING} {code: Neo.ClientNotification.Statement.UnknownPropertyKeyWarning} {category: UNRECOGNIZED} {title: The provided property key is not in the database} {description: One of the property names in your query is not available in the database, make sure you didn't misspell it or that the label is available when you run this statement in your application (the missing property name is: state)} {position: line: 3, column: 18, offset: 72} for query: '\\n  MATCH p=(:Company)-[:LOCATED_AT]->(address:Address)\\n  RETURN address.state as state, count(address.state) as numCompanies\\n    ORDER BY numCompanies DESC\\n'\n",
            "WARNING:neo4j.notifications:Received notification from DBMS server: {severity: WARNING} {code: Neo.ClientNotification.Statement.UnknownPropertyKeyWarning} {category: UNRECOGNIZED} {title: The provided property key is not in the database} {description: One of the property names in your query is not available in the database, make sure you didn't misspell it or that the label is available when you run this statement in your application (the missing property name is: state)} {position: line: 3, column: 48, offset: 102} for query: '\\n  MATCH p=(:Company)-[:LOCATED_AT]->(address:Address)\\n  RETURN address.state as state, count(address.state) as numCompanies\\n    ORDER BY numCompanies DESC\\n'\n"
          ]
        },
        {
          "output_type": "execute_result",
          "data": {
            "text/plain": [
              "[]"
            ]
          },
          "metadata": {},
          "execution_count": 12
        }
      ]
    },
    {
      "cell_type": "code",
      "source": [
        "kg.query(\"\"\"\n",
        "  MATCH p=(:Manager)-[:LOCATED_AT]->(address:Address)\n",
        "         WHERE address.state = 'California'\n",
        "  RETURN address.city as city, count(address.city) as numManagers\n",
        "    ORDER BY numManagers DESC\n",
        "    LIMIT 10\n",
        "\"\"\")"
      ],
      "metadata": {
        "colab": {
          "base_uri": "https://localhost:8080/"
        },
        "id": "E1oRT2T6j78z",
        "outputId": "63ab0766-0aa7-45a6-d319-dc284d70b9c3"
      },
      "execution_count": null,
      "outputs": [
        {
          "output_type": "stream",
          "name": "stderr",
          "text": [
            "WARNING:neo4j.notifications:Received notification from DBMS server: {severity: WARNING} {code: Neo.ClientNotification.Statement.UnknownPropertyKeyWarning} {category: UNRECOGNIZED} {title: The provided property key is not in the database} {description: One of the property names in your query is not available in the database, make sure you didn't misspell it or that the label is available when you run this statement in your application (the missing property name is: city)} {position: line: 4, column: 18, offset: 116} for query: \"\\n  MATCH p=(:Manager)-[:LOCATED_AT]->(address:Address)\\n         WHERE address.state = 'California'\\n  RETURN address.city as city, count(address.city) as numManagers\\n    ORDER BY numManagers DESC\\n    LIMIT 10\\n\"\n",
            "WARNING:neo4j.notifications:Received notification from DBMS server: {severity: WARNING} {code: Neo.ClientNotification.Statement.UnknownPropertyKeyWarning} {category: UNRECOGNIZED} {title: The provided property key is not in the database} {description: One of the property names in your query is not available in the database, make sure you didn't misspell it or that the label is available when you run this statement in your application (the missing property name is: state)} {position: line: 3, column: 24, offset: 78} for query: \"\\n  MATCH p=(:Manager)-[:LOCATED_AT]->(address:Address)\\n         WHERE address.state = 'California'\\n  RETURN address.city as city, count(address.city) as numManagers\\n    ORDER BY numManagers DESC\\n    LIMIT 10\\n\"\n",
            "WARNING:neo4j.notifications:Received notification from DBMS server: {severity: WARNING} {code: Neo.ClientNotification.Statement.UnknownRelationshipTypeWarning} {category: UNRECOGNIZED} {title: The provided relationship type is not in the database.} {description: One of the relationship types in your query is not available in the database, make sure you didn't misspell it or that the label is available when you run this statement in your application (the missing relationship type is: LOCATED_AT)} {position: line: 2, column: 24, offset: 24} for query: \"\\n  MATCH p=(:Manager)-[:LOCATED_AT]->(address:Address)\\n         WHERE address.state = 'California'\\n  RETURN address.city as city, count(address.city) as numManagers\\n    ORDER BY numManagers DESC\\n    LIMIT 10\\n\"\n",
            "WARNING:neo4j.notifications:Received notification from DBMS server: {severity: WARNING} {code: Neo.ClientNotification.Statement.UnknownLabelWarning} {category: UNRECOGNIZED} {title: The provided label is not in the database.} {description: One of the labels in your query is not available in the database, make sure you didn't misspell it or that the label is available when you run this statement in your application (the missing label name is: Address)} {position: line: 2, column: 46, offset: 46} for query: \"\\n  MATCH p=(:Manager)-[:LOCATED_AT]->(address:Address)\\n         WHERE address.state = 'California'\\n  RETURN address.city as city, count(address.city) as numManagers\\n    ORDER BY numManagers DESC\\n    LIMIT 10\\n\"\n",
            "WARNING:neo4j.notifications:Received notification from DBMS server: {severity: WARNING} {code: Neo.ClientNotification.Statement.UnknownPropertyKeyWarning} {category: UNRECOGNIZED} {title: The provided property key is not in the database} {description: One of the property names in your query is not available in the database, make sure you didn't misspell it or that the label is available when you run this statement in your application (the missing property name is: city)} {position: line: 4, column: 46, offset: 144} for query: \"\\n  MATCH p=(:Manager)-[:LOCATED_AT]->(address:Address)\\n         WHERE address.state = 'California'\\n  RETURN address.city as city, count(address.city) as numManagers\\n    ORDER BY numManagers DESC\\n    LIMIT 10\\n\"\n"
          ]
        },
        {
          "output_type": "execute_result",
          "data": {
            "text/plain": [
              "[]"
            ]
          },
          "metadata": {},
          "execution_count": 13
        }
      ]
    },
    {
      "cell_type": "code",
      "source": [
        "kg.query(\"\"\"\n",
        "  MATCH p=(mgr:Manager)-[:LOCATED_AT]->(address:Address),\n",
        "         (mgr)-[owns:OWNS_STOCK_IN]->(:Company)\n",
        "         WHERE address.city = \"San Francisco\"\n",
        "  RETURN mgr.managerName, sum(owns.value) as totalInvestmentValue\n",
        "    ORDER BY totalInvestmentValue DESC\n",
        "    LIMIT 10\n",
        "\"\"\")"
      ],
      "metadata": {
        "colab": {
          "base_uri": "https://localhost:8080/"
        },
        "id": "ZzTQ557xj9sv",
        "outputId": "77d10dcd-fb70-42dc-e649-52800ed1fd2e"
      },
      "execution_count": null,
      "outputs": [
        {
          "output_type": "stream",
          "name": "stderr",
          "text": [
            "WARNING:neo4j.notifications:Received notification from DBMS server: {severity: WARNING} {code: Neo.ClientNotification.Statement.UnknownRelationshipTypeWarning} {category: UNRECOGNIZED} {title: The provided relationship type is not in the database.} {description: One of the relationship types in your query is not available in the database, make sure you didn't misspell it or that the label is available when you run this statement in your application (the missing relationship type is: LOCATED_AT)} {position: line: 2, column: 27, offset: 27} for query: '\\n  MATCH p=(mgr:Manager)-[:LOCATED_AT]->(address:Address),\\n         (mgr)-[owns:OWNS_STOCK_IN]->(:Company)\\n         WHERE address.city = \"San Francisco\"\\n  RETURN mgr.managerName, sum(owns.value) as totalInvestmentValue\\n    ORDER BY totalInvestmentValue DESC\\n    LIMIT 10\\n'\n",
            "WARNING:neo4j.notifications:Received notification from DBMS server: {severity: WARNING} {code: Neo.ClientNotification.Statement.UnknownLabelWarning} {category: UNRECOGNIZED} {title: The provided label is not in the database.} {description: One of the labels in your query is not available in the database, make sure you didn't misspell it or that the label is available when you run this statement in your application (the missing label name is: Address)} {position: line: 2, column: 49, offset: 49} for query: '\\n  MATCH p=(mgr:Manager)-[:LOCATED_AT]->(address:Address),\\n         (mgr)-[owns:OWNS_STOCK_IN]->(:Company)\\n         WHERE address.city = \"San Francisco\"\\n  RETURN mgr.managerName, sum(owns.value) as totalInvestmentValue\\n    ORDER BY totalInvestmentValue DESC\\n    LIMIT 10\\n'\n",
            "WARNING:neo4j.notifications:Received notification from DBMS server: {severity: WARNING} {code: Neo.ClientNotification.Statement.UnknownPropertyKeyWarning} {category: UNRECOGNIZED} {title: The provided property key is not in the database} {description: One of the property names in your query is not available in the database, make sure you didn't misspell it or that the label is available when you run this statement in your application (the missing property name is: city)} {position: line: 4, column: 24, offset: 130} for query: '\\n  MATCH p=(mgr:Manager)-[:LOCATED_AT]->(address:Address),\\n         (mgr)-[owns:OWNS_STOCK_IN]->(:Company)\\n         WHERE address.city = \"San Francisco\"\\n  RETURN mgr.managerName, sum(owns.value) as totalInvestmentValue\\n    ORDER BY totalInvestmentValue DESC\\n    LIMIT 10\\n'\n"
          ]
        },
        {
          "output_type": "execute_result",
          "data": {
            "text/plain": [
              "[]"
            ]
          },
          "metadata": {},
          "execution_count": 14
        }
      ]
    },
    {
      "cell_type": "code",
      "source": [
        "kg.query(\"\"\"\n",
        "  MATCH (com:Company)-[:LOCATED_AT]->(address:Address)\n",
        "         WHERE address.city = \"Santa Clara\"\n",
        "  RETURN com.companyName\n",
        "\"\"\")"
      ],
      "metadata": {
        "colab": {
          "base_uri": "https://localhost:8080/"
        },
        "id": "AU75sVQtkTB7",
        "outputId": "6783d4bb-58e5-4b9d-c912-eeca6e9bd9cc"
      },
      "execution_count": null,
      "outputs": [
        {
          "output_type": "stream",
          "name": "stderr",
          "text": [
            "WARNING:neo4j.notifications:Received notification from DBMS server: {severity: WARNING} {code: Neo.ClientNotification.Statement.UnknownRelationshipTypeWarning} {category: UNRECOGNIZED} {title: The provided relationship type is not in the database.} {description: One of the relationship types in your query is not available in the database, make sure you didn't misspell it or that the label is available when you run this statement in your application (the missing relationship type is: LOCATED_AT)} {position: line: 2, column: 25, offset: 25} for query: '\\n  MATCH (com:Company)-[:LOCATED_AT]->(address:Address)\\n         WHERE address.city = \"Santa Clara\"\\n  RETURN com.companyName\\n'\n",
            "WARNING:neo4j.notifications:Received notification from DBMS server: {severity: WARNING} {code: Neo.ClientNotification.Statement.UnknownLabelWarning} {category: UNRECOGNIZED} {title: The provided label is not in the database.} {description: One of the labels in your query is not available in the database, make sure you didn't misspell it or that the label is available when you run this statement in your application (the missing label name is: Address)} {position: line: 2, column: 47, offset: 47} for query: '\\n  MATCH (com:Company)-[:LOCATED_AT]->(address:Address)\\n         WHERE address.city = \"Santa Clara\"\\n  RETURN com.companyName\\n'\n",
            "WARNING:neo4j.notifications:Received notification from DBMS server: {severity: WARNING} {code: Neo.ClientNotification.Statement.UnknownPropertyKeyWarning} {category: UNRECOGNIZED} {title: The provided property key is not in the database} {description: One of the property names in your query is not available in the database, make sure you didn't misspell it or that the label is available when you run this statement in your application (the missing property name is: city)} {position: line: 3, column: 24, offset: 79} for query: '\\n  MATCH (com:Company)-[:LOCATED_AT]->(address:Address)\\n         WHERE address.city = \"Santa Clara\"\\n  RETURN com.companyName\\n'\n"
          ]
        },
        {
          "output_type": "execute_result",
          "data": {
            "text/plain": [
              "[]"
            ]
          },
          "metadata": {},
          "execution_count": 15
        }
      ]
    },
    {
      "cell_type": "code",
      "source": [
        "kg.query(\"\"\"\n",
        "  MATCH (sc:Address)\n",
        "    WHERE sc.city = \"Santa Clara\"\n",
        "  MATCH (com:Company)-[:LOCATED_AT]->(comAddr:Address)\n",
        "    WHERE point.distance(sc.location, comAddr.location) < 10000\n",
        "  RETURN com.companyName, com.companyAddress\n",
        "\"\"\")"
      ],
      "metadata": {
        "colab": {
          "base_uri": "https://localhost:8080/"
        },
        "id": "ZD_6qO8lkU2E",
        "outputId": "ec0c459e-8918-4169-b348-c2e1aae26e58"
      },
      "execution_count": null,
      "outputs": [
        {
          "output_type": "stream",
          "name": "stderr",
          "text": [
            "WARNING:neo4j.notifications:Received notification from DBMS server: {severity: WARNING} {code: Neo.ClientNotification.Statement.UnknownPropertyKeyWarning} {category: UNRECOGNIZED} {title: The provided property key is not in the database} {description: One of the property names in your query is not available in the database, make sure you didn't misspell it or that the label is available when you run this statement in your application (the missing property name is: location)} {position: line: 5, column: 47, offset: 157} for query: '\\n  MATCH (sc:Address)\\n    WHERE sc.city = \"Santa Clara\"\\n  MATCH (com:Company)-[:LOCATED_AT]->(comAddr:Address)\\n    WHERE point.distance(sc.location, comAddr.location) < 10000\\n  RETURN com.companyName, com.companyAddress\\n'\n",
            "WARNING:neo4j.notifications:Received notification from DBMS server: {severity: WARNING} {code: Neo.ClientNotification.Statement.UnknownPropertyKeyWarning} {category: UNRECOGNIZED} {title: The provided property key is not in the database} {description: One of the property names in your query is not available in the database, make sure you didn't misspell it or that the label is available when you run this statement in your application (the missing property name is: companyAddress)} {position: line: 6, column: 31, offset: 205} for query: '\\n  MATCH (sc:Address)\\n    WHERE sc.city = \"Santa Clara\"\\n  MATCH (com:Company)-[:LOCATED_AT]->(comAddr:Address)\\n    WHERE point.distance(sc.location, comAddr.location) < 10000\\n  RETURN com.companyName, com.companyAddress\\n'\n",
            "WARNING:neo4j.notifications:Received notification from DBMS server: {severity: WARNING} {code: Neo.ClientNotification.Statement.UnknownLabelWarning} {category: UNRECOGNIZED} {title: The provided label is not in the database.} {description: One of the labels in your query is not available in the database, make sure you didn't misspell it or that the label is available when you run this statement in your application (the missing label name is: Address)} {position: line: 2, column: 13, offset: 13} for query: '\\n  MATCH (sc:Address)\\n    WHERE sc.city = \"Santa Clara\"\\n  MATCH (com:Company)-[:LOCATED_AT]->(comAddr:Address)\\n    WHERE point.distance(sc.location, comAddr.location) < 10000\\n  RETURN com.companyName, com.companyAddress\\n'\n",
            "WARNING:neo4j.notifications:Received notification from DBMS server: {severity: WARNING} {code: Neo.ClientNotification.Statement.UnknownPropertyKeyWarning} {category: UNRECOGNIZED} {title: The provided property key is not in the database} {description: One of the property names in your query is not available in the database, make sure you didn't misspell it or that the label is available when you run this statement in your application (the missing property name is: location)} {position: line: 5, column: 29, offset: 139} for query: '\\n  MATCH (sc:Address)\\n    WHERE sc.city = \"Santa Clara\"\\n  MATCH (com:Company)-[:LOCATED_AT]->(comAddr:Address)\\n    WHERE point.distance(sc.location, comAddr.location) < 10000\\n  RETURN com.companyName, com.companyAddress\\n'\n",
            "WARNING:neo4j.notifications:Received notification from DBMS server: {severity: WARNING} {code: Neo.ClientNotification.Statement.UnknownRelationshipTypeWarning} {category: UNRECOGNIZED} {title: The provided relationship type is not in the database.} {description: One of the relationship types in your query is not available in the database, make sure you didn't misspell it or that the label is available when you run this statement in your application (the missing relationship type is: LOCATED_AT)} {position: line: 4, column: 25, offset: 80} for query: '\\n  MATCH (sc:Address)\\n    WHERE sc.city = \"Santa Clara\"\\n  MATCH (com:Company)-[:LOCATED_AT]->(comAddr:Address)\\n    WHERE point.distance(sc.location, comAddr.location) < 10000\\n  RETURN com.companyName, com.companyAddress\\n'\n",
            "WARNING:neo4j.notifications:Received notification from DBMS server: {severity: WARNING} {code: Neo.ClientNotification.Statement.UnknownLabelWarning} {category: UNRECOGNIZED} {title: The provided label is not in the database.} {description: One of the labels in your query is not available in the database, make sure you didn't misspell it or that the label is available when you run this statement in your application (the missing label name is: Address)} {position: line: 4, column: 47, offset: 102} for query: '\\n  MATCH (sc:Address)\\n    WHERE sc.city = \"Santa Clara\"\\n  MATCH (com:Company)-[:LOCATED_AT]->(comAddr:Address)\\n    WHERE point.distance(sc.location, comAddr.location) < 10000\\n  RETURN com.companyName, com.companyAddress\\n'\n",
            "WARNING:neo4j.notifications:Received notification from DBMS server: {severity: WARNING} {code: Neo.ClientNotification.Statement.UnknownPropertyKeyWarning} {category: UNRECOGNIZED} {title: The provided property key is not in the database} {description: One of the property names in your query is not available in the database, make sure you didn't misspell it or that the label is available when you run this statement in your application (the missing property name is: city)} {position: line: 3, column: 14, offset: 35} for query: '\\n  MATCH (sc:Address)\\n    WHERE sc.city = \"Santa Clara\"\\n  MATCH (com:Company)-[:LOCATED_AT]->(comAddr:Address)\\n    WHERE point.distance(sc.location, comAddr.location) < 10000\\n  RETURN com.companyName, com.companyAddress\\n'\n"
          ]
        },
        {
          "output_type": "execute_result",
          "data": {
            "text/plain": [
              "[]"
            ]
          },
          "metadata": {},
          "execution_count": 16
        }
      ]
    },
    {
      "cell_type": "code",
      "source": [
        "kg.query(\"\"\"\n",
        "  MATCH (address:Address)\n",
        "    WHERE address.city = \"Santa Clara\"\n",
        "  MATCH (mgr:Manager)-[:LOCATED_AT]->(managerAddress:Address)\n",
        "    WHERE point.distance(address.location,\n",
        "        managerAddress.location) < 10000\n",
        "  RETURN mgr.managerName, mgr.managerAddress\n",
        "\"\"\")"
      ],
      "metadata": {
        "colab": {
          "base_uri": "https://localhost:8080/"
        },
        "id": "juNVdgFfkWQ_",
        "outputId": "4b9dd55d-5a09-415b-965a-5b04b0eed6e0"
      },
      "execution_count": null,
      "outputs": [
        {
          "output_type": "stream",
          "name": "stderr",
          "text": [
            "WARNING:neo4j.notifications:Received notification from DBMS server: {severity: WARNING} {code: Neo.ClientNotification.Statement.UnknownLabelWarning} {category: UNRECOGNIZED} {title: The provided label is not in the database.} {description: One of the labels in your query is not available in the database, make sure you didn't misspell it or that the label is available when you run this statement in your application (the missing label name is: Address)} {position: line: 2, column: 18, offset: 18} for query: '\\n  MATCH (address:Address)\\n    WHERE address.city = \"Santa Clara\"\\n  MATCH (mgr:Manager)-[:LOCATED_AT]->(managerAddress:Address)\\n    WHERE point.distance(address.location, \\n        managerAddress.location) < 10000\\n  RETURN mgr.managerName, mgr.managerAddress\\n'\n",
            "WARNING:neo4j.notifications:Received notification from DBMS server: {severity: WARNING} {code: Neo.ClientNotification.Statement.UnknownLabelWarning} {category: UNRECOGNIZED} {title: The provided label is not in the database.} {description: One of the labels in your query is not available in the database, make sure you didn't misspell it or that the label is available when you run this statement in your application (the missing label name is: Address)} {position: line: 4, column: 54, offset: 119} for query: '\\n  MATCH (address:Address)\\n    WHERE address.city = \"Santa Clara\"\\n  MATCH (mgr:Manager)-[:LOCATED_AT]->(managerAddress:Address)\\n    WHERE point.distance(address.location, \\n        managerAddress.location) < 10000\\n  RETURN mgr.managerName, mgr.managerAddress\\n'\n",
            "WARNING:neo4j.notifications:Received notification from DBMS server: {severity: WARNING} {code: Neo.ClientNotification.Statement.UnknownPropertyKeyWarning} {category: UNRECOGNIZED} {title: The provided property key is not in the database} {description: One of the property names in your query is not available in the database, make sure you didn't misspell it or that the label is available when you run this statement in your application (the missing property name is: location)} {position: line: 6, column: 24, offset: 195} for query: '\\n  MATCH (address:Address)\\n    WHERE address.city = \"Santa Clara\"\\n  MATCH (mgr:Manager)-[:LOCATED_AT]->(managerAddress:Address)\\n    WHERE point.distance(address.location, \\n        managerAddress.location) < 10000\\n  RETURN mgr.managerName, mgr.managerAddress\\n'\n",
            "WARNING:neo4j.notifications:Received notification from DBMS server: {severity: WARNING} {code: Neo.ClientNotification.Statement.UnknownPropertyKeyWarning} {category: UNRECOGNIZED} {title: The provided property key is not in the database} {description: One of the property names in your query is not available in the database, make sure you didn't misspell it or that the label is available when you run this statement in your application (the missing property name is: city)} {position: line: 3, column: 19, offset: 45} for query: '\\n  MATCH (address:Address)\\n    WHERE address.city = \"Santa Clara\"\\n  MATCH (mgr:Manager)-[:LOCATED_AT]->(managerAddress:Address)\\n    WHERE point.distance(address.location, \\n        managerAddress.location) < 10000\\n  RETURN mgr.managerName, mgr.managerAddress\\n'\n",
            "WARNING:neo4j.notifications:Received notification from DBMS server: {severity: WARNING} {code: Neo.ClientNotification.Statement.UnknownRelationshipTypeWarning} {category: UNRECOGNIZED} {title: The provided relationship type is not in the database.} {description: One of the relationship types in your query is not available in the database, make sure you didn't misspell it or that the label is available when you run this statement in your application (the missing relationship type is: LOCATED_AT)} {position: line: 4, column: 25, offset: 90} for query: '\\n  MATCH (address:Address)\\n    WHERE address.city = \"Santa Clara\"\\n  MATCH (mgr:Manager)-[:LOCATED_AT]->(managerAddress:Address)\\n    WHERE point.distance(address.location, \\n        managerAddress.location) < 10000\\n  RETURN mgr.managerName, mgr.managerAddress\\n'\n",
            "WARNING:neo4j.notifications:Received notification from DBMS server: {severity: WARNING} {code: Neo.ClientNotification.Statement.UnknownPropertyKeyWarning} {category: UNRECOGNIZED} {title: The provided property key is not in the database} {description: One of the property names in your query is not available in the database, make sure you didn't misspell it or that the label is available when you run this statement in your application (the missing property name is: location)} {position: line: 5, column: 34, offset: 161} for query: '\\n  MATCH (address:Address)\\n    WHERE address.city = \"Santa Clara\"\\n  MATCH (mgr:Manager)-[:LOCATED_AT]->(managerAddress:Address)\\n    WHERE point.distance(address.location, \\n        managerAddress.location) < 10000\\n  RETURN mgr.managerName, mgr.managerAddress\\n'\n"
          ]
        },
        {
          "output_type": "execute_result",
          "data": {
            "text/plain": [
              "[]"
            ]
          },
          "metadata": {},
          "execution_count": 17
        }
      ]
    },
    {
      "cell_type": "code",
      "source": [
        "CYPHER_GENERATION_TEMPLATE = \"\"\"Task:Generate Cypher statement to\n",
        "query a graph database.\n",
        "Instructions:\n",
        "Use only the provided relationship types and properties in the\n",
        "schema. Do not use any other relationship types or properties that\n",
        "are not provided.\n",
        "Schema:\n",
        "{schema}\n",
        "Note: Do not include any explanations or apologies in your responses.\n",
        "Do not respond to any questions that might ask anything else than\n",
        "for you to construct a Cypher statement.\n",
        "Do not include any text except the generated Cypher statement.\n",
        "Examples: Here are a few examples of generated Cypher\n",
        "statements for particular questions:\n",
        "\n",
        "# What investment firms are in San Francisco?\n",
        "MATCH (mgr:Manager)-[:LOCATED_AT]->(mgrAddress:Address)\n",
        "    WHERE mgrAddress.city = 'San Francisco'\n",
        "RETURN mgr.managerName\n",
        "The question is:\n",
        "{question}\"\"\""
      ],
      "metadata": {
        "id": "eXnb3U96kd70"
      },
      "execution_count": null,
      "outputs": []
    },
    {
      "cell_type": "code",
      "source": [
        "CYPHER_GENERATION_PROMPT = PromptTemplate(\n",
        "    input_variables=[\"schema\", \"question\"],\n",
        "    template=CYPHER_GENERATION_TEMPLATE\n",
        ")"
      ],
      "metadata": {
        "id": "5yEct3ovkkv1"
      },
      "execution_count": null,
      "outputs": []
    },
    {
      "cell_type": "code",
      "source": [
        "cypherChain = GraphCypherQAChain.from_llm(\n",
        "    ChatGoogleGenerativeAI(\n",
        "        model=\"gemini-2.0-flash\",\n",
        "        google_api_key=GEMINI_API_KEY,\n",
        "        temperature=0\n",
        "    ),\n",
        "    graph=kg,\n",
        "    verbose=True,\n",
        "    cypher_prompt=CYPHER_GENERATION_PROMPT,\n",
        ")"
      ],
      "metadata": {
        "colab": {
          "base_uri": "https://localhost:8080/",
          "height": 408
        },
        "id": "wjdqAZhkknH8",
        "outputId": "7235069b-3af5-4505-dc76-c56b13319686"
      },
      "execution_count": null,
      "outputs": [
        {
          "output_type": "error",
          "ename": "ValueError",
          "evalue": "In order to use this chain, you must acknowledge that it can make dangerous requests by setting `allow_dangerous_requests` to `True`.You must narrowly scope the permissions of the database connection to only include necessary permissions. Failure to do so may result in data corruption or loss or reading sensitive data if such data is present in the database.Only use this chain if you understand the risks and have taken the necessary precautions. See https://python.langchain.com/docs/security for more information.",
          "traceback": [
            "\u001b[0;31m---------------------------------------------------------------------------\u001b[0m",
            "\u001b[0;31mValueError\u001b[0m                                Traceback (most recent call last)",
            "\u001b[0;32m<ipython-input-20-ea09b16db5cd>\u001b[0m in \u001b[0;36m<cell line: 0>\u001b[0;34m()\u001b[0m\n\u001b[0;32m----> 1\u001b[0;31m cypherChain = GraphCypherQAChain.from_llm(\n\u001b[0m\u001b[1;32m      2\u001b[0m     ChatGoogleGenerativeAI(\n\u001b[1;32m      3\u001b[0m         \u001b[0mmodel\u001b[0m\u001b[0;34m=\u001b[0m\u001b[0;34m\"gemini-2.0-flash\"\u001b[0m\u001b[0;34m,\u001b[0m\u001b[0;34m\u001b[0m\u001b[0;34m\u001b[0m\u001b[0m\n\u001b[1;32m      4\u001b[0m         \u001b[0mgoogle_api_key\u001b[0m\u001b[0;34m=\u001b[0m\u001b[0mGEMINI_API_KEY\u001b[0m\u001b[0;34m,\u001b[0m\u001b[0;34m\u001b[0m\u001b[0;34m\u001b[0m\u001b[0m\n\u001b[1;32m      5\u001b[0m         \u001b[0mtemperature\u001b[0m\u001b[0;34m=\u001b[0m\u001b[0;36m0\u001b[0m\u001b[0;34m\u001b[0m\u001b[0;34m\u001b[0m\u001b[0m\n",
            "\u001b[0;32m/usr/local/lib/python3.11/dist-packages/langchain_community/chains/graph_qa/cypher.py\u001b[0m in \u001b[0;36mfrom_llm\u001b[0;34m(cls, llm, qa_prompt, cypher_prompt, cypher_llm, qa_llm, exclude_types, include_types, validate_cypher, qa_llm_kwargs, cypher_llm_kwargs, use_function_response, function_response_system, **kwargs)\u001b[0m\n\u001b[1;32m    345\u001b[0m             \u001b[0mcypher_query_corrector\u001b[0m \u001b[0;34m=\u001b[0m \u001b[0mCypherQueryCorrector\u001b[0m\u001b[0;34m(\u001b[0m\u001b[0mcorrector_schema\u001b[0m\u001b[0;34m)\u001b[0m\u001b[0;34m\u001b[0m\u001b[0;34m\u001b[0m\u001b[0m\n\u001b[1;32m    346\u001b[0m \u001b[0;34m\u001b[0m\u001b[0m\n\u001b[0;32m--> 347\u001b[0;31m         return cls(\n\u001b[0m\u001b[1;32m    348\u001b[0m             \u001b[0mgraph_schema\u001b[0m\u001b[0;34m=\u001b[0m\u001b[0mgraph_schema\u001b[0m\u001b[0;34m,\u001b[0m\u001b[0;34m\u001b[0m\u001b[0;34m\u001b[0m\u001b[0m\n\u001b[1;32m    349\u001b[0m             \u001b[0mqa_chain\u001b[0m\u001b[0;34m=\u001b[0m\u001b[0mqa_chain\u001b[0m\u001b[0;34m,\u001b[0m\u001b[0;34m\u001b[0m\u001b[0;34m\u001b[0m\u001b[0m\n",
            "\u001b[0;32m/usr/local/lib/python3.11/dist-packages/langchain_core/_api/deprecation.py\u001b[0m in \u001b[0;36mwarn_if_direct_instance\u001b[0;34m(self, *args, **kwargs)\u001b[0m\n\u001b[1;32m    219\u001b[0m                         \u001b[0mwarned\u001b[0m \u001b[0;34m=\u001b[0m \u001b[0;32mTrue\u001b[0m\u001b[0;34m\u001b[0m\u001b[0;34m\u001b[0m\u001b[0m\n\u001b[1;32m    220\u001b[0m                         \u001b[0memit_warning\u001b[0m\u001b[0;34m(\u001b[0m\u001b[0;34m)\u001b[0m\u001b[0;34m\u001b[0m\u001b[0;34m\u001b[0m\u001b[0m\n\u001b[0;32m--> 221\u001b[0;31m                     \u001b[0;32mreturn\u001b[0m \u001b[0mwrapped\u001b[0m\u001b[0;34m(\u001b[0m\u001b[0mself\u001b[0m\u001b[0;34m,\u001b[0m \u001b[0;34m*\u001b[0m\u001b[0margs\u001b[0m\u001b[0;34m,\u001b[0m \u001b[0;34m**\u001b[0m\u001b[0mkwargs\u001b[0m\u001b[0;34m)\u001b[0m\u001b[0;34m\u001b[0m\u001b[0;34m\u001b[0m\u001b[0m\n\u001b[0m\u001b[1;32m    222\u001b[0m \u001b[0;34m\u001b[0m\u001b[0m\n\u001b[1;32m    223\u001b[0m                 obj.__init__ = functools.wraps(obj.__init__)(  # type: ignore[misc]\n",
            "\u001b[0;32m/usr/local/lib/python3.11/dist-packages/langchain_community/chains/graph_qa/cypher.py\u001b[0m in \u001b[0;36m__init__\u001b[0;34m(self, **kwargs)\u001b[0m\n\u001b[1;32m    221\u001b[0m         \u001b[0msuper\u001b[0m\u001b[0;34m(\u001b[0m\u001b[0;34m)\u001b[0m\u001b[0;34m.\u001b[0m\u001b[0m__init__\u001b[0m\u001b[0;34m(\u001b[0m\u001b[0;34m**\u001b[0m\u001b[0mkwargs\u001b[0m\u001b[0;34m)\u001b[0m\u001b[0;34m\u001b[0m\u001b[0;34m\u001b[0m\u001b[0m\n\u001b[1;32m    222\u001b[0m         \u001b[0;32mif\u001b[0m \u001b[0mself\u001b[0m\u001b[0;34m.\u001b[0m\u001b[0mallow_dangerous_requests\u001b[0m \u001b[0;32mis\u001b[0m \u001b[0;32mnot\u001b[0m \u001b[0;32mTrue\u001b[0m\u001b[0;34m:\u001b[0m\u001b[0;34m\u001b[0m\u001b[0;34m\u001b[0m\u001b[0m\n\u001b[0;32m--> 223\u001b[0;31m             raise ValueError(\n\u001b[0m\u001b[1;32m    224\u001b[0m                 \u001b[0;34m\"In order to use this chain, you must acknowledge that it can make \"\u001b[0m\u001b[0;34m\u001b[0m\u001b[0;34m\u001b[0m\u001b[0m\n\u001b[1;32m    225\u001b[0m                 \u001b[0;34m\"dangerous requests by setting `allow_dangerous_requests` to `True`.\"\u001b[0m\u001b[0;34m\u001b[0m\u001b[0;34m\u001b[0m\u001b[0m\n",
            "\u001b[0;31mValueError\u001b[0m: In order to use this chain, you must acknowledge that it can make dangerous requests by setting `allow_dangerous_requests` to `True`.You must narrowly scope the permissions of the database connection to only include necessary permissions. Failure to do so may result in data corruption or loss or reading sensitive data if such data is present in the database.Only use this chain if you understand the risks and have taken the necessary precautions. See https://python.langchain.com/docs/security for more information."
          ]
        }
      ]
    },
    {
      "cell_type": "code",
      "source": [],
      "metadata": {
        "id": "L7iU4v4Pk19Z"
      },
      "execution_count": null,
      "outputs": []
    }
  ]
}