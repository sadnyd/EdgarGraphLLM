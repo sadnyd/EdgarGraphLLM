{
  "nbformat": 4,
  "nbformat_minor": 0,
  "metadata": {
    "colab": {
      "provenance": [],
      "authorship_tag": "ABX9TyMaYr8iEwDk5Ygvp8FPww+N",
      "include_colab_link": true
    },
    "kernelspec": {
      "name": "python3",
      "display_name": "Python 3"
    },
    "language_info": {
      "name": "python"
    }
  },
  "cells": [
    {
      "cell_type": "markdown",
      "metadata": {
        "id": "view-in-github",
        "colab_type": "text"
      },
      "source": [
        "<a href=\"https://colab.research.google.com/github/sadnyd/EdgarGraphLLM/blob/main/notebooks/node_rel.ipynb\" target=\"_parent\"><img src=\"https://colab.research.google.com/assets/colab-badge.svg\" alt=\"Open In Colab\"/></a>"
      ]
    },
    {
      "cell_type": "code",
      "execution_count": null,
      "metadata": {
        "colab": {
          "base_uri": "https://localhost:8080/",
          "height": 1000
        },
        "id": "iNniUfUqUn0y",
        "outputId": "f5a341dc-ff2f-4739-838a-f888f2e15582"
      },
      "outputs": [
        {
          "output_type": "stream",
          "name": "stdout",
          "text": [
            "Collecting dotenv\n",
            "  Downloading dotenv-0.9.9-py2.py3-none-any.whl.metadata (279 bytes)\n",
            "Collecting langchain_community\n",
            "  Downloading langchain_community-0.3.21-py3-none-any.whl.metadata (2.4 kB)\n",
            "Collecting neo4j\n",
            "  Downloading neo4j-5.28.1-py3-none-any.whl.metadata (5.9 kB)\n",
            "Requirement already satisfied: langchain in /usr/local/lib/python3.11/dist-packages (0.3.23)\n",
            "Collecting langchain_google_genai\n",
            "  Downloading langchain_google_genai-2.1.2-py3-none-any.whl.metadata (4.7 kB)\n",
            "Collecting python-dotenv (from dotenv)\n",
            "  Downloading python_dotenv-1.1.0-py3-none-any.whl.metadata (24 kB)\n",
            "Requirement already satisfied: langchain-core<1.0.0,>=0.3.51 in /usr/local/lib/python3.11/dist-packages (from langchain_community) (0.3.51)\n",
            "Requirement already satisfied: SQLAlchemy<3,>=1.4 in /usr/local/lib/python3.11/dist-packages (from langchain_community) (2.0.40)\n",
            "Requirement already satisfied: requests<3,>=2 in /usr/local/lib/python3.11/dist-packages (from langchain_community) (2.32.3)\n",
            "Requirement already satisfied: PyYAML>=5.3 in /usr/local/lib/python3.11/dist-packages (from langchain_community) (6.0.2)\n",
            "Requirement already satisfied: aiohttp<4.0.0,>=3.8.3 in /usr/local/lib/python3.11/dist-packages (from langchain_community) (3.11.15)\n",
            "Requirement already satisfied: tenacity!=8.4.0,<10,>=8.1.0 in /usr/local/lib/python3.11/dist-packages (from langchain_community) (9.1.2)\n",
            "Collecting dataclasses-json<0.7,>=0.5.7 (from langchain_community)\n",
            "  Downloading dataclasses_json-0.6.7-py3-none-any.whl.metadata (25 kB)\n",
            "Collecting pydantic-settings<3.0.0,>=2.4.0 (from langchain_community)\n",
            "  Downloading pydantic_settings-2.8.1-py3-none-any.whl.metadata (3.5 kB)\n",
            "Requirement already satisfied: langsmith<0.4,>=0.1.125 in /usr/local/lib/python3.11/dist-packages (from langchain_community) (0.3.24)\n",
            "Collecting httpx-sse<1.0.0,>=0.4.0 (from langchain_community)\n",
            "  Downloading httpx_sse-0.4.0-py3-none-any.whl.metadata (9.0 kB)\n",
            "Requirement already satisfied: numpy<3,>=1.26.2 in /usr/local/lib/python3.11/dist-packages (from langchain_community) (2.0.2)\n",
            "Requirement already satisfied: pytz in /usr/local/lib/python3.11/dist-packages (from neo4j) (2025.2)\n",
            "Requirement already satisfied: langchain-text-splitters<1.0.0,>=0.3.8 in /usr/local/lib/python3.11/dist-packages (from langchain) (0.3.8)\n",
            "Requirement already satisfied: pydantic<3.0.0,>=2.7.4 in /usr/local/lib/python3.11/dist-packages (from langchain) (2.11.2)\n",
            "Collecting filetype<2.0.0,>=1.2.0 (from langchain_google_genai)\n",
            "  Downloading filetype-1.2.0-py2.py3-none-any.whl.metadata (6.5 kB)\n",
            "Collecting google-ai-generativelanguage<0.7.0,>=0.6.16 (from langchain_google_genai)\n",
            "  Downloading google_ai_generativelanguage-0.6.17-py3-none-any.whl.metadata (9.8 kB)\n",
            "Requirement already satisfied: aiohappyeyeballs>=2.3.0 in /usr/local/lib/python3.11/dist-packages (from aiohttp<4.0.0,>=3.8.3->langchain_community) (2.6.1)\n",
            "Requirement already satisfied: aiosignal>=1.1.2 in /usr/local/lib/python3.11/dist-packages (from aiohttp<4.0.0,>=3.8.3->langchain_community) (1.3.2)\n",
            "Requirement already satisfied: attrs>=17.3.0 in /usr/local/lib/python3.11/dist-packages (from aiohttp<4.0.0,>=3.8.3->langchain_community) (25.3.0)\n",
            "Requirement already satisfied: frozenlist>=1.1.1 in /usr/local/lib/python3.11/dist-packages (from aiohttp<4.0.0,>=3.8.3->langchain_community) (1.5.0)\n",
            "Requirement already satisfied: multidict<7.0,>=4.5 in /usr/local/lib/python3.11/dist-packages (from aiohttp<4.0.0,>=3.8.3->langchain_community) (6.3.2)\n",
            "Requirement already satisfied: propcache>=0.2.0 in /usr/local/lib/python3.11/dist-packages (from aiohttp<4.0.0,>=3.8.3->langchain_community) (0.3.1)\n",
            "Requirement already satisfied: yarl<2.0,>=1.17.0 in /usr/local/lib/python3.11/dist-packages (from aiohttp<4.0.0,>=3.8.3->langchain_community) (1.18.3)\n",
            "Collecting marshmallow<4.0.0,>=3.18.0 (from dataclasses-json<0.7,>=0.5.7->langchain_community)\n",
            "  Downloading marshmallow-3.26.1-py3-none-any.whl.metadata (7.3 kB)\n",
            "Collecting typing-inspect<1,>=0.4.0 (from dataclasses-json<0.7,>=0.5.7->langchain_community)\n",
            "  Downloading typing_inspect-0.9.0-py3-none-any.whl.metadata (1.5 kB)\n",
            "Requirement already satisfied: google-api-core!=2.0.*,!=2.1.*,!=2.10.*,!=2.2.*,!=2.3.*,!=2.4.*,!=2.5.*,!=2.6.*,!=2.7.*,!=2.8.*,!=2.9.*,<3.0.0,>=1.34.1 in /usr/local/lib/python3.11/dist-packages (from google-api-core[grpc]!=2.0.*,!=2.1.*,!=2.10.*,!=2.2.*,!=2.3.*,!=2.4.*,!=2.5.*,!=2.6.*,!=2.7.*,!=2.8.*,!=2.9.*,<3.0.0,>=1.34.1->google-ai-generativelanguage<0.7.0,>=0.6.16->langchain_google_genai) (2.24.2)\n",
            "Requirement already satisfied: google-auth!=2.24.0,!=2.25.0,<3.0.0,>=2.14.1 in /usr/local/lib/python3.11/dist-packages (from google-ai-generativelanguage<0.7.0,>=0.6.16->langchain_google_genai) (2.38.0)\n",
            "Requirement already satisfied: proto-plus<2.0.0,>=1.22.3 in /usr/local/lib/python3.11/dist-packages (from google-ai-generativelanguage<0.7.0,>=0.6.16->langchain_google_genai) (1.26.1)\n",
            "Requirement already satisfied: protobuf!=4.21.0,!=4.21.1,!=4.21.2,!=4.21.3,!=4.21.4,!=4.21.5,<7.0.0,>=3.20.2 in /usr/local/lib/python3.11/dist-packages (from google-ai-generativelanguage<0.7.0,>=0.6.16->langchain_google_genai) (5.29.4)\n",
            "Requirement already satisfied: jsonpatch<2.0,>=1.33 in /usr/local/lib/python3.11/dist-packages (from langchain-core<1.0.0,>=0.3.51->langchain_community) (1.33)\n",
            "Requirement already satisfied: packaging<25,>=23.2 in /usr/local/lib/python3.11/dist-packages (from langchain-core<1.0.0,>=0.3.51->langchain_community) (24.2)\n",
            "Requirement already satisfied: typing-extensions>=4.7 in /usr/local/lib/python3.11/dist-packages (from langchain-core<1.0.0,>=0.3.51->langchain_community) (4.13.1)\n",
            "Requirement already satisfied: httpx<1,>=0.23.0 in /usr/local/lib/python3.11/dist-packages (from langsmith<0.4,>=0.1.125->langchain_community) (0.28.1)\n",
            "Requirement already satisfied: orjson<4.0.0,>=3.9.14 in /usr/local/lib/python3.11/dist-packages (from langsmith<0.4,>=0.1.125->langchain_community) (3.10.16)\n",
            "Requirement already satisfied: requests-toolbelt<2.0.0,>=1.0.0 in /usr/local/lib/python3.11/dist-packages (from langsmith<0.4,>=0.1.125->langchain_community) (1.0.0)\n",
            "Requirement already satisfied: zstandard<0.24.0,>=0.23.0 in /usr/local/lib/python3.11/dist-packages (from langsmith<0.4,>=0.1.125->langchain_community) (0.23.0)\n",
            "Requirement already satisfied: annotated-types>=0.6.0 in /usr/local/lib/python3.11/dist-packages (from pydantic<3.0.0,>=2.7.4->langchain) (0.7.0)\n",
            "Requirement already satisfied: pydantic-core==2.33.1 in /usr/local/lib/python3.11/dist-packages (from pydantic<3.0.0,>=2.7.4->langchain) (2.33.1)\n",
            "Requirement already satisfied: typing-inspection>=0.4.0 in /usr/local/lib/python3.11/dist-packages (from pydantic<3.0.0,>=2.7.4->langchain) (0.4.0)\n",
            "Requirement already satisfied: charset-normalizer<4,>=2 in /usr/local/lib/python3.11/dist-packages (from requests<3,>=2->langchain_community) (3.4.1)\n",
            "Requirement already satisfied: idna<4,>=2.5 in /usr/local/lib/python3.11/dist-packages (from requests<3,>=2->langchain_community) (3.10)\n",
            "Requirement already satisfied: urllib3<3,>=1.21.1 in /usr/local/lib/python3.11/dist-packages (from requests<3,>=2->langchain_community) (2.3.0)\n",
            "Requirement already satisfied: certifi>=2017.4.17 in /usr/local/lib/python3.11/dist-packages (from requests<3,>=2->langchain_community) (2025.1.31)\n",
            "Requirement already satisfied: greenlet>=1 in /usr/local/lib/python3.11/dist-packages (from SQLAlchemy<3,>=1.4->langchain_community) (3.1.1)\n",
            "Requirement already satisfied: googleapis-common-protos<2.0.0,>=1.56.2 in /usr/local/lib/python3.11/dist-packages (from google-api-core!=2.0.*,!=2.1.*,!=2.10.*,!=2.2.*,!=2.3.*,!=2.4.*,!=2.5.*,!=2.6.*,!=2.7.*,!=2.8.*,!=2.9.*,<3.0.0,>=1.34.1->google-api-core[grpc]!=2.0.*,!=2.1.*,!=2.10.*,!=2.2.*,!=2.3.*,!=2.4.*,!=2.5.*,!=2.6.*,!=2.7.*,!=2.8.*,!=2.9.*,<3.0.0,>=1.34.1->google-ai-generativelanguage<0.7.0,>=0.6.16->langchain_google_genai) (1.69.2)\n",
            "Requirement already satisfied: grpcio<2.0dev,>=1.33.2 in /usr/local/lib/python3.11/dist-packages (from google-api-core[grpc]!=2.0.*,!=2.1.*,!=2.10.*,!=2.2.*,!=2.3.*,!=2.4.*,!=2.5.*,!=2.6.*,!=2.7.*,!=2.8.*,!=2.9.*,<3.0.0,>=1.34.1->google-ai-generativelanguage<0.7.0,>=0.6.16->langchain_google_genai) (1.71.0)\n",
            "Requirement already satisfied: grpcio-status<2.0.dev0,>=1.33.2 in /usr/local/lib/python3.11/dist-packages (from google-api-core[grpc]!=2.0.*,!=2.1.*,!=2.10.*,!=2.2.*,!=2.3.*,!=2.4.*,!=2.5.*,!=2.6.*,!=2.7.*,!=2.8.*,!=2.9.*,<3.0.0,>=1.34.1->google-ai-generativelanguage<0.7.0,>=0.6.16->langchain_google_genai) (1.71.0)\n",
            "Requirement already satisfied: cachetools<6.0,>=2.0.0 in /usr/local/lib/python3.11/dist-packages (from google-auth!=2.24.0,!=2.25.0,<3.0.0,>=2.14.1->google-ai-generativelanguage<0.7.0,>=0.6.16->langchain_google_genai) (5.5.2)\n",
            "Requirement already satisfied: pyasn1-modules>=0.2.1 in /usr/local/lib/python3.11/dist-packages (from google-auth!=2.24.0,!=2.25.0,<3.0.0,>=2.14.1->google-ai-generativelanguage<0.7.0,>=0.6.16->langchain_google_genai) (0.4.2)\n",
            "Requirement already satisfied: rsa<5,>=3.1.4 in /usr/local/lib/python3.11/dist-packages (from google-auth!=2.24.0,!=2.25.0,<3.0.0,>=2.14.1->google-ai-generativelanguage<0.7.0,>=0.6.16->langchain_google_genai) (4.9)\n",
            "Requirement already satisfied: anyio in /usr/local/lib/python3.11/dist-packages (from httpx<1,>=0.23.0->langsmith<0.4,>=0.1.125->langchain_community) (4.9.0)\n",
            "Requirement already satisfied: httpcore==1.* in /usr/local/lib/python3.11/dist-packages (from httpx<1,>=0.23.0->langsmith<0.4,>=0.1.125->langchain_community) (1.0.7)\n",
            "Requirement already satisfied: h11<0.15,>=0.13 in /usr/local/lib/python3.11/dist-packages (from httpcore==1.*->httpx<1,>=0.23.0->langsmith<0.4,>=0.1.125->langchain_community) (0.14.0)\n",
            "Requirement already satisfied: jsonpointer>=1.9 in /usr/local/lib/python3.11/dist-packages (from jsonpatch<2.0,>=1.33->langchain-core<1.0.0,>=0.3.51->langchain_community) (3.0.0)\n",
            "Collecting mypy-extensions>=0.3.0 (from typing-inspect<1,>=0.4.0->dataclasses-json<0.7,>=0.5.7->langchain_community)\n",
            "  Downloading mypy_extensions-1.0.0-py3-none-any.whl.metadata (1.1 kB)\n",
            "Requirement already satisfied: pyasn1<0.7.0,>=0.6.1 in /usr/local/lib/python3.11/dist-packages (from pyasn1-modules>=0.2.1->google-auth!=2.24.0,!=2.25.0,<3.0.0,>=2.14.1->google-ai-generativelanguage<0.7.0,>=0.6.16->langchain_google_genai) (0.6.1)\n",
            "Requirement already satisfied: sniffio>=1.1 in /usr/local/lib/python3.11/dist-packages (from anyio->httpx<1,>=0.23.0->langsmith<0.4,>=0.1.125->langchain_community) (1.3.1)\n",
            "Downloading dotenv-0.9.9-py2.py3-none-any.whl (1.9 kB)\n",
            "Downloading langchain_community-0.3.21-py3-none-any.whl (2.5 MB)\n",
            "\u001b[2K   \u001b[90m━━━━━━━━━━━━━━━━━━━━━━━━━━━━━━━━━━━━━━━━\u001b[0m \u001b[32m2.5/2.5 MB\u001b[0m \u001b[31m25.1 MB/s\u001b[0m eta \u001b[36m0:00:00\u001b[0m\n",
            "\u001b[?25hDownloading neo4j-5.28.1-py3-none-any.whl (312 kB)\n",
            "\u001b[2K   \u001b[90m━━━━━━━━━━━━━━━━━━━━━━━━━━━━━━━━━━━━━━━━\u001b[0m \u001b[32m312.3/312.3 kB\u001b[0m \u001b[31m14.9 MB/s\u001b[0m eta \u001b[36m0:00:00\u001b[0m\n",
            "\u001b[?25hDownloading langchain_google_genai-2.1.2-py3-none-any.whl (42 kB)\n",
            "\u001b[2K   \u001b[90m━━━━━━━━━━━━━━━━━━━━━━━━━━━━━━━━━━━━━━━━\u001b[0m \u001b[32m42.0/42.0 kB\u001b[0m \u001b[31m2.4 MB/s\u001b[0m eta \u001b[36m0:00:00\u001b[0m\n",
            "\u001b[?25hDownloading dataclasses_json-0.6.7-py3-none-any.whl (28 kB)\n",
            "Downloading filetype-1.2.0-py2.py3-none-any.whl (19 kB)\n",
            "Downloading google_ai_generativelanguage-0.6.17-py3-none-any.whl (1.4 MB)\n",
            "\u001b[2K   \u001b[90m━━━━━━━━━━━━━━━━━━━━━━━━━━━━━━━━━━━━━━━━\u001b[0m \u001b[32m1.4/1.4 MB\u001b[0m \u001b[31m45.1 MB/s\u001b[0m eta \u001b[36m0:00:00\u001b[0m\n",
            "\u001b[?25hDownloading httpx_sse-0.4.0-py3-none-any.whl (7.8 kB)\n",
            "Downloading pydantic_settings-2.8.1-py3-none-any.whl (30 kB)\n",
            "Downloading python_dotenv-1.1.0-py3-none-any.whl (20 kB)\n",
            "Downloading marshmallow-3.26.1-py3-none-any.whl (50 kB)\n",
            "\u001b[2K   \u001b[90m━━━━━━━━━━━━━━━━━━━━━━━━━━━━━━━━━━━━━━━━\u001b[0m \u001b[32m50.9/50.9 kB\u001b[0m \u001b[31m2.6 MB/s\u001b[0m eta \u001b[36m0:00:00\u001b[0m\n",
            "\u001b[?25hDownloading typing_inspect-0.9.0-py3-none-any.whl (8.8 kB)\n",
            "Downloading mypy_extensions-1.0.0-py3-none-any.whl (4.7 kB)\n",
            "Installing collected packages: filetype, python-dotenv, neo4j, mypy-extensions, marshmallow, httpx-sse, typing-inspect, dotenv, pydantic-settings, dataclasses-json, google-ai-generativelanguage, langchain_google_genai, langchain_community\n",
            "  Attempting uninstall: google-ai-generativelanguage\n",
            "    Found existing installation: google-ai-generativelanguage 0.6.15\n",
            "    Uninstalling google-ai-generativelanguage-0.6.15:\n",
            "      Successfully uninstalled google-ai-generativelanguage-0.6.15\n",
            "\u001b[31mERROR: pip's dependency resolver does not currently take into account all the packages that are installed. This behaviour is the source of the following dependency conflicts.\n",
            "google-generativeai 0.8.4 requires google-ai-generativelanguage==0.6.15, but you have google-ai-generativelanguage 0.6.17 which is incompatible.\u001b[0m\u001b[31m\n",
            "\u001b[0mSuccessfully installed dataclasses-json-0.6.7 dotenv-0.9.9 filetype-1.2.0 google-ai-generativelanguage-0.6.17 httpx-sse-0.4.0 langchain_community-0.3.21 langchain_google_genai-2.1.2 marshmallow-3.26.1 mypy-extensions-1.0.0 neo4j-5.28.1 pydantic-settings-2.8.1 python-dotenv-1.1.0 typing-inspect-0.9.0\n"
          ]
        },
        {
          "output_type": "display_data",
          "data": {
            "application/vnd.colab-display-data+json": {
              "pip_warning": {
                "packages": [
                  "google"
                ]
              },
              "id": "840d3cda06ad4f449ac342677172b615"
            }
          },
          "metadata": {}
        }
      ],
      "source": [
        "!pip install dotenv langchain_community neo4j langchain langchain_google_genai"
      ]
    },
    {
      "cell_type": "code",
      "source": [
        "# Common data processing\n",
        "import textwrap\n",
        "\n",
        "# Langchain\n",
        "from langchain_community.graphs import Neo4jGraph\n",
        "from langchain_community.vectorstores import Neo4jVector\n",
        "from langchain.text_splitter import RecursiveCharacterTextSplitter\n",
        "from langchain.chains import RetrievalQAWithSourcesChain\n",
        "from langchain_google_genai import GoogleGenerativeAIEmbeddings\n",
        "from langchain_google_genai import ChatGoogleGenerativeAI\n",
        "\n",
        "# Warning control\n",
        "import warnings\n",
        "warnings.filterwarnings(\"ignore\")\n",
        "\n",
        "# Colab secret access\n",
        "from google.colab import userdata"
      ],
      "metadata": {
        "id": "wSZ6g_ArVHK3"
      },
      "execution_count": null,
      "outputs": []
    },
    {
      "cell_type": "code",
      "source": [
        "# Load from Colab userdata\n",
        "NEO4J_URI = userdata.get('EDGAR_URI')\n",
        "NEO4J_USERNAME = userdata.get('EDGAR_USERNAME')\n",
        "NEO4J_PASSWORD = userdata.get('EDGAR_PASSWORD')\n",
        "NEO4J_DATABASE = userdata.get('EDGAR_DATABASE')\n",
        "GEMINI_API_KEY = userdata.get('gemini')\n",
        "GEMINI_ENDPOINT = 'https://generativelanguage.googleapis.com/v1beta/models/text-embedding-004:embedText'"
      ],
      "metadata": {
        "id": "m5kHraAeVv7j"
      },
      "execution_count": null,
      "outputs": []
    },
    {
      "cell_type": "code",
      "source": [
        "# Global constants\n",
        "VECTOR_INDEX_NAME = 'form_10k_chunks'\n",
        "VECTOR_NODE_LABEL = 'Chunk'\n",
        "VECTOR_SOURCE_PROPERTY = 'text'\n",
        "VECTOR_EMBEDDING_PROPERTY = 'textEmbedding'"
      ],
      "metadata": {
        "id": "jrv6dzoxWFpR"
      },
      "execution_count": null,
      "outputs": []
    },
    {
      "cell_type": "code",
      "source": [
        "kg = Neo4jGraph(\n",
        "    url=NEO4J_URI, username=NEO4J_USERNAME, password=NEO4J_PASSWORD, database=NEO4J_DATABASE\n",
        ")"
      ],
      "metadata": {
        "id": "-Pz11WKpWGZj"
      },
      "execution_count": null,
      "outputs": []
    },
    {
      "cell_type": "code",
      "source": [
        "cypher = \"\"\"\n",
        "  MATCH (anyChunk:Chunk)\n",
        "  WITH anyChunk LIMIT 1\n",
        "  RETURN anyChunk { .names, .source, .formId, .cik, .cusip6 } as formInfo\n",
        "\"\"\"\n",
        "form_info_list = kg.query(cypher)\n",
        "\n",
        "form_info_list"
      ],
      "metadata": {
        "colab": {
          "base_uri": "https://localhost:8080/"
        },
        "id": "1Pqq-E_EWIQA",
        "outputId": "8e11ea6e-0750-470b-fc96-c3c82c404d79"
      },
      "execution_count": null,
      "outputs": [
        {
          "output_type": "execute_result",
          "data": {
            "text/plain": [
              "[{'formInfo': {'cik': '1002047',\n",
              "   'source': 'https://www.sec.gov/Archives/edgar/data/1002047/000095017023027948/0000950170-23-027948-index.htm',\n",
              "   'formId': '0000950170-23-027948',\n",
              "   'names': ['Netapp Inc', 'NETAPP INC'],\n",
              "   'cusip6': '64110D'}}]"
            ]
          },
          "metadata": {},
          "execution_count": 6
        }
      ]
    },
    {
      "cell_type": "code",
      "source": [
        "form_info = form_info_list[0]['formInfo']"
      ],
      "metadata": {
        "id": "Qo2bAjNeWMZF"
      },
      "execution_count": null,
      "outputs": []
    },
    {
      "cell_type": "code",
      "source": [
        "form_info"
      ],
      "metadata": {
        "colab": {
          "base_uri": "https://localhost:8080/"
        },
        "id": "ruKW4SGFWOnQ",
        "outputId": "cb81ac73-289f-4475-a729-f9bc0c1e38f6"
      },
      "execution_count": null,
      "outputs": [
        {
          "output_type": "execute_result",
          "data": {
            "text/plain": [
              "{'cik': '1002047',\n",
              " 'source': 'https://www.sec.gov/Archives/edgar/data/1002047/000095017023027948/0000950170-23-027948-index.htm',\n",
              " 'formId': '0000950170-23-027948',\n",
              " 'names': ['Netapp Inc', 'NETAPP INC'],\n",
              " 'cusip6': '64110D'}"
            ]
          },
          "metadata": {},
          "execution_count": 8
        }
      ]
    },
    {
      "cell_type": "code",
      "source": [
        "cypher = \"\"\"\n",
        "    MERGE (f:Form {formId: $formInfoParam.formId })\n",
        "      ON CREATE\n",
        "        SET f.names = $formInfoParam.names\n",
        "        SET f.source = $formInfoParam.source\n",
        "        SET f.cik = $formInfoParam.cik\n",
        "        SET f.cusip6 = $formInfoParam.cusip6\n",
        "\"\"\"\n",
        "\n",
        "kg.query(cypher, params={'formInfoParam': form_info})"
      ],
      "metadata": {
        "colab": {
          "base_uri": "https://localhost:8080/"
        },
        "id": "SPRWUVIYWQIw",
        "outputId": "54a73bf2-1ec3-4f73-afe8-45485bb66f09"
      },
      "execution_count": null,
      "outputs": [
        {
          "output_type": "execute_result",
          "data": {
            "text/plain": [
              "[]"
            ]
          },
          "metadata": {},
          "execution_count": 9
        }
      ]
    },
    {
      "cell_type": "code",
      "source": [
        "kg.query(\"MATCH (f:Form) RETURN count(f) as formCount\")"
      ],
      "metadata": {
        "colab": {
          "base_uri": "https://localhost:8080/"
        },
        "id": "iCY2RC4IWSCa",
        "outputId": "8f3ecf9b-94f3-4ae4-9485-aae00c59134d"
      },
      "execution_count": null,
      "outputs": [
        {
          "output_type": "execute_result",
          "data": {
            "text/plain": [
              "[{'formCount': 1}]"
            ]
          },
          "metadata": {},
          "execution_count": 10
        }
      ]
    },
    {
      "cell_type": "code",
      "source": [
        "cypher = \"\"\"\n",
        "  MATCH (from_same_form:Chunk)\n",
        "    WHERE from_same_form.formId = $formIdParam\n",
        "  RETURN from_same_form {.formId, .f10kItem, .chunkId, .chunkSeqId } as chunkInfo\n",
        "    LIMIT 10\n",
        "\"\"\"\n",
        "\n",
        "kg.query(cypher, params={'formIdParam': form_info['formId']})"
      ],
      "metadata": {
        "colab": {
          "base_uri": "https://localhost:8080/"
        },
        "id": "Xt5kCJWgWTnt",
        "outputId": "8e493ce3-784f-4cf8-a776-e635352cc3f6"
      },
      "execution_count": null,
      "outputs": [
        {
          "output_type": "execute_result",
          "data": {
            "text/plain": [
              "[{'chunkInfo': {'formId': '0000950170-23-027948',\n",
              "   'f10kItem': 'item1',\n",
              "   'chunkId': '0000950170-23-027948-item1-chunk0000',\n",
              "   'chunkSeqId': 0}},\n",
              " {'chunkInfo': {'formId': '0000950170-23-027948',\n",
              "   'f10kItem': 'item1',\n",
              "   'chunkId': '0000950170-23-027948-item1-chunk0001',\n",
              "   'chunkSeqId': 1}},\n",
              " {'chunkInfo': {'formId': '0000950170-23-027948',\n",
              "   'f10kItem': 'item1',\n",
              "   'chunkId': '0000950170-23-027948-item1-chunk0002',\n",
              "   'chunkSeqId': 2}},\n",
              " {'chunkInfo': {'formId': '0000950170-23-027948',\n",
              "   'f10kItem': 'item1',\n",
              "   'chunkId': '0000950170-23-027948-item1-chunk0003',\n",
              "   'chunkSeqId': 3}},\n",
              " {'chunkInfo': {'formId': '0000950170-23-027948',\n",
              "   'f10kItem': 'item1',\n",
              "   'chunkId': '0000950170-23-027948-item1-chunk0004',\n",
              "   'chunkSeqId': 4}},\n",
              " {'chunkInfo': {'formId': '0000950170-23-027948',\n",
              "   'f10kItem': 'item1',\n",
              "   'chunkId': '0000950170-23-027948-item1-chunk0005',\n",
              "   'chunkSeqId': 5}},\n",
              " {'chunkInfo': {'formId': '0000950170-23-027948',\n",
              "   'f10kItem': 'item1',\n",
              "   'chunkId': '0000950170-23-027948-item1-chunk0006',\n",
              "   'chunkSeqId': 6}},\n",
              " {'chunkInfo': {'formId': '0000950170-23-027948',\n",
              "   'f10kItem': 'item1',\n",
              "   'chunkId': '0000950170-23-027948-item1-chunk0007',\n",
              "   'chunkSeqId': 7}},\n",
              " {'chunkInfo': {'formId': '0000950170-23-027948',\n",
              "   'f10kItem': 'item1',\n",
              "   'chunkId': '0000950170-23-027948-item1-chunk0008',\n",
              "   'chunkSeqId': 8}},\n",
              " {'chunkInfo': {'formId': '0000950170-23-027948',\n",
              "   'f10kItem': 'item1',\n",
              "   'chunkId': '0000950170-23-027948-item1-chunk0009',\n",
              "   'chunkSeqId': 9}}]"
            ]
          },
          "metadata": {},
          "execution_count": 11
        }
      ]
    },
    {
      "cell_type": "code",
      "source": [
        "cypher = \"\"\"\n",
        "  MATCH (from_same_form:Chunk)\n",
        "    WHERE from_same_form.formId = $formIdParam\n",
        "  RETURN from_same_form {.formId, .f10kItem, .chunkId, .chunkSeqId } as chunkInfo\n",
        "    ORDER BY from_same_form.chunkSeqId ASC\n",
        "    LIMIT 10\n",
        "\"\"\"\n",
        "\n",
        "kg.query(cypher, params={'formIdParam': form_info['formId']})"
      ],
      "metadata": {
        "colab": {
          "base_uri": "https://localhost:8080/"
        },
        "id": "ahQ0jy5pWVhH",
        "outputId": "5d9a9e17-1d63-4163-8834-516e23358c60"
      },
      "execution_count": null,
      "outputs": [
        {
          "output_type": "execute_result",
          "data": {
            "text/plain": [
              "[{'chunkInfo': {'formId': '0000950170-23-027948',\n",
              "   'f10kItem': 'item7a',\n",
              "   'chunkId': '0000950170-23-027948-item7a-chunk0000',\n",
              "   'chunkSeqId': 0}},\n",
              " {'chunkInfo': {'formId': '0000950170-23-027948',\n",
              "   'f10kItem': 'item7',\n",
              "   'chunkId': '0000950170-23-027948-item7-chunk0000',\n",
              "   'chunkSeqId': 0}},\n",
              " {'chunkInfo': {'formId': '0000950170-23-027948',\n",
              "   'f10kItem': 'item1a',\n",
              "   'chunkId': '0000950170-23-027948-item1a-chunk0000',\n",
              "   'chunkSeqId': 0}},\n",
              " {'chunkInfo': {'formId': '0000950170-23-027948',\n",
              "   'f10kItem': 'item1',\n",
              "   'chunkId': '0000950170-23-027948-item1-chunk0000',\n",
              "   'chunkSeqId': 0}},\n",
              " {'chunkInfo': {'formId': '0000950170-23-027948',\n",
              "   'f10kItem': 'item1',\n",
              "   'chunkId': '0000950170-23-027948-item1-chunk0001',\n",
              "   'chunkSeqId': 1}},\n",
              " {'chunkInfo': {'formId': '0000950170-23-027948',\n",
              "   'f10kItem': 'item1',\n",
              "   'chunkId': '0000950170-23-027948-item1-chunk0002',\n",
              "   'chunkSeqId': 2}},\n",
              " {'chunkInfo': {'formId': '0000950170-23-027948',\n",
              "   'f10kItem': 'item1',\n",
              "   'chunkId': '0000950170-23-027948-item1-chunk0003',\n",
              "   'chunkSeqId': 3}},\n",
              " {'chunkInfo': {'formId': '0000950170-23-027948',\n",
              "   'f10kItem': 'item1',\n",
              "   'chunkId': '0000950170-23-027948-item1-chunk0004',\n",
              "   'chunkSeqId': 4}},\n",
              " {'chunkInfo': {'formId': '0000950170-23-027948',\n",
              "   'f10kItem': 'item1',\n",
              "   'chunkId': '0000950170-23-027948-item1-chunk0005',\n",
              "   'chunkSeqId': 5}},\n",
              " {'chunkInfo': {'formId': '0000950170-23-027948',\n",
              "   'f10kItem': 'item1',\n",
              "   'chunkId': '0000950170-23-027948-item1-chunk0006',\n",
              "   'chunkSeqId': 6}}]"
            ]
          },
          "metadata": {},
          "execution_count": 12
        }
      ]
    },
    {
      "cell_type": "code",
      "source": [
        "cypher = \"\"\"\n",
        "  MATCH (from_same_section:Chunk)\n",
        "  WHERE from_same_section.formId = $formIdParam\n",
        "    AND from_same_section.f10kItem = $f10kItemParam // NEW!!!\n",
        "  RETURN from_same_section { .formId, .f10kItem, .chunkId, .chunkSeqId }\n",
        "    ORDER BY from_same_section.chunkSeqId ASC\n",
        "    LIMIT 10\n",
        "\"\"\"\n",
        "\n",
        "kg.query(cypher, params={'formIdParam': form_info['formId'],\n",
        "                         'f10kItemParam': 'item1'})"
      ],
      "metadata": {
        "colab": {
          "base_uri": "https://localhost:8080/"
        },
        "id": "O910YNMRWYB-",
        "outputId": "e6f3b2bd-e213-4957-e1e4-8a45f3dc49d8"
      },
      "execution_count": null,
      "outputs": [
        {
          "output_type": "execute_result",
          "data": {
            "text/plain": [
              "[{'from_same_section': {'formId': '0000950170-23-027948',\n",
              "   'f10kItem': 'item1',\n",
              "   'chunkId': '0000950170-23-027948-item1-chunk0000',\n",
              "   'chunkSeqId': 0}},\n",
              " {'from_same_section': {'formId': '0000950170-23-027948',\n",
              "   'f10kItem': 'item1',\n",
              "   'chunkId': '0000950170-23-027948-item1-chunk0001',\n",
              "   'chunkSeqId': 1}},\n",
              " {'from_same_section': {'formId': '0000950170-23-027948',\n",
              "   'f10kItem': 'item1',\n",
              "   'chunkId': '0000950170-23-027948-item1-chunk0002',\n",
              "   'chunkSeqId': 2}},\n",
              " {'from_same_section': {'formId': '0000950170-23-027948',\n",
              "   'f10kItem': 'item1',\n",
              "   'chunkId': '0000950170-23-027948-item1-chunk0003',\n",
              "   'chunkSeqId': 3}},\n",
              " {'from_same_section': {'formId': '0000950170-23-027948',\n",
              "   'f10kItem': 'item1',\n",
              "   'chunkId': '0000950170-23-027948-item1-chunk0004',\n",
              "   'chunkSeqId': 4}},\n",
              " {'from_same_section': {'formId': '0000950170-23-027948',\n",
              "   'f10kItem': 'item1',\n",
              "   'chunkId': '0000950170-23-027948-item1-chunk0005',\n",
              "   'chunkSeqId': 5}},\n",
              " {'from_same_section': {'formId': '0000950170-23-027948',\n",
              "   'f10kItem': 'item1',\n",
              "   'chunkId': '0000950170-23-027948-item1-chunk0006',\n",
              "   'chunkSeqId': 6}},\n",
              " {'from_same_section': {'formId': '0000950170-23-027948',\n",
              "   'f10kItem': 'item1',\n",
              "   'chunkId': '0000950170-23-027948-item1-chunk0007',\n",
              "   'chunkSeqId': 7}},\n",
              " {'from_same_section': {'formId': '0000950170-23-027948',\n",
              "   'f10kItem': 'item1',\n",
              "   'chunkId': '0000950170-23-027948-item1-chunk0008',\n",
              "   'chunkSeqId': 8}},\n",
              " {'from_same_section': {'formId': '0000950170-23-027948',\n",
              "   'f10kItem': 'item1',\n",
              "   'chunkId': '0000950170-23-027948-item1-chunk0009',\n",
              "   'chunkSeqId': 9}}]"
            ]
          },
          "metadata": {},
          "execution_count": 13
        }
      ]
    },
    {
      "cell_type": "code",
      "source": [
        "cypher = \"\"\"\n",
        "  MATCH (from_same_section:Chunk)\n",
        "  WHERE from_same_section.formId = $formIdParam\n",
        "    AND from_same_section.f10kItem = $f10kItemParam\n",
        "  WITH from_same_section { .formId, .f10kItem, .chunkId, .chunkSeqId }\n",
        "    ORDER BY from_same_section.chunkSeqId ASC\n",
        "    LIMIT 10\n",
        "  RETURN collect(from_same_section) // NEW!!!\n",
        "\"\"\"\n",
        "\n",
        "kg.query(cypher, params={'formIdParam': form_info['formId'],\n",
        "                         'f10kItemParam': 'item1'})"
      ],
      "metadata": {
        "colab": {
          "base_uri": "https://localhost:8080/"
        },
        "id": "e-U4rHC1Wa0Y",
        "outputId": "05522199-b14d-428e-afe4-8330bd644c2a"
      },
      "execution_count": null,
      "outputs": [
        {
          "output_type": "execute_result",
          "data": {
            "text/plain": [
              "[{'collect(from_same_section)': [{'formId': '0000950170-23-027948',\n",
              "    'f10kItem': 'item1',\n",
              "    'chunkId': '0000950170-23-027948-item1-chunk0000',\n",
              "    'chunkSeqId': 0},\n",
              "   {'formId': '0000950170-23-027948',\n",
              "    'f10kItem': 'item1',\n",
              "    'chunkId': '0000950170-23-027948-item1-chunk0001',\n",
              "    'chunkSeqId': 1},\n",
              "   {'formId': '0000950170-23-027948',\n",
              "    'f10kItem': 'item1',\n",
              "    'chunkId': '0000950170-23-027948-item1-chunk0002',\n",
              "    'chunkSeqId': 2},\n",
              "   {'formId': '0000950170-23-027948',\n",
              "    'f10kItem': 'item1',\n",
              "    'chunkId': '0000950170-23-027948-item1-chunk0003',\n",
              "    'chunkSeqId': 3},\n",
              "   {'formId': '0000950170-23-027948',\n",
              "    'f10kItem': 'item1',\n",
              "    'chunkId': '0000950170-23-027948-item1-chunk0004',\n",
              "    'chunkSeqId': 4},\n",
              "   {'formId': '0000950170-23-027948',\n",
              "    'f10kItem': 'item1',\n",
              "    'chunkId': '0000950170-23-027948-item1-chunk0005',\n",
              "    'chunkSeqId': 5},\n",
              "   {'formId': '0000950170-23-027948',\n",
              "    'f10kItem': 'item1',\n",
              "    'chunkId': '0000950170-23-027948-item1-chunk0006',\n",
              "    'chunkSeqId': 6},\n",
              "   {'formId': '0000950170-23-027948',\n",
              "    'f10kItem': 'item1',\n",
              "    'chunkId': '0000950170-23-027948-item1-chunk0007',\n",
              "    'chunkSeqId': 7},\n",
              "   {'formId': '0000950170-23-027948',\n",
              "    'f10kItem': 'item1',\n",
              "    'chunkId': '0000950170-23-027948-item1-chunk0008',\n",
              "    'chunkSeqId': 8},\n",
              "   {'formId': '0000950170-23-027948',\n",
              "    'f10kItem': 'item1',\n",
              "    'chunkId': '0000950170-23-027948-item1-chunk0009',\n",
              "    'chunkSeqId': 9}]}]"
            ]
          },
          "metadata": {},
          "execution_count": 14
        }
      ]
    },
    {
      "cell_type": "code",
      "source": [
        "cypher = \"\"\"\n",
        "  MATCH (from_same_section:Chunk)\n",
        "  WHERE from_same_section.formId = $formIdParam\n",
        "    AND from_same_section.f10kItem = $f10kItemParam\n",
        "  WITH from_same_section\n",
        "    ORDER BY from_same_section.chunkSeqId ASC\n",
        "  WITH collect(from_same_section) as section_chunk_list\n",
        "    CALL apoc.nodes.link(\n",
        "        section_chunk_list,\n",
        "        \"NEXT\",\n",
        "        {avoidDuplicates: true}\n",
        "    )  // NEW!!!\n",
        "  RETURN size(section_chunk_list)\n",
        "\"\"\"\n",
        "\n",
        "kg.query(cypher, params={'formIdParam': form_info['formId'],\n",
        "                         'f10kItemParam': 'item1'})"
      ],
      "metadata": {
        "colab": {
          "base_uri": "https://localhost:8080/"
        },
        "id": "pv2QDnw0Wdr_",
        "outputId": "baf6441e-6cec-44ef-f200-c70f916d01e2"
      },
      "execution_count": null,
      "outputs": [
        {
          "output_type": "execute_result",
          "data": {
            "text/plain": [
              "[{'size(section_chunk_list)': 20}]"
            ]
          },
          "metadata": {},
          "execution_count": 15
        }
      ]
    },
    {
      "cell_type": "code",
      "source": [
        "kg.refresh_schema()\n",
        "print(kg.schema)"
      ],
      "metadata": {
        "colab": {
          "base_uri": "https://localhost:8080/"
        },
        "id": "fVMlEOu0WglL",
        "outputId": "56d367cd-f465-4567-deeb-b87b4cc49fe3"
      },
      "execution_count": null,
      "outputs": [
        {
          "output_type": "stream",
          "name": "stdout",
          "text": [
            "Node properties:\n",
            "Chunk {chunkId: STRING, names: LIST, formId: STRING, cik: STRING, cusip6: STRING, source: STRING, f10kItem: STRING, chunkSeqId: INTEGER, text: STRING, textEmbedding: LIST}\n",
            "Form {names: LIST, formId: STRING, cik: STRING, cusip6: STRING, source: STRING}\n",
            "Relationship properties:\n",
            "\n",
            "The relationships:\n",
            "(:Chunk)-[:NEXT]->(:Chunk)\n"
          ]
        }
      ]
    },
    {
      "cell_type": "code",
      "source": [
        "cypher = \"\"\"\n",
        "  MATCH (from_same_section:Chunk)\n",
        "  WHERE from_same_section.formId = $formIdParam\n",
        "    AND from_same_section.f10kItem = $f10kItemParam\n",
        "  WITH from_same_section\n",
        "    ORDER BY from_same_section.chunkSeqId ASC\n",
        "  WITH collect(from_same_section) as section_chunk_list\n",
        "    CALL apoc.nodes.link(\n",
        "        section_chunk_list,\n",
        "        \"NEXT\",\n",
        "        {avoidDuplicates: true}\n",
        "    )\n",
        "  RETURN size(section_chunk_list)\n",
        "\"\"\"\n",
        "for form10kItemName in ['item1', 'item1a', 'item7', 'item7a']:\n",
        "  kg.query(cypher, params={'formIdParam':form_info['formId'],\n",
        "                           'f10kItemParam': form10kItemName})"
      ],
      "metadata": {
        "id": "14kIN2JBWiO-"
      },
      "execution_count": null,
      "outputs": []
    },
    {
      "cell_type": "code",
      "source": [
        "cypher = \"\"\"\n",
        "  MATCH (c:Chunk), (f:Form)\n",
        "    WHERE c.formId = f.formId\n",
        "  MERGE (c)-[newRelationship:PART_OF]->(f)\n",
        "  RETURN count(newRelationship)\n",
        "\"\"\"\n",
        "\n",
        "kg.query(cypher)"
      ],
      "metadata": {
        "colab": {
          "base_uri": "https://localhost:8080/"
        },
        "id": "2nA9h3qoWkpc",
        "outputId": "10c80f22-ec9c-4870-90ce-8d6f8680f5ac"
      },
      "execution_count": null,
      "outputs": [
        {
          "output_type": "execute_result",
          "data": {
            "text/plain": [
              "[{'count(newRelationship)': 23}]"
            ]
          },
          "metadata": {},
          "execution_count": 18
        }
      ]
    },
    {
      "cell_type": "code",
      "source": [
        "cypher = \"\"\"\n",
        "  MATCH (first:Chunk), (f:Form)\n",
        "  WHERE first.formId = f.formId\n",
        "    AND first.chunkSeqId = 0\n",
        "  WITH first, f\n",
        "    MERGE (f)-[r:SECTION {f10kItem: first.f10kItem}]->(first)\n",
        "  RETURN count(r)\n",
        "\"\"\"\n",
        "\n",
        "kg.query(cypher)"
      ],
      "metadata": {
        "colab": {
          "base_uri": "https://localhost:8080/"
        },
        "id": "nig3RpQpWm9x",
        "outputId": "dae7ff40-ef71-45b6-8d4f-5a4a985b92f4"
      },
      "execution_count": null,
      "outputs": [
        {
          "output_type": "execute_result",
          "data": {
            "text/plain": [
              "[{'count(r)': 4}]"
            ]
          },
          "metadata": {},
          "execution_count": 19
        }
      ]
    },
    {
      "cell_type": "code",
      "source": [
        "cypher = \"\"\"\n",
        "  MATCH (f:Form)-[r:SECTION]->(first:Chunk)\n",
        "    WHERE f.formId = $formIdParam\n",
        "        AND r.f10kItem = $f10kItemParam\n",
        "  RETURN first.chunkId as chunkId, first.text as text\n",
        "\"\"\"\n",
        "\n",
        "first_chunk_info = kg.query(cypher, params={\n",
        "    'formIdParam': form_info['formId'],\n",
        "    'f10kItemParam': 'item1'\n",
        "})[0]\n",
        "\n",
        "first_chunk_info"
      ],
      "metadata": {
        "colab": {
          "base_uri": "https://localhost:8080/"
        },
        "id": "IaUV-DgxWofI",
        "outputId": "a41c6722-d351-4b9e-d896-ef324e916656"
      },
      "execution_count": null,
      "outputs": [
        {
          "output_type": "execute_result",
          "data": {
            "text/plain": [
              "{'chunkId': '0000950170-23-027948-item1-chunk0000',\n",
              " 'text': '>Item 1.  \\nBusiness\\n\\n\\nOverview\\n\\n\\nNetApp, Inc. (NetApp, we, us or the Company) is a global cloud-led, data-centric software company. We were incorporated in 1992 and are headquartered in San Jose, California. Building on more than three decades of innovation, we give customers the freedom to manage applications and data across hybrid multicloud environments. Our portfolio of cloud services, and storage infrastructure, powered by intelligent data management software, enables applications to run faster, more reliably, and more securely, all at a lower cost.\\n\\n\\nOur opportunity is defined by the durable megatrends of data-driven digital and cloud transformations. NetApp helps organizations meet the complexities created by rapid data and cloud growth, multi-cloud management, and the adoption of next-generation technologies, such as AI, Kubernetes, and modern databases. Our modern approach to hybrid, multicloud infrastructure and data management, which we term ‘evolved cloud’, provides customers the ability to leverage data across their entire estate with simplicity, security, and sustainability which increases our relevance and value to our customers.\\n\\n\\nIn an evolved cloud state, the cloud is fully integrated into an organization’s architecture and operations. Data centers and clouds are seamlessly united and hybrid multicloud operations are simplified, with consistency and observability across environments. The key benefits NetApp brings to an organization’s hybrid multicloud environment are:\\n\\n\\n•\\nOperational simplicity: NetApp’s use of open source, open architectures and APIs, microservices, and common capabilities and data services facilitate the creation of applications that can run anywhere.\\n\\n\\n•\\nFlexibility and consistency: NetApp makes moving data and applications between environments seamless through a common storage foundation across on-premises and multicloud environments.'}"
            ]
          },
          "metadata": {},
          "execution_count": 20
        }
      ]
    },
    {
      "cell_type": "code",
      "source": [
        "cypher = \"\"\"\n",
        "  MATCH (first:Chunk)-[:NEXT]->(nextChunk:Chunk)\n",
        "    WHERE first.chunkId = $chunkIdParam\n",
        "  RETURN nextChunk.chunkId as chunkId, nextChunk.text as text\n",
        "\"\"\"\n",
        "\n",
        "next_chunk_info = kg.query(cypher, params={\n",
        "    'chunkIdParam': first_chunk_info['chunkId']\n",
        "})[0]\n",
        "\n",
        "next_chunk_info"
      ],
      "metadata": {
        "colab": {
          "base_uri": "https://localhost:8080/"
        },
        "id": "Wi3dXifrWqE8",
        "outputId": "853f2c70-a9d1-4221-9c2c-2c038084be27"
      },
      "execution_count": null,
      "outputs": [
        {
          "output_type": "execute_result",
          "data": {
            "text/plain": [
              "{'chunkId': '0000950170-23-027948-item1-chunk0001',\n",
              " 'text': \"•\\nFlexibility and consistency: NetApp makes moving data and applications between environments seamless through a common storage foundation across on-premises and multicloud environments.\\n\\n\\n•\\nCyber resilience: NetApp unifies monitoring, data protection, security, governance, and compliance for total cyber resilience - with consistency and automation across environments. \\n\\n\\n•\\nContinuous operations: NetApp uses AI-driven automation for continuous optimization to service applications and store stateless and stateful applications at the lowest possible costs.\\n\\n\\n•\\nSustainability: NetApp has industry-leading tools to audit consumption, locate waste, and set guardrails to stop overprovisioning.\\n\\n\\nProduct, Solutions and Services Portfolio\\n \\n\\n\\nNetApp's portfolio of cloud services and storage infrastructure is powered by intelligent data management software. Our operations are organized into two segments: Hybrid Cloud and Public Cloud.\\n\\n\\n \\n\\n\\nHybrid Cloud\\n\\n\\nHybrid Cloud \\noffers a portfolio of storage management and infrastructure solutions that help customers recast their traditional data centers into modern data centers with the power of the cloud. Our hybrid cloud portfolio is designed to operate with public clouds to unlock the potential of hybrid, multi-cloud operations. We offer a broad portfolio of cloud-connected all-flash, hybrid-flash, and object storage systems, powered by intelligent data management software. Hybrid Cloud is composed of software, hardware, and related support, as well as professional and other services.\\n\\n\\nIntelligent data management software\"}"
            ]
          },
          "metadata": {},
          "execution_count": 21
        }
      ]
    },
    {
      "cell_type": "code",
      "source": [
        "print(first_chunk_info['chunkId'], next_chunk_info['chunkId'])"
      ],
      "metadata": {
        "colab": {
          "base_uri": "https://localhost:8080/"
        },
        "id": "Sc-I9zhwWywG",
        "outputId": "973a714f-ec54-4cc2-c2a3-41f7ed1f8543"
      },
      "execution_count": null,
      "outputs": [
        {
          "output_type": "stream",
          "name": "stdout",
          "text": [
            "0000950170-23-027948-item1-chunk0000 0000950170-23-027948-item1-chunk0001\n"
          ]
        }
      ]
    },
    {
      "cell_type": "code",
      "source": [
        "cypher = \"\"\"\n",
        "    MATCH (c1:Chunk)-[:NEXT]->(c2:Chunk)-[:NEXT]->(c3:Chunk)\n",
        "        WHERE c2.chunkId = $chunkIdParam\n",
        "    RETURN c1.chunkId, c2.chunkId, c3.chunkId\n",
        "    \"\"\"\n",
        "\n",
        "kg.query(cypher,\n",
        "         params={'chunkIdParam': next_chunk_info['chunkId']})"
      ],
      "metadata": {
        "colab": {
          "base_uri": "https://localhost:8080/"
        },
        "id": "QGMgrQdxW0uZ",
        "outputId": "0fb61b62-a4d9-42db-d71c-e49700b88232"
      },
      "execution_count": null,
      "outputs": [
        {
          "output_type": "execute_result",
          "data": {
            "text/plain": [
              "[{'c1.chunkId': '0000950170-23-027948-item1-chunk0000',\n",
              "  'c2.chunkId': '0000950170-23-027948-item1-chunk0001',\n",
              "  'c3.chunkId': '0000950170-23-027948-item1-chunk0002'}]"
            ]
          },
          "metadata": {},
          "execution_count": 23
        }
      ]
    },
    {
      "cell_type": "code",
      "source": [
        "cypher = \"\"\"\n",
        "    MATCH window = (c1:Chunk)-[:NEXT]->(c2:Chunk)-[:NEXT]->(c3:Chunk)\n",
        "        WHERE c1.chunkId = $chunkIdParam\n",
        "    RETURN length(window) as windowPathLength\n",
        "    \"\"\"\n",
        "\n",
        "kg.query(cypher,\n",
        "         params={'chunkIdParam': next_chunk_info['chunkId']})"
      ],
      "metadata": {
        "colab": {
          "base_uri": "https://localhost:8080/"
        },
        "id": "ChF1qUrbW45q",
        "outputId": "fb362afe-b5b4-401e-f9ac-a177bf9ff00b"
      },
      "execution_count": null,
      "outputs": [
        {
          "output_type": "execute_result",
          "data": {
            "text/plain": [
              "[{'windowPathLength': 2}]"
            ]
          },
          "metadata": {},
          "execution_count": 24
        }
      ]
    },
    {
      "cell_type": "code",
      "source": [
        "cypher = \"\"\"\n",
        "    MATCH window=(c1:Chunk)-[:NEXT]->(c2:Chunk)-[:NEXT]->(c3:Chunk)\n",
        "        WHERE c2.chunkId = $chunkIdParam\n",
        "    RETURN nodes(window) as chunkList\n",
        "    \"\"\"\n",
        "# pull the chunk ID from the first\n",
        "kg.query(cypher,\n",
        "         params={'chunkIdParam': first_chunk_info['chunkId']})"
      ],
      "metadata": {
        "colab": {
          "base_uri": "https://localhost:8080/"
        },
        "id": "ldIIa2nRW5Zd",
        "outputId": "b1114386-95bf-4817-a284-cc40ed7afcab"
      },
      "execution_count": null,
      "outputs": [
        {
          "output_type": "execute_result",
          "data": {
            "text/plain": [
              "[]"
            ]
          },
          "metadata": {},
          "execution_count": 25
        }
      ]
    },
    {
      "cell_type": "code",
      "source": [
        "cypher = \"\"\"\n",
        "  MATCH window=\n",
        "      (:Chunk)-[:NEXT*0..1]->(c:Chunk)-[:NEXT*0..1]->(:Chunk)\n",
        "    WHERE c.chunkId = $chunkIdParam\n",
        "  RETURN length(window)\n",
        "  \"\"\"\n",
        "\n",
        "kg.query(cypher,\n",
        "         params={'chunkIdParam': first_chunk_info['chunkId']})"
      ],
      "metadata": {
        "colab": {
          "base_uri": "https://localhost:8080/"
        },
        "id": "I9YYC1cuW8Fj",
        "outputId": "60ef1db7-2429-436e-8ec6-dd0656a52791"
      },
      "execution_count": null,
      "outputs": [
        {
          "output_type": "execute_result",
          "data": {
            "text/plain": [
              "[{'length(window)': 0}, {'length(window)': 1}]"
            ]
          },
          "metadata": {},
          "execution_count": 26
        }
      ]
    },
    {
      "cell_type": "code",
      "source": [
        "cypher = \"\"\"\n",
        "  MATCH window=\n",
        "      (:Chunk)-[:NEXT*0..1]->(c:Chunk)-[:NEXT*0..1]->(:Chunk)\n",
        "    WHERE c.chunkId = $chunkIdParam\n",
        "  WITH window as longestChunkWindow\n",
        "      ORDER BY length(window) DESC LIMIT 1\n",
        "  RETURN length(longestChunkWindow)\n",
        "  \"\"\"\n",
        "\n",
        "kg.query(cypher,\n",
        "         params={'chunkIdParam': first_chunk_info['chunkId']})"
      ],
      "metadata": {
        "colab": {
          "base_uri": "https://localhost:8080/"
        },
        "id": "MtYlmDaYW-Io",
        "outputId": "8389dc72-33b0-498d-c6da-4dee8608bdc2"
      },
      "execution_count": null,
      "outputs": [
        {
          "output_type": "execute_result",
          "data": {
            "text/plain": [
              "[{'length(longestChunkWindow)': 1}]"
            ]
          },
          "metadata": {},
          "execution_count": 27
        }
      ]
    },
    {
      "cell_type": "code",
      "source": [
        "retrieval_query_extra_text = \"\"\"\n",
        "WITH node, score, \"Andreas knows Cypher. \" as extraText\n",
        "RETURN extraText + \"\\n\" + node.text as text,\n",
        "    score,\n",
        "    node {.source} AS metadata\n",
        "\"\"\""
      ],
      "metadata": {
        "id": "xE5HSN5lW_3E"
      },
      "execution_count": null,
      "outputs": []
    },
    {
      "cell_type": "code",
      "source": [
        "vector_store_extra_text = Neo4jVector.from_existing_index(\n",
        "    embedding=GoogleGenerativeAIEmbeddings(\n",
        "    model=\"models/text-embedding-004\",\n",
        "    google_api_key=GEMINI_API_KEY\n",
        "),\n",
        "    url=NEO4J_URI,\n",
        "    username=NEO4J_USERNAME,\n",
        "    password=NEO4J_PASSWORD,\n",
        "    database=\"neo4j\",\n",
        "    index_name=VECTOR_INDEX_NAME,\n",
        "    text_node_property=VECTOR_SOURCE_PROPERTY,\n",
        "    retrieval_query=retrieval_query_extra_text,\n",
        ")"
      ],
      "metadata": {
        "id": "YXtutyWxXCeS"
      },
      "execution_count": null,
      "outputs": []
    },
    {
      "cell_type": "code",
      "source": [
        "retriever_extra_text = vector_store_extra_text.as_retriever()"
      ],
      "metadata": {
        "id": "58MwaN_XXPtR"
      },
      "execution_count": null,
      "outputs": []
    },
    {
      "cell_type": "code",
      "source": [
        "chain_extra_text = RetrievalQAWithSourcesChain.from_chain_type(\n",
        "    ChatGoogleGenerativeAI(\n",
        "        model=\"gemini-2.0-flash\",\n",
        "        google_api_key=GEMINI_API_KEY,\n",
        "        temperature=0\n",
        "    ),\n",
        "    chain_type=\"stuff\",\n",
        "    retriever=retriever_extra_text\n",
        ")"
      ],
      "metadata": {
        "id": "ExZsvpkxYDGU"
      },
      "execution_count": null,
      "outputs": []
    },
    {
      "cell_type": "code",
      "source": [
        "chain_extra_text(\n",
        "    {\"question\": \"What ALL topics does Andreas know about?\"},\n",
        "    return_only_outputs=True)"
      ],
      "metadata": {
        "colab": {
          "base_uri": "https://localhost:8080/"
        },
        "id": "4gtJzvZkYNiR",
        "outputId": "4b823e4b-cf7c-40b2-e826-bde669241cd9"
      },
      "execution_count": null,
      "outputs": [
        {
          "output_type": "execute_result",
          "data": {
            "text/plain": [
              "{'answer': 'Andreas knows about:\\n\\n*   Cypher\\n*   Manufacturing and Supply Chain\\n*   BlueXP Sync service\\n*   BlueXP Tiering service\\n*   NetApp Backup service\\n*   BlueXP Compliance service\\n*   BlueXP Cache service\\n*   Cloud operations services\\n*   NetApp Cloud Insights\\n*   Spot by NetApp\\n*   NetApp Astra (Astra)\\n*   Storage infrastructure\\n*   NetApp All-Flash FAS (AFF A-Series)\\n*   NetApp QLC-Flash FAS (AFF C-Series)\\n*   NetApp Fabric Attached Storage (FAS) series\\n*   Instaclustr\\n*   Professional and Support Services\\n*   NetApp strategic consulting services\\n*   NetApp Professional Services\\n*   NetApp Managed Services\\n\\n',\n",
              " 'sources': '[https://www.sec.gov/Archives/edgar/data/1002047/000095017023027948/0000950170-23-027948-index.htm](https://www.sec.gov/Archives/edgar/data/1002047/000095017023027948/0000950170-23-027948-index.htm)'}"
            ]
          },
          "metadata": {},
          "execution_count": 37
        }
      ]
    },
    {
      "cell_type": "code",
      "source": [
        "chain_extra_text(\n",
        "    {\"question\": \"What single topic does Andreas know about?\"},\n",
        "    return_only_outputs=True)"
      ],
      "metadata": {
        "colab": {
          "base_uri": "https://localhost:8080/"
        },
        "id": "xgJlgw0LYaTt",
        "outputId": "05508883-016a-4c97-e854-31d43bc1dd05"
      },
      "execution_count": null,
      "outputs": [
        {
          "output_type": "execute_result",
          "data": {
            "text/plain": [
              "{'answer': 'Andreas knows Cypher.\\n',\n",
              " 'sources': 'https://www.sec.gov/Archives/edgar/data/1002047/000095017023027948/0000950170-23-027948-index.htm'}"
            ]
          },
          "metadata": {},
          "execution_count": 36
        }
      ]
    },
    {
      "cell_type": "code",
      "source": [
        "neo4j_vector_store = Neo4jVector.from_existing_graph(\n",
        "   GoogleGenerativeAIEmbeddings(\n",
        "    model=\"models/text-embedding-004\",\n",
        "    google_api_key=GEMINI_API_KEY\n",
        "),\n",
        "    url=NEO4J_URI,\n",
        "    username=NEO4J_USERNAME,\n",
        "    password=NEO4J_PASSWORD,\n",
        "    index_name=VECTOR_INDEX_NAME,\n",
        "    node_label=VECTOR_NODE_LABEL,\n",
        "    text_node_properties=[VECTOR_SOURCE_PROPERTY],\n",
        "    embedding_node_property=VECTOR_EMBEDDING_PROPERTY,\n",
        ")"
      ],
      "metadata": {
        "id": "z7nE2FW6YeF9"
      },
      "execution_count": null,
      "outputs": []
    },
    {
      "cell_type": "code",
      "source": [
        "windowless_retriever = neo4j_vector_store.as_retriever()"
      ],
      "metadata": {
        "id": "Xs5gX9QzYu7U"
      },
      "execution_count": null,
      "outputs": []
    },
    {
      "cell_type": "code",
      "source": [
        "windowless_chain = RetrievalQAWithSourcesChain.from_chain_type(\n",
        "    ChatGoogleGenerativeAI(\n",
        "        model=\"gemini-2.0-flash\",\n",
        "        google_api_key=GEMINI_API_KEY,\n",
        "        temperature=0\n",
        "    ),\n",
        "    chain_type=\"stuff\",\n",
        "    retriever=windowless_retriever\n",
        ")"
      ],
      "metadata": {
        "id": "vF651dggYxPb"
      },
      "execution_count": null,
      "outputs": []
    },
    {
      "cell_type": "code",
      "source": [
        "retrieval_query_window = \"\"\"\n",
        "MATCH window=\n",
        "    (:Chunk)-[:NEXT*0..1]->(node)-[:NEXT*0..1]->(:Chunk)\n",
        "WITH node, score, window as longestWindow\n",
        "  ORDER BY length(window) DESC LIMIT 1\n",
        "WITH nodes(longestWindow) as chunkList, node, score\n",
        "  UNWIND chunkList as chunkRows\n",
        "WITH collect(chunkRows.text) as textList, node, score\n",
        "RETURN apoc.text.join(textList, \" \\n \") as text,\n",
        "    score,\n",
        "    node {.source} AS metadata\n",
        "\"\"\""
      ],
      "metadata": {
        "id": "f8fKJ0ktY1yS"
      },
      "execution_count": null,
      "outputs": []
    },
    {
      "cell_type": "code",
      "source": [
        "vector_store_window = Neo4jVector.from_existing_index(\n",
        "    embedding=GoogleGenerativeAIEmbeddings(\n",
        "    model=\"models/text-embedding-004\",\n",
        "    google_api_key=GEMINI_API_KEY\n",
        "),\n",
        "    url=NEO4J_URI,\n",
        "    username=NEO4J_USERNAME,\n",
        "    password=NEO4J_PASSWORD,\n",
        "    database=\"neo4j\",\n",
        "    index_name=VECTOR_INDEX_NAME,\n",
        "    text_node_property=VECTOR_SOURCE_PROPERTY,\n",
        "    retrieval_query=retrieval_query_window, # NEW!!!\n",
        ")"
      ],
      "metadata": {
        "id": "vg16MMxcY4oK"
      },
      "execution_count": null,
      "outputs": []
    },
    {
      "cell_type": "code",
      "source": [
        "retriever_window = vector_store_window.as_retriever()"
      ],
      "metadata": {
        "id": "A8kD3UbmZEUe"
      },
      "execution_count": null,
      "outputs": []
    },
    {
      "cell_type": "code",
      "source": [
        "chain_window = RetrievalQAWithSourcesChain.from_chain_type(\n",
        "    ChatGoogleGenerativeAI(\n",
        "        model=\"gemini-2.0-flash\",\n",
        "        google_api_key=GEMINI_API_KEY,\n",
        "        temperature=0\n",
        "    ),\n",
        "    chain_type=\"stuff\",\n",
        "    retriever=retriever_window\n",
        ")"
      ],
      "metadata": {
        "id": "dVVZf_c6ZGdD"
      },
      "execution_count": null,
      "outputs": []
    },
    {
      "cell_type": "code",
      "source": [
        "question = \"In a single sentence, tell me about Netapp's business.\""
      ],
      "metadata": {
        "id": "nqVF_MIEZJ3U"
      },
      "execution_count": null,
      "outputs": []
    },
    {
      "cell_type": "code",
      "source": [
        "answer = windowless_chain(\n",
        "    {\"question\": question},\n",
        "    return_only_outputs=True,\n",
        ")\n",
        "print(textwrap.fill(answer[\"answer\"]))"
      ],
      "metadata": {
        "id": "2i-21plAZMTn",
        "outputId": "d982d700-c898-462d-a325-d307f15a8a15",
        "colab": {
          "base_uri": "https://localhost:8080/"
        }
      },
      "execution_count": null,
      "outputs": [
        {
          "output_type": "stream",
          "name": "stdout",
          "text": [
            "NetApp is a global cloud-led, data-centric software company that helps\n",
            "customers manage applications and data across hybrid multicloud\n",
            "environments.\n"
          ]
        }
      ]
    },
    {
      "cell_type": "code",
      "source": [
        "answer = chain_window(\n",
        "    {\"question\": question},\n",
        "    return_only_outputs=True,\n",
        ")\n",
        "print(textwrap.fill(answer[\"answer\"]))"
      ],
      "metadata": {
        "id": "T7qr8S2EZN1z",
        "outputId": "d09123bb-e380-4c35-dbc4-310cdfcd6642",
        "colab": {
          "base_uri": "https://localhost:8080/"
        }
      },
      "execution_count": null,
      "outputs": [
        {
          "output_type": "stream",
          "name": "stdout",
          "text": [
            "NetApp focuses primarily on enterprise storage and data management,\n",
            "cloud storage, and cloud operations markets, offering products,\n",
            "solutions, and services to end-user business customers and service\n",
            "providers through a direct sales force and an ecosystem of partners.\n"
          ]
        }
      ]
    },
    {
      "cell_type": "code",
      "source": [],
      "metadata": {
        "id": "NhLSGwGoZPbH"
      },
      "execution_count": null,
      "outputs": []
    }
  ]
}